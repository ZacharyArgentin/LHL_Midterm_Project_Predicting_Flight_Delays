{
 "cells": [
  {
   "cell_type": "markdown",
   "metadata": {},
   "source": [
    "## Exploratory Data Analysis\n",
    "\n",
    "Use this notebook to get familiar with the datasets we have. There is 10 questions we need to answer during the EDA.\n",
    "\n",
    "\n",
    "We shouldn't limit our EDA to these 10 questions. Let's be creative :)."
   ]
  },
  {
   "cell_type": "code",
   "execution_count": 1,
   "metadata": {},
   "outputs": [],
   "source": [
    "import pandas as pd\n",
    "import numpy as np\n",
    "from matplotlib import pyplot\n",
    "import seaborn as sns"
   ]
  },
  {
   "cell_type": "code",
   "execution_count": 2,
   "metadata": {},
   "outputs": [],
   "source": [
    "from IPython.core.interactiveshell import InteractiveShell\n",
    "InteractiveShell.ast_node_interactivity = \"all\""
   ]
  },
  {
   "cell_type": "code",
   "execution_count": 3,
   "metadata": {},
   "outputs": [],
   "source": [
    "pd.set_option(\"display.max_columns\", None)"
   ]
  },
  {
   "cell_type": "code",
   "execution_count": 4,
   "metadata": {},
   "outputs": [],
   "source": [
    "# import csv file with the proper dtypes\n",
    "dtype_dict = {\n",
    " 'branded_code_share': 'string',\n",
    " 'mkt_carrier': 'string',\n",
    " 'mkt_carrier_fl_num': 'string',\n",
    " 'op_unique_carrier': 'string',\n",
    " 'tail_num': 'string',\n",
    " 'op_carrier_fl_num': 'string',\n",
    " 'origin_airport_id': 'string',\n",
    " 'origin': 'string',\n",
    " 'origin_city_name': 'string',\n",
    " 'dest_airport_id': 'string',\n",
    " 'dest': 'string',\n",
    " 'dest_city_name': 'string',\n",
    " 'crs_dep_time': 'int64',\n",
    " 'dep_time': 'int64',\n",
    " 'dep_delay': 'int64',\n",
    " 'taxi_out': 'int64',\n",
    " 'wheels_off': 'int64',\n",
    " 'wheels_on': 'int64',\n",
    " 'taxi_in': 'int64',\n",
    " 'crs_arr_time': 'int64',\n",
    " 'arr_time': 'int64',\n",
    " 'arr_delay': 'int64',\n",
    " 'crs_elapsed_time': 'int64',\n",
    " 'actual_elapsed_time': 'int64',\n",
    " 'air_time': 'int64',\n",
    " 'distance': 'int64'}\n",
    "df = pd.read_csv(\"../LHL_Midterm_Project_Predicting_Flight_Delays/data/ransmpl_clean.csv\", parse_dates=[0], dtype=dtype_dict)"
   ]
  },
  {
   "cell_type": "code",
   "execution_count": 5,
   "metadata": {},
   "outputs": [
    {
     "data": {
      "text/html": [
       "<div>\n",
       "<style scoped>\n",
       "    .dataframe tbody tr th:only-of-type {\n",
       "        vertical-align: middle;\n",
       "    }\n",
       "\n",
       "    .dataframe tbody tr th {\n",
       "        vertical-align: top;\n",
       "    }\n",
       "\n",
       "    .dataframe thead th {\n",
       "        text-align: right;\n",
       "    }\n",
       "</style>\n",
       "<table border=\"1\" class=\"dataframe\">\n",
       "  <thead>\n",
       "    <tr style=\"text-align: right;\">\n",
       "      <th></th>\n",
       "      <th>fl_date</th>\n",
       "      <th>branded_code_share</th>\n",
       "      <th>mkt_carrier</th>\n",
       "      <th>mkt_carrier_fl_num</th>\n",
       "      <th>op_unique_carrier</th>\n",
       "      <th>tail_num</th>\n",
       "      <th>op_carrier_fl_num</th>\n",
       "      <th>origin_airport_id</th>\n",
       "      <th>origin</th>\n",
       "      <th>origin_city_name</th>\n",
       "      <th>dest_airport_id</th>\n",
       "      <th>dest</th>\n",
       "      <th>dest_city_name</th>\n",
       "      <th>crs_dep_time</th>\n",
       "      <th>dep_time</th>\n",
       "      <th>dep_delay</th>\n",
       "      <th>taxi_out</th>\n",
       "      <th>wheels_off</th>\n",
       "      <th>wheels_on</th>\n",
       "      <th>taxi_in</th>\n",
       "      <th>crs_arr_time</th>\n",
       "      <th>arr_time</th>\n",
       "      <th>arr_delay</th>\n",
       "      <th>crs_elapsed_time</th>\n",
       "      <th>actual_elapsed_time</th>\n",
       "      <th>air_time</th>\n",
       "      <th>distance</th>\n",
       "    </tr>\n",
       "  </thead>\n",
       "  <tbody>\n",
       "    <tr>\n",
       "      <th>0</th>\n",
       "      <td>2018-03-07</td>\n",
       "      <td>AA</td>\n",
       "      <td>AA</td>\n",
       "      <td>465</td>\n",
       "      <td>AA</td>\n",
       "      <td>N200UU</td>\n",
       "      <td>465</td>\n",
       "      <td>14107</td>\n",
       "      <td>PHX</td>\n",
       "      <td>Phoenix, AZ</td>\n",
       "      <td>14679</td>\n",
       "      <td>SAN</td>\n",
       "      <td>San Diego, CA</td>\n",
       "      <td>835</td>\n",
       "      <td>833</td>\n",
       "      <td>-2</td>\n",
       "      <td>13</td>\n",
       "      <td>846</td>\n",
       "      <td>838</td>\n",
       "      <td>2</td>\n",
       "      <td>851</td>\n",
       "      <td>840</td>\n",
       "      <td>-11</td>\n",
       "      <td>76</td>\n",
       "      <td>67</td>\n",
       "      <td>52</td>\n",
       "      <td>304</td>\n",
       "    </tr>\n",
       "    <tr>\n",
       "      <th>1</th>\n",
       "      <td>2018-03-07</td>\n",
       "      <td>AA</td>\n",
       "      <td>AA</td>\n",
       "      <td>591</td>\n",
       "      <td>AA</td>\n",
       "      <td>N833AW</td>\n",
       "      <td>591</td>\n",
       "      <td>11057</td>\n",
       "      <td>CLT</td>\n",
       "      <td>Charlotte, NC</td>\n",
       "      <td>11278</td>\n",
       "      <td>DCA</td>\n",
       "      <td>Washington, DC</td>\n",
       "      <td>1431</td>\n",
       "      <td>1537</td>\n",
       "      <td>66</td>\n",
       "      <td>16</td>\n",
       "      <td>1553</td>\n",
       "      <td>1648</td>\n",
       "      <td>3</td>\n",
       "      <td>1559</td>\n",
       "      <td>1651</td>\n",
       "      <td>52</td>\n",
       "      <td>88</td>\n",
       "      <td>74</td>\n",
       "      <td>55</td>\n",
       "      <td>331</td>\n",
       "    </tr>\n",
       "    <tr>\n",
       "      <th>2</th>\n",
       "      <td>2018-03-07</td>\n",
       "      <td>AA</td>\n",
       "      <td>AA</td>\n",
       "      <td>600</td>\n",
       "      <td>AA</td>\n",
       "      <td>N151UW</td>\n",
       "      <td>600</td>\n",
       "      <td>11697</td>\n",
       "      <td>FLL</td>\n",
       "      <td>Fort Lauderdale, FL</td>\n",
       "      <td>11057</td>\n",
       "      <td>CLT</td>\n",
       "      <td>Charlotte, NC</td>\n",
       "      <td>603</td>\n",
       "      <td>557</td>\n",
       "      <td>-6</td>\n",
       "      <td>18</td>\n",
       "      <td>615</td>\n",
       "      <td>746</td>\n",
       "      <td>19</td>\n",
       "      <td>809</td>\n",
       "      <td>805</td>\n",
       "      <td>-4</td>\n",
       "      <td>126</td>\n",
       "      <td>128</td>\n",
       "      <td>91</td>\n",
       "      <td>632</td>\n",
       "    </tr>\n",
       "    <tr>\n",
       "      <th>3</th>\n",
       "      <td>2018-03-07</td>\n",
       "      <td>AA</td>\n",
       "      <td>AA</td>\n",
       "      <td>1805</td>\n",
       "      <td>AA</td>\n",
       "      <td>N924US</td>\n",
       "      <td>1805</td>\n",
       "      <td>11057</td>\n",
       "      <td>CLT</td>\n",
       "      <td>Charlotte, NC</td>\n",
       "      <td>10721</td>\n",
       "      <td>BOS</td>\n",
       "      <td>Boston, MA</td>\n",
       "      <td>1135</td>\n",
       "      <td>1129</td>\n",
       "      <td>-6</td>\n",
       "      <td>11</td>\n",
       "      <td>1140</td>\n",
       "      <td>1312</td>\n",
       "      <td>12</td>\n",
       "      <td>1352</td>\n",
       "      <td>1324</td>\n",
       "      <td>-28</td>\n",
       "      <td>137</td>\n",
       "      <td>115</td>\n",
       "      <td>92</td>\n",
       "      <td>728</td>\n",
       "    </tr>\n",
       "    <tr>\n",
       "      <th>4</th>\n",
       "      <td>2018-03-07</td>\n",
       "      <td>AA</td>\n",
       "      <td>AA</td>\n",
       "      <td>2615</td>\n",
       "      <td>AA</td>\n",
       "      <td>N945NN</td>\n",
       "      <td>2615</td>\n",
       "      <td>11057</td>\n",
       "      <td>CLT</td>\n",
       "      <td>Charlotte, NC</td>\n",
       "      <td>15370</td>\n",
       "      <td>TUL</td>\n",
       "      <td>Tulsa, OK</td>\n",
       "      <td>1820</td>\n",
       "      <td>1812</td>\n",
       "      <td>-8</td>\n",
       "      <td>11</td>\n",
       "      <td>1823</td>\n",
       "      <td>1936</td>\n",
       "      <td>6</td>\n",
       "      <td>2002</td>\n",
       "      <td>1942</td>\n",
       "      <td>-20</td>\n",
       "      <td>162</td>\n",
       "      <td>150</td>\n",
       "      <td>133</td>\n",
       "      <td>842</td>\n",
       "    </tr>\n",
       "  </tbody>\n",
       "</table>\n",
       "</div>"
      ],
      "text/plain": [
       "     fl_date branded_code_share mkt_carrier mkt_carrier_fl_num  \\\n",
       "0 2018-03-07                 AA          AA                465   \n",
       "1 2018-03-07                 AA          AA                591   \n",
       "2 2018-03-07                 AA          AA                600   \n",
       "3 2018-03-07                 AA          AA               1805   \n",
       "4 2018-03-07                 AA          AA               2615   \n",
       "\n",
       "  op_unique_carrier tail_num op_carrier_fl_num origin_airport_id origin  \\\n",
       "0                AA   N200UU               465             14107    PHX   \n",
       "1                AA   N833AW               591             11057    CLT   \n",
       "2                AA   N151UW               600             11697    FLL   \n",
       "3                AA   N924US              1805             11057    CLT   \n",
       "4                AA   N945NN              2615             11057    CLT   \n",
       "\n",
       "      origin_city_name dest_airport_id dest  dest_city_name  crs_dep_time  \\\n",
       "0          Phoenix, AZ           14679  SAN   San Diego, CA           835   \n",
       "1        Charlotte, NC           11278  DCA  Washington, DC          1431   \n",
       "2  Fort Lauderdale, FL           11057  CLT   Charlotte, NC           603   \n",
       "3        Charlotte, NC           10721  BOS      Boston, MA          1135   \n",
       "4        Charlotte, NC           15370  TUL       Tulsa, OK          1820   \n",
       "\n",
       "   dep_time  dep_delay  taxi_out  wheels_off  wheels_on  taxi_in  \\\n",
       "0       833         -2        13         846        838        2   \n",
       "1      1537         66        16        1553       1648        3   \n",
       "2       557         -6        18         615        746       19   \n",
       "3      1129         -6        11        1140       1312       12   \n",
       "4      1812         -8        11        1823       1936        6   \n",
       "\n",
       "   crs_arr_time  arr_time  arr_delay  crs_elapsed_time  actual_elapsed_time  \\\n",
       "0           851       840        -11                76                   67   \n",
       "1          1559      1651         52                88                   74   \n",
       "2           809       805         -4               126                  128   \n",
       "3          1352      1324        -28               137                  115   \n",
       "4          2002      1942        -20               162                  150   \n",
       "\n",
       "   air_time  distance  \n",
       "0        52       304  \n",
       "1        55       331  \n",
       "2        91       632  \n",
       "3        92       728  \n",
       "4       133       842  "
      ]
     },
     "execution_count": 5,
     "metadata": {},
     "output_type": "execute_result"
    }
   ],
   "source": [
    "df.head()"
   ]
  },
  {
   "cell_type": "code",
   "execution_count": 6,
   "metadata": {},
   "outputs": [],
   "source": [
    "# removing arr_delay outliers (more than 3 std deviations away from mean)\n",
    "outliers = df[df[\"arr_delay\"].gt(round(df[\"arr_delay\"].mean() + df[\"arr_delay\"].std()*3))]\n",
    "df2 = df[df[\"arr_delay\"].le(round(df[\"arr_delay\"].mean() + df[\"arr_delay\"].std()*3))]"
   ]
  },
  {
   "cell_type": "code",
   "execution_count": 7,
   "metadata": {},
   "outputs": [
    {
     "data": {
      "text/plain": [
       "6192"
      ]
     },
     "execution_count": 7,
     "metadata": {},
     "output_type": "execute_result"
    },
    {
     "data": {
      "text/plain": [
       "0.015874562244589267"
      ]
     },
     "execution_count": 7,
     "metadata": {},
     "output_type": "execute_result"
    }
   ],
   "source": [
    "outliers.shape[0]\n",
    "\n",
    "outliers.shape[0] / df.shape[0] # percentage of outliers in dataset"
   ]
  },
  {
   "cell_type": "code",
   "execution_count": 8,
   "metadata": {},
   "outputs": [
    {
     "data": {
      "text/plain": [
       "383866"
      ]
     },
     "execution_count": 8,
     "metadata": {},
     "output_type": "execute_result"
    },
    {
     "data": {
      "text/plain": [
       "0.9841254377554107"
      ]
     },
     "execution_count": 8,
     "metadata": {},
     "output_type": "execute_result"
    }
   ],
   "source": [
    "df2.shape[0]\n",
    "\n",
    "df2.shape[0] / df.shape[0]  # percentage of datapoints within 3 std deviations"
   ]
  },
  {
   "cell_type": "markdown",
   "metadata": {},
   "source": [
    "df - data  \n",
    "df2 - data with arr_delay outliers removed"
   ]
  },
  {
   "cell_type": "markdown",
   "metadata": {},
   "source": [
    "#### **Task 1**: Test the hypothesis that the delay is from Normal distribution. and that **mean** of the delay is 0. Be careful about the outliers."
   ]
  },
  {
   "cell_type": "code",
   "execution_count": 9,
   "metadata": {},
   "outputs": [
    {
     "data": {
      "text/plain": [
       "5.499105261268837"
      ]
     },
     "execution_count": 9,
     "metadata": {},
     "output_type": "execute_result"
    },
    {
     "data": {
      "text/plain": [
       "-6.0"
      ]
     },
     "execution_count": 9,
     "metadata": {},
     "output_type": "execute_result"
    },
    {
     "data": {
      "text/plain": [
       "50.11498716433284"
      ]
     },
     "execution_count": 9,
     "metadata": {},
     "output_type": "execute_result"
    },
    {
     "data": {
      "text/plain": [
       "-85"
      ]
     },
     "execution_count": 9,
     "metadata": {},
     "output_type": "execute_result"
    },
    {
     "data": {
      "text/plain": [
       "1863"
      ]
     },
     "execution_count": 9,
     "metadata": {},
     "output_type": "execute_result"
    }
   ],
   "source": [
    "# stats\n",
    "df[\"arr_delay\"].mean()\n",
    "df[\"arr_delay\"].median()\n",
    "df[\"arr_delay\"].std()\n",
    "df[\"arr_delay\"].min()\n",
    "df[\"arr_delay\"].max()"
   ]
  },
  {
   "cell_type": "code",
   "execution_count": 10,
   "metadata": {},
   "outputs": [
    {
     "data": {
      "text/plain": [
       "1.138506666388792"
      ]
     },
     "execution_count": 10,
     "metadata": {},
     "output_type": "execute_result"
    },
    {
     "data": {
      "text/plain": [
       "-6.0"
      ]
     },
     "execution_count": 10,
     "metadata": {},
     "output_type": "execute_result"
    },
    {
     "data": {
      "text/plain": [
       "28.469162705709646"
      ]
     },
     "execution_count": 10,
     "metadata": {},
     "output_type": "execute_result"
    },
    {
     "data": {
      "text/plain": [
       "-85"
      ]
     },
     "execution_count": 10,
     "metadata": {},
     "output_type": "execute_result"
    },
    {
     "data": {
      "text/plain": [
       "156"
      ]
     },
     "execution_count": 10,
     "metadata": {},
     "output_type": "execute_result"
    }
   ],
   "source": [
    "# no outlier df stats\n",
    "df2[\"arr_delay\"].mean()\n",
    "df2[\"arr_delay\"].median()\n",
    "df2[\"arr_delay\"].std()\n",
    "df2[\"arr_delay\"].min()\n",
    "df2[\"arr_delay\"].max()"
   ]
  },
  {
   "cell_type": "code",
   "execution_count": 11,
   "metadata": {},
   "outputs": [
    {
     "data": {
      "text/plain": [
       "<seaborn.axisgrid.FacetGrid at 0x7feb99525370>"
      ]
     },
     "execution_count": 11,
     "metadata": {},
     "output_type": "execute_result"
    },
    {
     "data": {
      "text/plain": [
       "(-85.0, 85.0)"
      ]
     },
     "execution_count": 11,
     "metadata": {},
     "output_type": "execute_result"
    },
    {
     "data": {
      "image/png": "[encoded data removed]",
      "text/plain": [
       "<Figure size 360x360 with 1 Axes>"
      ]
     },
     "metadata": {
      "needs_background": "light"
     },
     "output_type": "display_data"
    }
   ],
   "source": [
    "sns.displot(df[\"arr_delay\"], bins=300)\n",
    "pyplot.xlim(-85, 85)\n",
    "\n",
    "pyplot.show()"
   ]
  },
  {
   "cell_type": "code",
   "execution_count": 12,
   "metadata": {},
   "outputs": [
    {
     "data": {
      "text/plain": [
       "<AxesSubplot:xlabel='arr_delay', ylabel='Count'>"
      ]
     },
     "execution_count": 12,
     "metadata": {},
     "output_type": "execute_result"
    },
    {
     "data": {
      "text/plain": [
       "(-85.0, 85.0)"
      ]
     },
     "execution_count": 12,
     "metadata": {},
     "output_type": "execute_result"
    },
    {
     "data": {
      "image/png": "[encoded data removed]",
      "text/plain": [
       "<Figure size 432x288 with 1 Axes>"
      ]
     },
     "metadata": {
      "needs_background": "light"
     },
     "output_type": "display_data"
    }
   ],
   "source": [
    "sns.histplot(df[\"arr_delay\"])\n",
    "pyplot.xlim(-85,85)"
   ]
  },
  {
   "cell_type": "markdown",
   "metadata": {},
   "source": [
    "**Analysis**\n",
    "\n",
    "Looks like the distribution is normal but is slightly skewed.  \n",
    "Mean is probably around -10 minutes when ignoring outliers."
   ]
  },
  {
   "cell_type": "markdown",
   "metadata": {},
   "source": [
    "#### **Task 2**: Is average/median monthly delay different during the year? If yes, which are months with the biggest delays and what could be the reason?"
   ]
  },
  {
   "cell_type": "code",
   "execution_count": 13,
   "metadata": {},
   "outputs": [],
   "source": [
    "months = [\"Jan\", \"Feb\", \"Mar\", \"Apr\", \"May\", \"Jun\", \"Jul\", \"Aug\", \"Sep\", \"Oct\", \"Nov\", \"Dec\"]"
   ]
  },
  {
   "cell_type": "code",
   "execution_count": 14,
   "metadata": {},
   "outputs": [],
   "source": [
    "data1 = df[[\"fl_date\", \"arr_delay\"]].groupby(df[\"fl_date\"].dt.month).median()\n",
    "data1.index = months"
   ]
  },
  {
   "cell_type": "code",
   "execution_count": 15,
   "metadata": {},
   "outputs": [],
   "source": [
    "data2 = df2[[\"fl_date\", \"arr_delay\"]].groupby(df[\"fl_date\"].dt.month).median()\n",
    "data2.index = months"
   ]
  },
  {
   "cell_type": "code",
   "execution_count": 16,
   "metadata": {},
   "outputs": [],
   "source": [
    "data3 = df[[\"fl_date\", \"arr_delay\"]].groupby(df[\"fl_date\"].dt.month).mean()\n",
    "data3.index = months"
   ]
  },
  {
   "cell_type": "code",
   "execution_count": 17,
   "metadata": {},
   "outputs": [],
   "source": [
    "data4 = df2[[\"fl_date\", \"arr_delay\"]].groupby(df[\"fl_date\"].dt.month).mean()\n",
    "data4.index = months"
   ]
  },
  {
   "cell_type": "code",
   "execution_count": 18,
   "metadata": {},
   "outputs": [
    {
     "data": {
      "text/html": [
       "<div>\n",
       "<style scoped>\n",
       "    .dataframe tbody tr th:only-of-type {\n",
       "        vertical-align: middle;\n",
       "    }\n",
       "\n",
       "    .dataframe tbody tr th {\n",
       "        vertical-align: top;\n",
       "    }\n",
       "\n",
       "    .dataframe thead th {\n",
       "        text-align: right;\n",
       "    }\n",
       "</style>\n",
       "<table border=\"1\" class=\"dataframe\">\n",
       "  <thead>\n",
       "    <tr style=\"text-align: right;\">\n",
       "      <th></th>\n",
       "      <th>arr_delay</th>\n",
       "    </tr>\n",
       "  </thead>\n",
       "  <tbody>\n",
       "    <tr>\n",
       "      <th>Jan</th>\n",
       "      <td>-7</td>\n",
       "    </tr>\n",
       "    <tr>\n",
       "      <th>Feb</th>\n",
       "      <td>-6</td>\n",
       "    </tr>\n",
       "    <tr>\n",
       "      <th>Mar</th>\n",
       "      <td>-6</td>\n",
       "    </tr>\n",
       "    <tr>\n",
       "      <th>Apr</th>\n",
       "      <td>-6</td>\n",
       "    </tr>\n",
       "    <tr>\n",
       "      <th>May</th>\n",
       "      <td>-6</td>\n",
       "    </tr>\n",
       "    <tr>\n",
       "      <th>Jun</th>\n",
       "      <td>-4</td>\n",
       "    </tr>\n",
       "    <tr>\n",
       "      <th>Jul</th>\n",
       "      <td>-5</td>\n",
       "    </tr>\n",
       "    <tr>\n",
       "      <th>Aug</th>\n",
       "      <td>-5</td>\n",
       "    </tr>\n",
       "    <tr>\n",
       "      <th>Sep</th>\n",
       "      <td>-8</td>\n",
       "    </tr>\n",
       "    <tr>\n",
       "      <th>Oct</th>\n",
       "      <td>-6</td>\n",
       "    </tr>\n",
       "    <tr>\n",
       "      <th>Nov</th>\n",
       "      <td>-7</td>\n",
       "    </tr>\n",
       "    <tr>\n",
       "      <th>Dec</th>\n",
       "      <td>-6</td>\n",
       "    </tr>\n",
       "  </tbody>\n",
       "</table>\n",
       "</div>"
      ],
      "text/plain": [
       "     arr_delay\n",
       "Jan         -7\n",
       "Feb         -6\n",
       "Mar         -6\n",
       "Apr         -6\n",
       "May         -6\n",
       "Jun         -4\n",
       "Jul         -5\n",
       "Aug         -5\n",
       "Sep         -8\n",
       "Oct         -6\n",
       "Nov         -7\n",
       "Dec         -6"
      ]
     },
     "execution_count": 18,
     "metadata": {},
     "output_type": "execute_result"
    }
   ],
   "source": [
    "data1"
   ]
  },
  {
   "cell_type": "code",
   "execution_count": 19,
   "metadata": {},
   "outputs": [
    {
     "data": {
      "image/png": "[encoded data removed]",
      "text/plain": [
       "<Figure size 1080x648 with 1 Axes>"
      ]
     },
     "metadata": {
      "needs_background": "light"
     },
     "output_type": "display_data"
    }
   ],
   "source": [
    "figure = pyplot.figure(figsize=(15,9))\n",
    "\n",
    "pyplot.plot(data1.index, data1[\"arr_delay\"], label=\"Median - All Flights\")\n",
    "pyplot.plot(data2.index, data2[\"arr_delay\"], label=\"Median - No Outlier Flights\")\n",
    "pyplot.plot(data3.index, data3[\"arr_delay\"], label=\"Mean - All Flights\")\n",
    "pyplot.plot(data4.index, data4[\"arr_delay\"], label=\"Mean - No Outlier Flights\")\n",
    "\n",
    "pyplot.ylabel(\"Arrival Delay in minutes\")\n",
    "pyplot.yticks(range(-10, 12, 2))\n",
    "pyplot.grid()\n",
    "pyplot.legend()\n",
    "pyplot.title(\"Average Flight Delay by Month\")\n",
    "\n",
    "pyplot.show();"
   ]
  },
  {
   "cell_type": "markdown",
   "metadata": {},
   "source": [
    "**Analysis**\n",
    "\n",
    "June, July, August, and Feb have the longest delays  \n",
    "Sep has the least delays\n",
    "\n",
    "Summer month delays are probably due to higher traffic (lots of people taking summer vacations)  \n",
    "The spike in delay length during february confuses me"
   ]
  },
  {
   "cell_type": "markdown",
   "metadata": {},
   "source": [
    "#### **Task 3**: Does the weather affect the delay? \n",
    "Use the API to pull the weather information for flights. There is no need to get weather for ALL flights. We can choose the right representative sample. Let's focus on four weather types:\n",
    "- sunny\n",
    "- cloudy\n",
    "- rainy\n",
    "- snow.\n",
    "Test the hypothesis that these 4 delays are from the same distribution. If they are not, which ones are significantly different?"
   ]
  },
  {
   "cell_type": "code",
   "execution_count": null,
   "metadata": {},
   "outputs": [],
   "source": []
  },
  {
   "cell_type": "markdown",
   "metadata": {},
   "source": [
    "I don't know how to go about this..."
   ]
  },
  {
   "cell_type": "code",
   "execution_count": null,
   "metadata": {},
   "outputs": [],
   "source": []
  },
  {
   "cell_type": "markdown",
   "metadata": {},
   "source": [
    "#### **Task 4**: How taxi times changing during the day? Does higher traffic lead to bigger taxi times?"
   ]
  },
  {
   "cell_type": "code",
   "execution_count": 20,
   "metadata": {},
   "outputs": [
    {
     "data": {
      "text/html": [
       "<div>\n",
       "<style scoped>\n",
       "    .dataframe tbody tr th:only-of-type {\n",
       "        vertical-align: middle;\n",
       "    }\n",
       "\n",
       "    .dataframe tbody tr th {\n",
       "        vertical-align: top;\n",
       "    }\n",
       "\n",
       "    .dataframe thead th {\n",
       "        text-align: right;\n",
       "    }\n",
       "</style>\n",
       "<table border=\"1\" class=\"dataframe\">\n",
       "  <thead>\n",
       "    <tr style=\"text-align: right;\">\n",
       "      <th></th>\n",
       "      <th>fl_date</th>\n",
       "      <th>branded_code_share</th>\n",
       "      <th>mkt_carrier</th>\n",
       "      <th>mkt_carrier_fl_num</th>\n",
       "      <th>op_unique_carrier</th>\n",
       "      <th>tail_num</th>\n",
       "      <th>op_carrier_fl_num</th>\n",
       "      <th>origin_airport_id</th>\n",
       "      <th>origin</th>\n",
       "      <th>origin_city_name</th>\n",
       "      <th>dest_airport_id</th>\n",
       "      <th>dest</th>\n",
       "      <th>dest_city_name</th>\n",
       "      <th>crs_dep_time</th>\n",
       "      <th>dep_time</th>\n",
       "      <th>dep_delay</th>\n",
       "      <th>taxi_out</th>\n",
       "      <th>wheels_off</th>\n",
       "      <th>wheels_on</th>\n",
       "      <th>taxi_in</th>\n",
       "      <th>crs_arr_time</th>\n",
       "      <th>arr_time</th>\n",
       "      <th>arr_delay</th>\n",
       "      <th>crs_elapsed_time</th>\n",
       "      <th>actual_elapsed_time</th>\n",
       "      <th>air_time</th>\n",
       "      <th>distance</th>\n",
       "    </tr>\n",
       "  </thead>\n",
       "  <tbody>\n",
       "    <tr>\n",
       "      <th>0</th>\n",
       "      <td>2018-03-07</td>\n",
       "      <td>AA</td>\n",
       "      <td>AA</td>\n",
       "      <td>465</td>\n",
       "      <td>AA</td>\n",
       "      <td>N200UU</td>\n",
       "      <td>465</td>\n",
       "      <td>14107</td>\n",
       "      <td>PHX</td>\n",
       "      <td>Phoenix, AZ</td>\n",
       "      <td>14679</td>\n",
       "      <td>SAN</td>\n",
       "      <td>San Diego, CA</td>\n",
       "      <td>835</td>\n",
       "      <td>833</td>\n",
       "      <td>-2</td>\n",
       "      <td>13</td>\n",
       "      <td>846</td>\n",
       "      <td>838</td>\n",
       "      <td>2</td>\n",
       "      <td>851</td>\n",
       "      <td>840</td>\n",
       "      <td>-11</td>\n",
       "      <td>76</td>\n",
       "      <td>67</td>\n",
       "      <td>52</td>\n",
       "      <td>304</td>\n",
       "    </tr>\n",
       "    <tr>\n",
       "      <th>1</th>\n",
       "      <td>2018-03-07</td>\n",
       "      <td>AA</td>\n",
       "      <td>AA</td>\n",
       "      <td>591</td>\n",
       "      <td>AA</td>\n",
       "      <td>N833AW</td>\n",
       "      <td>591</td>\n",
       "      <td>11057</td>\n",
       "      <td>CLT</td>\n",
       "      <td>Charlotte, NC</td>\n",
       "      <td>11278</td>\n",
       "      <td>DCA</td>\n",
       "      <td>Washington, DC</td>\n",
       "      <td>1431</td>\n",
       "      <td>1537</td>\n",
       "      <td>66</td>\n",
       "      <td>16</td>\n",
       "      <td>1553</td>\n",
       "      <td>1648</td>\n",
       "      <td>3</td>\n",
       "      <td>1559</td>\n",
       "      <td>1651</td>\n",
       "      <td>52</td>\n",
       "      <td>88</td>\n",
       "      <td>74</td>\n",
       "      <td>55</td>\n",
       "      <td>331</td>\n",
       "    </tr>\n",
       "    <tr>\n",
       "      <th>2</th>\n",
       "      <td>2018-03-07</td>\n",
       "      <td>AA</td>\n",
       "      <td>AA</td>\n",
       "      <td>600</td>\n",
       "      <td>AA</td>\n",
       "      <td>N151UW</td>\n",
       "      <td>600</td>\n",
       "      <td>11697</td>\n",
       "      <td>FLL</td>\n",
       "      <td>Fort Lauderdale, FL</td>\n",
       "      <td>11057</td>\n",
       "      <td>CLT</td>\n",
       "      <td>Charlotte, NC</td>\n",
       "      <td>603</td>\n",
       "      <td>557</td>\n",
       "      <td>-6</td>\n",
       "      <td>18</td>\n",
       "      <td>615</td>\n",
       "      <td>746</td>\n",
       "      <td>19</td>\n",
       "      <td>809</td>\n",
       "      <td>805</td>\n",
       "      <td>-4</td>\n",
       "      <td>126</td>\n",
       "      <td>128</td>\n",
       "      <td>91</td>\n",
       "      <td>632</td>\n",
       "    </tr>\n",
       "    <tr>\n",
       "      <th>3</th>\n",
       "      <td>2018-03-07</td>\n",
       "      <td>AA</td>\n",
       "      <td>AA</td>\n",
       "      <td>1805</td>\n",
       "      <td>AA</td>\n",
       "      <td>N924US</td>\n",
       "      <td>1805</td>\n",
       "      <td>11057</td>\n",
       "      <td>CLT</td>\n",
       "      <td>Charlotte, NC</td>\n",
       "      <td>10721</td>\n",
       "      <td>BOS</td>\n",
       "      <td>Boston, MA</td>\n",
       "      <td>1135</td>\n",
       "      <td>1129</td>\n",
       "      <td>-6</td>\n",
       "      <td>11</td>\n",
       "      <td>1140</td>\n",
       "      <td>1312</td>\n",
       "      <td>12</td>\n",
       "      <td>1352</td>\n",
       "      <td>1324</td>\n",
       "      <td>-28</td>\n",
       "      <td>137</td>\n",
       "      <td>115</td>\n",
       "      <td>92</td>\n",
       "      <td>728</td>\n",
       "    </tr>\n",
       "    <tr>\n",
       "      <th>4</th>\n",
       "      <td>2018-03-07</td>\n",
       "      <td>AA</td>\n",
       "      <td>AA</td>\n",
       "      <td>2615</td>\n",
       "      <td>AA</td>\n",
       "      <td>N945NN</td>\n",
       "      <td>2615</td>\n",
       "      <td>11057</td>\n",
       "      <td>CLT</td>\n",
       "      <td>Charlotte, NC</td>\n",
       "      <td>15370</td>\n",
       "      <td>TUL</td>\n",
       "      <td>Tulsa, OK</td>\n",
       "      <td>1820</td>\n",
       "      <td>1812</td>\n",
       "      <td>-8</td>\n",
       "      <td>11</td>\n",
       "      <td>1823</td>\n",
       "      <td>1936</td>\n",
       "      <td>6</td>\n",
       "      <td>2002</td>\n",
       "      <td>1942</td>\n",
       "      <td>-20</td>\n",
       "      <td>162</td>\n",
       "      <td>150</td>\n",
       "      <td>133</td>\n",
       "      <td>842</td>\n",
       "    </tr>\n",
       "  </tbody>\n",
       "</table>\n",
       "</div>"
      ],
      "text/plain": [
       "     fl_date branded_code_share mkt_carrier mkt_carrier_fl_num  \\\n",
       "0 2018-03-07                 AA          AA                465   \n",
       "1 2018-03-07                 AA          AA                591   \n",
       "2 2018-03-07                 AA          AA                600   \n",
       "3 2018-03-07                 AA          AA               1805   \n",
       "4 2018-03-07                 AA          AA               2615   \n",
       "\n",
       "  op_unique_carrier tail_num op_carrier_fl_num origin_airport_id origin  \\\n",
       "0                AA   N200UU               465             14107    PHX   \n",
       "1                AA   N833AW               591             11057    CLT   \n",
       "2                AA   N151UW               600             11697    FLL   \n",
       "3                AA   N924US              1805             11057    CLT   \n",
       "4                AA   N945NN              2615             11057    CLT   \n",
       "\n",
       "      origin_city_name dest_airport_id dest  dest_city_name  crs_dep_time  \\\n",
       "0          Phoenix, AZ           14679  SAN   San Diego, CA           835   \n",
       "1        Charlotte, NC           11278  DCA  Washington, DC          1431   \n",
       "2  Fort Lauderdale, FL           11057  CLT   Charlotte, NC           603   \n",
       "3        Charlotte, NC           10721  BOS      Boston, MA          1135   \n",
       "4        Charlotte, NC           15370  TUL       Tulsa, OK          1820   \n",
       "\n",
       "   dep_time  dep_delay  taxi_out  wheels_off  wheels_on  taxi_in  \\\n",
       "0       833         -2        13         846        838        2   \n",
       "1      1537         66        16        1553       1648        3   \n",
       "2       557         -6        18         615        746       19   \n",
       "3      1129         -6        11        1140       1312       12   \n",
       "4      1812         -8        11        1823       1936        6   \n",
       "\n",
       "   crs_arr_time  arr_time  arr_delay  crs_elapsed_time  actual_elapsed_time  \\\n",
       "0           851       840        -11                76                   67   \n",
       "1          1559      1651         52                88                   74   \n",
       "2           809       805         -4               126                  128   \n",
       "3          1352      1324        -28               137                  115   \n",
       "4          2002      1942        -20               162                  150   \n",
       "\n",
       "   air_time  distance  \n",
       "0        52       304  \n",
       "1        55       331  \n",
       "2        91       632  \n",
       "3        92       728  \n",
       "4       133       842  "
      ]
     },
     "execution_count": 20,
     "metadata": {},
     "output_type": "execute_result"
    }
   ],
   "source": [
    "df2.head()"
   ]
  },
  {
   "cell_type": "code",
   "execution_count": 21,
   "metadata": {},
   "outputs": [
    {
     "data": {
      "text/plain": [
       "0      833\n",
       "1     1537\n",
       "2      557\n",
       "3     1129\n",
       "4     1812\n",
       "5      646\n",
       "6      450\n",
       "7     1102\n",
       "8     1226\n",
       "9      609\n",
       "10    1556\n",
       "11    1559\n",
       "12    2225\n",
       "13     635\n",
       "14    2226\n",
       "Name: dep_time, dtype: int64"
      ]
     },
     "execution_count": 21,
     "metadata": {},
     "output_type": "execute_result"
    }
   ],
   "source": [
    "df2[\"dep_time\"].head(15)"
   ]
  },
  {
   "cell_type": "code",
   "execution_count": 22,
   "metadata": {},
   "outputs": [
    {
     "data": {
      "text/plain": [
       "0      8.33\n",
       "1     15.37\n",
       "2      5.57\n",
       "3     11.29\n",
       "4     18.12\n",
       "5      6.46\n",
       "6      4.50\n",
       "7     11.02\n",
       "8     12.26\n",
       "9      6.09\n",
       "10    15.56\n",
       "11    15.59\n",
       "12    22.25\n",
       "13     6.35\n",
       "14    22.26\n",
       "Name: dep_time, dtype: float64"
      ]
     },
     "execution_count": 22,
     "metadata": {},
     "output_type": "execute_result"
    }
   ],
   "source": [
    "(df2[\"dep_time\"] / 100).head(15)"
   ]
  },
  {
   "cell_type": "code",
   "execution_count": 23,
   "metadata": {},
   "outputs": [],
   "source": [
    "taxi_times = df2[[\"dep_time\", \"taxi_out\"]].copy()\n",
    "taxi_times[\"n_flights\"] = 1  # will use this column to count the number of flights departing at given time of day\n",
    "taxi_times[\"dep_time\"] = taxi_times[\"dep_time\"].round(-1)\n",
    "# change times like '560' to '600' etc.\n",
    "taxi_times.loc[taxi_times[\"dep_time\"].astype(str).str.endswith(\"60\"), \"dep_time\"] = taxi_times.loc[taxi_times[\"dep_time\"].astype(str).str.endswith(\"60\"), \"dep_time\"].values + 40 \n",
    "\n",
    "# converting military time to 'continuous time' (e.g. 830 = 8.5)\n",
    "times = (taxi_times[\"dep_time\"] / 100).values.astype(str)\n",
    "minutes = np.array([round(int(time.split(\".\")[1])/6, 2) for time in list(times)])\n",
    "hour = (taxi_times[\"dep_time\"] // 100).values\n",
    "hours = hour + minutes\n",
    "# adding the continuous time column to to data frame\n",
    "taxi_times[\"hours\"] = hours"
   ]
  },
  {
   "cell_type": "code",
   "execution_count": 24,
   "metadata": {},
   "outputs": [
    {
     "data": {
      "text/html": [
       "<div>\n",
       "<style scoped>\n",
       "    .dataframe tbody tr th:only-of-type {\n",
       "        vertical-align: middle;\n",
       "    }\n",
       "\n",
       "    .dataframe tbody tr th {\n",
       "        vertical-align: top;\n",
       "    }\n",
       "\n",
       "    .dataframe thead th {\n",
       "        text-align: right;\n",
       "    }\n",
       "</style>\n",
       "<table border=\"1\" class=\"dataframe\">\n",
       "  <thead>\n",
       "    <tr style=\"text-align: right;\">\n",
       "      <th></th>\n",
       "      <th>dep_time</th>\n",
       "      <th>taxi_out</th>\n",
       "      <th>n_flights</th>\n",
       "      <th>hours</th>\n",
       "    </tr>\n",
       "  </thead>\n",
       "  <tbody>\n",
       "    <tr>\n",
       "      <th>0</th>\n",
       "      <td>830</td>\n",
       "      <td>13</td>\n",
       "      <td>1</td>\n",
       "      <td>8.50</td>\n",
       "    </tr>\n",
       "    <tr>\n",
       "      <th>1</th>\n",
       "      <td>1540</td>\n",
       "      <td>16</td>\n",
       "      <td>1</td>\n",
       "      <td>15.67</td>\n",
       "    </tr>\n",
       "    <tr>\n",
       "      <th>2</th>\n",
       "      <td>600</td>\n",
       "      <td>18</td>\n",
       "      <td>1</td>\n",
       "      <td>6.00</td>\n",
       "    </tr>\n",
       "    <tr>\n",
       "      <th>3</th>\n",
       "      <td>1130</td>\n",
       "      <td>11</td>\n",
       "      <td>1</td>\n",
       "      <td>11.50</td>\n",
       "    </tr>\n",
       "    <tr>\n",
       "      <th>4</th>\n",
       "      <td>1810</td>\n",
       "      <td>11</td>\n",
       "      <td>1</td>\n",
       "      <td>18.17</td>\n",
       "    </tr>\n",
       "    <tr>\n",
       "      <th>...</th>\n",
       "      <td>...</td>\n",
       "      <td>...</td>\n",
       "      <td>...</td>\n",
       "      <td>...</td>\n",
       "    </tr>\n",
       "    <tr>\n",
       "      <th>390053</th>\n",
       "      <td>1440</td>\n",
       "      <td>16</td>\n",
       "      <td>1</td>\n",
       "      <td>14.67</td>\n",
       "    </tr>\n",
       "    <tr>\n",
       "      <th>390054</th>\n",
       "      <td>1300</td>\n",
       "      <td>13</td>\n",
       "      <td>1</td>\n",
       "      <td>13.00</td>\n",
       "    </tr>\n",
       "    <tr>\n",
       "      <th>390055</th>\n",
       "      <td>1600</td>\n",
       "      <td>16</td>\n",
       "      <td>1</td>\n",
       "      <td>16.00</td>\n",
       "    </tr>\n",
       "    <tr>\n",
       "      <th>390056</th>\n",
       "      <td>1900</td>\n",
       "      <td>12</td>\n",
       "      <td>1</td>\n",
       "      <td>19.00</td>\n",
       "    </tr>\n",
       "    <tr>\n",
       "      <th>390057</th>\n",
       "      <td>1120</td>\n",
       "      <td>20</td>\n",
       "      <td>1</td>\n",
       "      <td>11.33</td>\n",
       "    </tr>\n",
       "  </tbody>\n",
       "</table>\n",
       "<p>383866 rows × 4 columns</p>\n",
       "</div>"
      ],
      "text/plain": [
       "        dep_time  taxi_out  n_flights  hours\n",
       "0            830        13          1   8.50\n",
       "1           1540        16          1  15.67\n",
       "2            600        18          1   6.00\n",
       "3           1130        11          1  11.50\n",
       "4           1810        11          1  18.17\n",
       "...          ...       ...        ...    ...\n",
       "390053      1440        16          1  14.67\n",
       "390054      1300        13          1  13.00\n",
       "390055      1600        16          1  16.00\n",
       "390056      1900        12          1  19.00\n",
       "390057      1120        20          1  11.33\n",
       "\n",
       "[383866 rows x 4 columns]"
      ]
     },
     "execution_count": 24,
     "metadata": {},
     "output_type": "execute_result"
    }
   ],
   "source": [
    "taxi_times"
   ]
  },
  {
   "cell_type": "code",
   "execution_count": 25,
   "metadata": {},
   "outputs": [],
   "source": [
    "data1 = taxi_times.groupby(\"dep_time\").agg({\"taxi_out\": \"mean\", \"n_flights\": \"count\", \"hours\": \"mean\"}).round(2)\n",
    "data1.reset_index(inplace=True)"
   ]
  },
  {
   "cell_type": "code",
   "execution_count": 26,
   "metadata": {
    "tags": []
   },
   "outputs": [
    {
     "data": {
      "text/html": [
       "<div>\n",
       "<style scoped>\n",
       "    .dataframe tbody tr th:only-of-type {\n",
       "        vertical-align: middle;\n",
       "    }\n",
       "\n",
       "    .dataframe tbody tr th {\n",
       "        vertical-align: top;\n",
       "    }\n",
       "\n",
       "    .dataframe thead th {\n",
       "        text-align: right;\n",
       "    }\n",
       "</style>\n",
       "<table border=\"1\" class=\"dataframe\">\n",
       "  <thead>\n",
       "    <tr style=\"text-align: right;\">\n",
       "      <th></th>\n",
       "      <th>dep_time</th>\n",
       "      <th>taxi_out</th>\n",
       "      <th>n_flights</th>\n",
       "      <th>hours</th>\n",
       "    </tr>\n",
       "  </thead>\n",
       "  <tbody>\n",
       "    <tr>\n",
       "      <th>0</th>\n",
       "      <td>0</td>\n",
       "      <td>16.78</td>\n",
       "      <td>153</td>\n",
       "      <td>0.00</td>\n",
       "    </tr>\n",
       "    <tr>\n",
       "      <th>1</th>\n",
       "      <td>10</td>\n",
       "      <td>14.98</td>\n",
       "      <td>236</td>\n",
       "      <td>0.17</td>\n",
       "    </tr>\n",
       "    <tr>\n",
       "      <th>2</th>\n",
       "      <td>20</td>\n",
       "      <td>15.40</td>\n",
       "      <td>272</td>\n",
       "      <td>0.33</td>\n",
       "    </tr>\n",
       "    <tr>\n",
       "      <th>3</th>\n",
       "      <td>30</td>\n",
       "      <td>15.84</td>\n",
       "      <td>198</td>\n",
       "      <td>0.50</td>\n",
       "    </tr>\n",
       "    <tr>\n",
       "      <th>4</th>\n",
       "      <td>40</td>\n",
       "      <td>15.01</td>\n",
       "      <td>227</td>\n",
       "      <td>0.67</td>\n",
       "    </tr>\n",
       "    <tr>\n",
       "      <th>5</th>\n",
       "      <td>50</td>\n",
       "      <td>14.35</td>\n",
       "      <td>201</td>\n",
       "      <td>0.83</td>\n",
       "    </tr>\n",
       "    <tr>\n",
       "      <th>6</th>\n",
       "      <td>100</td>\n",
       "      <td>14.19</td>\n",
       "      <td>183</td>\n",
       "      <td>1.00</td>\n",
       "    </tr>\n",
       "    <tr>\n",
       "      <th>7</th>\n",
       "      <td>110</td>\n",
       "      <td>14.55</td>\n",
       "      <td>119</td>\n",
       "      <td>1.17</td>\n",
       "    </tr>\n",
       "    <tr>\n",
       "      <th>8</th>\n",
       "      <td>120</td>\n",
       "      <td>14.75</td>\n",
       "      <td>114</td>\n",
       "      <td>1.33</td>\n",
       "    </tr>\n",
       "    <tr>\n",
       "      <th>9</th>\n",
       "      <td>130</td>\n",
       "      <td>14.38</td>\n",
       "      <td>61</td>\n",
       "      <td>1.50</td>\n",
       "    </tr>\n",
       "    <tr>\n",
       "      <th>10</th>\n",
       "      <td>140</td>\n",
       "      <td>13.64</td>\n",
       "      <td>74</td>\n",
       "      <td>1.67</td>\n",
       "    </tr>\n",
       "    <tr>\n",
       "      <th>11</th>\n",
       "      <td>150</td>\n",
       "      <td>13.00</td>\n",
       "      <td>40</td>\n",
       "      <td>1.83</td>\n",
       "    </tr>\n",
       "    <tr>\n",
       "      <th>12</th>\n",
       "      <td>200</td>\n",
       "      <td>12.69</td>\n",
       "      <td>32</td>\n",
       "      <td>2.00</td>\n",
       "    </tr>\n",
       "    <tr>\n",
       "      <th>13</th>\n",
       "      <td>210</td>\n",
       "      <td>12.73</td>\n",
       "      <td>26</td>\n",
       "      <td>2.17</td>\n",
       "    </tr>\n",
       "    <tr>\n",
       "      <th>14</th>\n",
       "      <td>220</td>\n",
       "      <td>12.11</td>\n",
       "      <td>35</td>\n",
       "      <td>2.33</td>\n",
       "    </tr>\n",
       "    <tr>\n",
       "      <th>15</th>\n",
       "      <td>230</td>\n",
       "      <td>12.47</td>\n",
       "      <td>15</td>\n",
       "      <td>2.50</td>\n",
       "    </tr>\n",
       "    <tr>\n",
       "      <th>16</th>\n",
       "      <td>240</td>\n",
       "      <td>12.84</td>\n",
       "      <td>25</td>\n",
       "      <td>2.67</td>\n",
       "    </tr>\n",
       "    <tr>\n",
       "      <th>17</th>\n",
       "      <td>250</td>\n",
       "      <td>12.20</td>\n",
       "      <td>20</td>\n",
       "      <td>2.83</td>\n",
       "    </tr>\n",
       "    <tr>\n",
       "      <th>18</th>\n",
       "      <td>300</td>\n",
       "      <td>12.16</td>\n",
       "      <td>19</td>\n",
       "      <td>3.00</td>\n",
       "    </tr>\n",
       "    <tr>\n",
       "      <th>19</th>\n",
       "      <td>310</td>\n",
       "      <td>12.00</td>\n",
       "      <td>8</td>\n",
       "      <td>3.17</td>\n",
       "    </tr>\n",
       "    <tr>\n",
       "      <th>20</th>\n",
       "      <td>320</td>\n",
       "      <td>11.30</td>\n",
       "      <td>23</td>\n",
       "      <td>3.33</td>\n",
       "    </tr>\n",
       "    <tr>\n",
       "      <th>21</th>\n",
       "      <td>330</td>\n",
       "      <td>11.35</td>\n",
       "      <td>20</td>\n",
       "      <td>3.50</td>\n",
       "    </tr>\n",
       "    <tr>\n",
       "      <th>22</th>\n",
       "      <td>340</td>\n",
       "      <td>11.41</td>\n",
       "      <td>17</td>\n",
       "      <td>3.67</td>\n",
       "    </tr>\n",
       "    <tr>\n",
       "      <th>23</th>\n",
       "      <td>350</td>\n",
       "      <td>11.08</td>\n",
       "      <td>12</td>\n",
       "      <td>3.83</td>\n",
       "    </tr>\n",
       "    <tr>\n",
       "      <th>24</th>\n",
       "      <td>400</td>\n",
       "      <td>10.07</td>\n",
       "      <td>15</td>\n",
       "      <td>4.00</td>\n",
       "    </tr>\n",
       "    <tr>\n",
       "      <th>25</th>\n",
       "      <td>410</td>\n",
       "      <td>12.22</td>\n",
       "      <td>9</td>\n",
       "      <td>4.17</td>\n",
       "    </tr>\n",
       "    <tr>\n",
       "      <th>26</th>\n",
       "      <td>420</td>\n",
       "      <td>12.33</td>\n",
       "      <td>9</td>\n",
       "      <td>4.33</td>\n",
       "    </tr>\n",
       "    <tr>\n",
       "      <th>27</th>\n",
       "      <td>430</td>\n",
       "      <td>10.43</td>\n",
       "      <td>14</td>\n",
       "      <td>4.50</td>\n",
       "    </tr>\n",
       "    <tr>\n",
       "      <th>28</th>\n",
       "      <td>440</td>\n",
       "      <td>15.90</td>\n",
       "      <td>21</td>\n",
       "      <td>4.67</td>\n",
       "    </tr>\n",
       "    <tr>\n",
       "      <th>29</th>\n",
       "      <td>450</td>\n",
       "      <td>14.64</td>\n",
       "      <td>441</td>\n",
       "      <td>4.83</td>\n",
       "    </tr>\n",
       "    <tr>\n",
       "      <th>30</th>\n",
       "      <td>500</td>\n",
       "      <td>14.25</td>\n",
       "      <td>963</td>\n",
       "      <td>5.00</td>\n",
       "    </tr>\n",
       "    <tr>\n",
       "      <th>31</th>\n",
       "      <td>510</td>\n",
       "      <td>14.56</td>\n",
       "      <td>769</td>\n",
       "      <td>5.17</td>\n",
       "    </tr>\n",
       "    <tr>\n",
       "      <th>32</th>\n",
       "      <td>520</td>\n",
       "      <td>14.68</td>\n",
       "      <td>1353</td>\n",
       "      <td>5.33</td>\n",
       "    </tr>\n",
       "    <tr>\n",
       "      <th>33</th>\n",
       "      <td>530</td>\n",
       "      <td>15.29</td>\n",
       "      <td>1532</td>\n",
       "      <td>5.50</td>\n",
       "    </tr>\n",
       "    <tr>\n",
       "      <th>34</th>\n",
       "      <td>540</td>\n",
       "      <td>15.74</td>\n",
       "      <td>2266</td>\n",
       "      <td>5.67</td>\n",
       "    </tr>\n",
       "    <tr>\n",
       "      <th>35</th>\n",
       "      <td>550</td>\n",
       "      <td>16.57</td>\n",
       "      <td>4218</td>\n",
       "      <td>5.83</td>\n",
       "    </tr>\n",
       "    <tr>\n",
       "      <th>36</th>\n",
       "      <td>600</td>\n",
       "      <td>16.90</td>\n",
       "      <td>7970</td>\n",
       "      <td>6.00</td>\n",
       "    </tr>\n",
       "    <tr>\n",
       "      <th>37</th>\n",
       "      <td>610</td>\n",
       "      <td>16.65</td>\n",
       "      <td>3678</td>\n",
       "      <td>6.17</td>\n",
       "    </tr>\n",
       "    <tr>\n",
       "      <th>38</th>\n",
       "      <td>620</td>\n",
       "      <td>16.31</td>\n",
       "      <td>4023</td>\n",
       "      <td>6.33</td>\n",
       "    </tr>\n",
       "    <tr>\n",
       "      <th>39</th>\n",
       "      <td>630</td>\n",
       "      <td>16.08</td>\n",
       "      <td>2946</td>\n",
       "      <td>6.50</td>\n",
       "    </tr>\n",
       "    <tr>\n",
       "      <th>40</th>\n",
       "      <td>640</td>\n",
       "      <td>16.37</td>\n",
       "      <td>3275</td>\n",
       "      <td>6.67</td>\n",
       "    </tr>\n",
       "    <tr>\n",
       "      <th>41</th>\n",
       "      <td>650</td>\n",
       "      <td>16.98</td>\n",
       "      <td>4094</td>\n",
       "      <td>6.83</td>\n",
       "    </tr>\n",
       "    <tr>\n",
       "      <th>42</th>\n",
       "      <td>700</td>\n",
       "      <td>17.41</td>\n",
       "      <td>6459</td>\n",
       "      <td>7.00</td>\n",
       "    </tr>\n",
       "    <tr>\n",
       "      <th>43</th>\n",
       "      <td>710</td>\n",
       "      <td>17.44</td>\n",
       "      <td>3397</td>\n",
       "      <td>7.17</td>\n",
       "    </tr>\n",
       "    <tr>\n",
       "      <th>44</th>\n",
       "      <td>720</td>\n",
       "      <td>17.00</td>\n",
       "      <td>4229</td>\n",
       "      <td>7.33</td>\n",
       "    </tr>\n",
       "    <tr>\n",
       "      <th>45</th>\n",
       "      <td>730</td>\n",
       "      <td>17.31</td>\n",
       "      <td>3288</td>\n",
       "      <td>7.50</td>\n",
       "    </tr>\n",
       "    <tr>\n",
       "      <th>46</th>\n",
       "      <td>740</td>\n",
       "      <td>17.83</td>\n",
       "      <td>3797</td>\n",
       "      <td>7.67</td>\n",
       "    </tr>\n",
       "    <tr>\n",
       "      <th>47</th>\n",
       "      <td>750</td>\n",
       "      <td>18.29</td>\n",
       "      <td>3634</td>\n",
       "      <td>7.83</td>\n",
       "    </tr>\n",
       "    <tr>\n",
       "      <th>48</th>\n",
       "      <td>800</td>\n",
       "      <td>18.60</td>\n",
       "      <td>4803</td>\n",
       "      <td>8.00</td>\n",
       "    </tr>\n",
       "    <tr>\n",
       "      <th>49</th>\n",
       "      <td>810</td>\n",
       "      <td>18.58</td>\n",
       "      <td>3473</td>\n",
       "      <td>8.17</td>\n",
       "    </tr>\n",
       "    <tr>\n",
       "      <th>50</th>\n",
       "      <td>820</td>\n",
       "      <td>19.00</td>\n",
       "      <td>4830</td>\n",
       "      <td>8.33</td>\n",
       "    </tr>\n",
       "  </tbody>\n",
       "</table>\n",
       "</div>"
      ],
      "text/plain": [
       "    dep_time  taxi_out  n_flights  hours\n",
       "0          0     16.78        153   0.00\n",
       "1         10     14.98        236   0.17\n",
       "2         20     15.40        272   0.33\n",
       "3         30     15.84        198   0.50\n",
       "4         40     15.01        227   0.67\n",
       "5         50     14.35        201   0.83\n",
       "6        100     14.19        183   1.00\n",
       "7        110     14.55        119   1.17\n",
       "8        120     14.75        114   1.33\n",
       "9        130     14.38         61   1.50\n",
       "10       140     13.64         74   1.67\n",
       "11       150     13.00         40   1.83\n",
       "12       200     12.69         32   2.00\n",
       "13       210     12.73         26   2.17\n",
       "14       220     12.11         35   2.33\n",
       "15       230     12.47         15   2.50\n",
       "16       240     12.84         25   2.67\n",
       "17       250     12.20         20   2.83\n",
       "18       300     12.16         19   3.00\n",
       "19       310     12.00          8   3.17\n",
       "20       320     11.30         23   3.33\n",
       "21       330     11.35         20   3.50\n",
       "22       340     11.41         17   3.67\n",
       "23       350     11.08         12   3.83\n",
       "24       400     10.07         15   4.00\n",
       "25       410     12.22          9   4.17\n",
       "26       420     12.33          9   4.33\n",
       "27       430     10.43         14   4.50\n",
       "28       440     15.90         21   4.67\n",
       "29       450     14.64        441   4.83\n",
       "30       500     14.25        963   5.00\n",
       "31       510     14.56        769   5.17\n",
       "32       520     14.68       1353   5.33\n",
       "33       530     15.29       1532   5.50\n",
       "34       540     15.74       2266   5.67\n",
       "35       550     16.57       4218   5.83\n",
       "36       600     16.90       7970   6.00\n",
       "37       610     16.65       3678   6.17\n",
       "38       620     16.31       4023   6.33\n",
       "39       630     16.08       2946   6.50\n",
       "40       640     16.37       3275   6.67\n",
       "41       650     16.98       4094   6.83\n",
       "42       700     17.41       6459   7.00\n",
       "43       710     17.44       3397   7.17\n",
       "44       720     17.00       4229   7.33\n",
       "45       730     17.31       3288   7.50\n",
       "46       740     17.83       3797   7.67\n",
       "47       750     18.29       3634   7.83\n",
       "48       800     18.60       4803   8.00\n",
       "49       810     18.58       3473   8.17\n",
       "50       820     19.00       4830   8.33"
      ]
     },
     "execution_count": 26,
     "metadata": {},
     "output_type": "execute_result"
    }
   ],
   "source": [
    "data1.loc[:50]"
   ]
  },
  {
   "cell_type": "code",
   "execution_count": 27,
   "metadata": {},
   "outputs": [],
   "source": [
    "taxi_times = df2[[\"wheels_on\", \"taxi_in\"]].copy()\n",
    "taxi_times[\"n_flights\"] = 1\n",
    "taxi_times[\"wheels_on\"] = taxi_times[\"wheels_on\"].round(-1)\n",
    "taxi_times.loc[taxi_times[\"wheels_on\"].astype(str).str.endswith(\"60\"), \"wheels_on\"] = taxi_times.loc[taxi_times[\"wheels_on\"].astype(str).str.endswith(\"60\"), \"wheels_on\"].values + 40 \n",
    "data2 = taxi_times.groupby(\"wheels_on\").agg({\"taxi_in\": \"mean\", \"n_flights\": \"count\"}).round(1)\n",
    "data2.reset_index(inplace=True)\n",
    "data2[\"hours\"] = data1[\"hours\"]"
   ]
  },
  {
   "cell_type": "code",
   "execution_count": 28,
   "metadata": {},
   "outputs": [
    {
     "data": {
      "text/html": [
       "<div>\n",
       "<style scoped>\n",
       "    .dataframe tbody tr th:only-of-type {\n",
       "        vertical-align: middle;\n",
       "    }\n",
       "\n",
       "    .dataframe tbody tr th {\n",
       "        vertical-align: top;\n",
       "    }\n",
       "\n",
       "    .dataframe thead th {\n",
       "        text-align: right;\n",
       "    }\n",
       "</style>\n",
       "<table border=\"1\" class=\"dataframe\">\n",
       "  <thead>\n",
       "    <tr style=\"text-align: right;\">\n",
       "      <th></th>\n",
       "      <th>wheels_on</th>\n",
       "      <th>taxi_in</th>\n",
       "      <th>n_flights</th>\n",
       "      <th>hours</th>\n",
       "    </tr>\n",
       "  </thead>\n",
       "  <tbody>\n",
       "    <tr>\n",
       "      <th>0</th>\n",
       "      <td>0</td>\n",
       "      <td>6.1</td>\n",
       "      <td>873</td>\n",
       "      <td>0.00</td>\n",
       "    </tr>\n",
       "    <tr>\n",
       "      <th>1</th>\n",
       "      <td>10</td>\n",
       "      <td>6.4</td>\n",
       "      <td>1256</td>\n",
       "      <td>0.17</td>\n",
       "    </tr>\n",
       "    <tr>\n",
       "      <th>2</th>\n",
       "      <td>20</td>\n",
       "      <td>6.7</td>\n",
       "      <td>1313</td>\n",
       "      <td>0.33</td>\n",
       "    </tr>\n",
       "    <tr>\n",
       "      <th>3</th>\n",
       "      <td>30</td>\n",
       "      <td>6.5</td>\n",
       "      <td>914</td>\n",
       "      <td>0.50</td>\n",
       "    </tr>\n",
       "    <tr>\n",
       "      <th>4</th>\n",
       "      <td>40</td>\n",
       "      <td>6.5</td>\n",
       "      <td>923</td>\n",
       "      <td>0.67</td>\n",
       "    </tr>\n",
       "    <tr>\n",
       "      <th>...</th>\n",
       "      <td>...</td>\n",
       "      <td>...</td>\n",
       "      <td>...</td>\n",
       "      <td>...</td>\n",
       "    </tr>\n",
       "    <tr>\n",
       "      <th>140</th>\n",
       "      <td>2320</td>\n",
       "      <td>6.6</td>\n",
       "      <td>3154</td>\n",
       "      <td>23.33</td>\n",
       "    </tr>\n",
       "    <tr>\n",
       "      <th>141</th>\n",
       "      <td>2330</td>\n",
       "      <td>6.6</td>\n",
       "      <td>2569</td>\n",
       "      <td>23.50</td>\n",
       "    </tr>\n",
       "    <tr>\n",
       "      <th>142</th>\n",
       "      <td>2340</td>\n",
       "      <td>6.8</td>\n",
       "      <td>2887</td>\n",
       "      <td>23.67</td>\n",
       "    </tr>\n",
       "    <tr>\n",
       "      <th>143</th>\n",
       "      <td>2350</td>\n",
       "      <td>6.2</td>\n",
       "      <td>1966</td>\n",
       "      <td>23.83</td>\n",
       "    </tr>\n",
       "    <tr>\n",
       "      <th>144</th>\n",
       "      <td>2400</td>\n",
       "      <td>6.6</td>\n",
       "      <td>1054</td>\n",
       "      <td>24.00</td>\n",
       "    </tr>\n",
       "  </tbody>\n",
       "</table>\n",
       "<p>145 rows × 4 columns</p>\n",
       "</div>"
      ],
      "text/plain": [
       "     wheels_on  taxi_in  n_flights  hours\n",
       "0            0      6.1        873   0.00\n",
       "1           10      6.4       1256   0.17\n",
       "2           20      6.7       1313   0.33\n",
       "3           30      6.5        914   0.50\n",
       "4           40      6.5        923   0.67\n",
       "..         ...      ...        ...    ...\n",
       "140       2320      6.6       3154  23.33\n",
       "141       2330      6.6       2569  23.50\n",
       "142       2340      6.8       2887  23.67\n",
       "143       2350      6.2       1966  23.83\n",
       "144       2400      6.6       1054  24.00\n",
       "\n",
       "[145 rows x 4 columns]"
      ]
     },
     "execution_count": 28,
     "metadata": {},
     "output_type": "execute_result"
    }
   ],
   "source": [
    "data2"
   ]
  },
  {
   "cell_type": "code",
   "execution_count": 29,
   "metadata": {},
   "outputs": [
    {
     "data": {
      "image/png": "[encoded data removed]",
      "text/plain": [
       "<Figure size 1080x648 with 1 Axes>"
      ]
     },
     "metadata": {
      "needs_background": "light"
     },
     "output_type": "display_data"
    }
   ],
   "source": [
    "fig4 = pyplot.figure(figsize=(15,9))\n",
    "\n",
    "pyplot.plot(data1[\"hours\"], data1[\"taxi_out\"], label=\"taxi out time\")\n",
    "pyplot.plot(data2[\"hours\"], data2[\"taxi_in\"], label=\"taxi in time\")\n",
    "\n",
    "pyplot.title(\"Mean taxi time by time of day\")\n",
    "pyplot.xlabel(\"time of day\")\n",
    "pyplot.xticks(range(0,24,1))\n",
    "pyplot.ylabel(\"taxi duration in minutes\")\n",
    "\n",
    "pyplot.grid()\n",
    "pyplot.legend()\n",
    "\n",
    "pyplot.show();"
   ]
  },
  {
   "cell_type": "code",
   "execution_count": 30,
   "metadata": {
    "tags": []
   },
   "outputs": [
    {
     "data": {
      "image/png": "[encoded data removed]",
      "text/plain": [
       "<Figure size 1080x648 with 1 Axes>"
      ]
     },
     "metadata": {
      "needs_background": "light"
     },
     "output_type": "display_data"
    }
   ],
   "source": [
    "fig4_2 = pyplot.figure(figsize=(15,9))\n",
    "\n",
    "pyplot.plot(data1[\"hours\"], data1[\"n_flights\"], label=\"departing flights\")\n",
    "pyplot.plot(data2[\"hours\"], data2[\"n_flights\"], label=\"arriving landing\")\n",
    "\n",
    "pyplot.title(\"number of flights by time of day\")\n",
    "pyplot.xlabel(\"time of day\")\n",
    "pyplot.xticks(range(0,24,1))\n",
    "pyplot.ylabel(\"number of flights\")\n",
    "\n",
    "pyplot.grid()\n",
    "pyplot.legend()\n",
    "\n",
    "pyplot.show();"
   ]
  },
  {
   "cell_type": "markdown",
   "metadata": {},
   "source": [
    "**Analysis**  \n",
    "Taxi out times are always about 10 min longer than taxi in times"
   ]
  },
  {
   "cell_type": "markdown",
   "metadata": {},
   "source": [
    "#### **Task 5**: What is the average percentage of delays that is already created before departure? (aka are arrival delays caused by departure delays?) Are airlines able to lower the delay during the flights?"
   ]
  },
  {
   "cell_type": "code",
   "execution_count": 31,
   "metadata": {},
   "outputs": [
    {
     "data": {
      "text/html": [
       "<div>\n",
       "<style scoped>\n",
       "    .dataframe tbody tr th:only-of-type {\n",
       "        vertical-align: middle;\n",
       "    }\n",
       "\n",
       "    .dataframe tbody tr th {\n",
       "        vertical-align: top;\n",
       "    }\n",
       "\n",
       "    .dataframe thead th {\n",
       "        text-align: right;\n",
       "    }\n",
       "</style>\n",
       "<table border=\"1\" class=\"dataframe\">\n",
       "  <thead>\n",
       "    <tr style=\"text-align: right;\">\n",
       "      <th></th>\n",
       "      <th>dep_delay</th>\n",
       "      <th>arr_delay</th>\n",
       "      <th>delay_diff</th>\n",
       "    </tr>\n",
       "  </thead>\n",
       "  <tbody>\n",
       "    <tr>\n",
       "      <th>0</th>\n",
       "      <td>-2</td>\n",
       "      <td>-11</td>\n",
       "      <td>-9</td>\n",
       "    </tr>\n",
       "    <tr>\n",
       "      <th>1</th>\n",
       "      <td>66</td>\n",
       "      <td>52</td>\n",
       "      <td>-14</td>\n",
       "    </tr>\n",
       "    <tr>\n",
       "      <th>2</th>\n",
       "      <td>-6</td>\n",
       "      <td>-4</td>\n",
       "      <td>2</td>\n",
       "    </tr>\n",
       "    <tr>\n",
       "      <th>3</th>\n",
       "      <td>-6</td>\n",
       "      <td>-28</td>\n",
       "      <td>-22</td>\n",
       "    </tr>\n",
       "    <tr>\n",
       "      <th>4</th>\n",
       "      <td>-8</td>\n",
       "      <td>-20</td>\n",
       "      <td>-12</td>\n",
       "    </tr>\n",
       "    <tr>\n",
       "      <th>...</th>\n",
       "      <td>...</td>\n",
       "      <td>...</td>\n",
       "      <td>...</td>\n",
       "    </tr>\n",
       "    <tr>\n",
       "      <th>390053</th>\n",
       "      <td>-5</td>\n",
       "      <td>-9</td>\n",
       "      <td>-4</td>\n",
       "    </tr>\n",
       "    <tr>\n",
       "      <th>390054</th>\n",
       "      <td>11</td>\n",
       "      <td>8</td>\n",
       "      <td>-3</td>\n",
       "    </tr>\n",
       "    <tr>\n",
       "      <th>390055</th>\n",
       "      <td>-12</td>\n",
       "      <td>-20</td>\n",
       "      <td>-8</td>\n",
       "    </tr>\n",
       "    <tr>\n",
       "      <th>390056</th>\n",
       "      <td>-5</td>\n",
       "      <td>-17</td>\n",
       "      <td>-12</td>\n",
       "    </tr>\n",
       "    <tr>\n",
       "      <th>390057</th>\n",
       "      <td>15</td>\n",
       "      <td>-17</td>\n",
       "      <td>-32</td>\n",
       "    </tr>\n",
       "  </tbody>\n",
       "</table>\n",
       "<p>383866 rows × 3 columns</p>\n",
       "</div>"
      ],
      "text/plain": [
       "        dep_delay  arr_delay  delay_diff\n",
       "0              -2        -11          -9\n",
       "1              66         52         -14\n",
       "2              -6         -4           2\n",
       "3              -6        -28         -22\n",
       "4              -8        -20         -12\n",
       "...           ...        ...         ...\n",
       "390053         -5         -9          -4\n",
       "390054         11          8          -3\n",
       "390055        -12        -20          -8\n",
       "390056         -5        -17         -12\n",
       "390057         15        -17         -32\n",
       "\n",
       "[383866 rows x 3 columns]"
      ]
     },
     "execution_count": 31,
     "metadata": {},
     "output_type": "execute_result"
    }
   ],
   "source": [
    "delays = df2[[\"dep_delay\", \"arr_delay\"]].copy()\n",
    "delays[\"delay_diff\"] = delays[\"arr_delay\"] - delays[\"dep_delay\"]\n",
    "\n",
    "delays"
   ]
  },
  {
   "cell_type": "code",
   "execution_count": 32,
   "metadata": {},
   "outputs": [],
   "source": [
    "# late arrival & late departure / late arrival\n",
    "n_delayed_both = (delays[\"arr_delay\"].gt(15) & delays[\"dep_delay\"].gt(15)).sum()\n",
    "n_delayed_arrival = delays[\"arr_delay\"].gt(15).sum()"
   ]
  },
  {
   "cell_type": "code",
   "execution_count": 33,
   "metadata": {},
   "outputs": [
    {
     "data": {
      "text/plain": [
       "50803"
      ]
     },
     "execution_count": 33,
     "metadata": {},
     "output_type": "execute_result"
    },
    {
     "data": {
      "text/plain": [
       "66561"
      ]
     },
     "execution_count": 33,
     "metadata": {},
     "output_type": "execute_result"
    },
    {
     "data": {
      "text/plain": [
       "0.7632547587926864"
      ]
     },
     "execution_count": 33,
     "metadata": {},
     "output_type": "execute_result"
    }
   ],
   "source": [
    "n_delayed_both\n",
    "n_delayed_arrival\n",
    "\n",
    "n_delayed_both / n_delayed_arrival"
   ]
  },
  {
   "cell_type": "markdown",
   "metadata": {},
   "source": [
    "**analysis**  \n",
    "76% of arrival delays are caused by departure delays (delay defined as greater than 15 min late)"
   ]
  },
  {
   "cell_type": "code",
   "execution_count": 34,
   "metadata": {
    "tags": []
   },
   "outputs": [
    {
     "name": "stdout",
     "output_type": "stream",
     "text": [
      "0 min dep delay    -4.96 minutes made up for\n",
      "5 min dep delay    -4.9 minutes made up for\n",
      "10 min dep delay    -4.8 minutes made up for\n",
      "15 min dep delay    -4.75 minutes made up for\n",
      "20 min dep delay    -4.71 minutes made up for\n",
      "25 min dep delay    -4.7 minutes made up for\n",
      "30 min dep delay    -4.7 minutes made up for\n",
      "35 min dep delay    -4.74 minutes made up for\n",
      "40 min dep delay    -4.77 minutes made up for\n",
      "45 min dep delay    -4.83 minutes made up for\n",
      "50 min dep delay    -4.9 minutes made up for\n",
      "55 min dep delay    -4.98 minutes made up for\n",
      "60 min dep delay    -5.06 minutes made up for\n",
      "65 min dep delay    -5.19 minutes made up for\n",
      "70 min dep delay    -5.38 minutes made up for\n",
      "75 min dep delay    -5.56 minutes made up for\n",
      "80 min dep delay    -5.81 minutes made up for\n",
      "85 min dep delay    -6.1 minutes made up for\n",
      "90 min dep delay    -6.4 minutes made up for\n",
      "95 min dep delay    -6.73 minutes made up for\n",
      "100 min dep delay    -7.14 minutes made up for\n",
      "105 min dep delay    -7.61 minutes made up for\n",
      "110 min dep delay    -8.1 minutes made up for\n",
      "115 min dep delay    -8.58 minutes made up for\n",
      "120 min dep delay    -9.2 minutes made up for\n",
      "125 min dep delay    -9.95 minutes made up for\n",
      "130 min dep delay    -10.75 minutes made up for\n",
      "135 min dep delay    -11.82 minutes made up for\n",
      "140 min dep delay    -12.96 minutes made up for\n",
      "145 min dep delay    -14.27 minutes made up for\n",
      "150 min dep delay    -15.73 minutes made up for\n",
      "155 min dep delay    -17.72 minutes made up for\n",
      "160 min dep delay    -20.19 minutes made up for\n",
      "165 min dep delay    -24.1 minutes made up for\n",
      "170 min dep delay    -27.75 minutes made up for\n",
      "175 min dep delay    -32.21 minutes made up for\n",
      "180 min dep delay    -41.52 minutes made up for\n",
      "185 min dep delay    -63.83 minutes made up for\n",
      "190 min dep delay    -88.33 minutes made up for\n",
      "195 min dep delay    -88.33 minutes made up for\n",
      "200 min dep delay    -88.33 minutes made up for\n",
      "205 min dep delay    -104.5 minutes made up for\n",
      "210 min dep delay    -104.5 minutes made up for\n",
      "215 min dep delay    -104.5 minutes made up for\n",
      "220 min dep delay    -104.5 minutes made up for\n",
      "225 min dep delay    -79.0 minutes made up for\n",
      "230 min dep delay    -79.0 minutes made up for\n"
     ]
    }
   ],
   "source": [
    "for i in range(0, delays[\"dep_delay\"].max(), 5):\n",
    "    print(f\"{i} min dep delay   \", round(delays[\"delay_diff\"][delays[\"dep_delay\"].gt(i)].mean(), 2), \"minutes made up for\")"
   ]
  },
  {
   "cell_type": "code",
   "execution_count": 35,
   "metadata": {},
   "outputs": [
    {
     "data": {
      "text/html": [
       "<div>\n",
       "<style scoped>\n",
       "    .dataframe tbody tr th:only-of-type {\n",
       "        vertical-align: middle;\n",
       "    }\n",
       "\n",
       "    .dataframe tbody tr th {\n",
       "        vertical-align: top;\n",
       "    }\n",
       "\n",
       "    .dataframe thead th {\n",
       "        text-align: right;\n",
       "    }\n",
       "</style>\n",
       "<table border=\"1\" class=\"dataframe\">\n",
       "  <thead>\n",
       "    <tr style=\"text-align: right;\">\n",
       "      <th></th>\n",
       "      <th>dep_delay</th>\n",
       "      <th>arr_delay</th>\n",
       "      <th>delay_diff</th>\n",
       "    </tr>\n",
       "  </thead>\n",
       "  <tbody>\n",
       "    <tr>\n",
       "      <th>count</th>\n",
       "      <td>383866.000000</td>\n",
       "      <td>383866.000000</td>\n",
       "      <td>383866.000000</td>\n",
       "    </tr>\n",
       "    <tr>\n",
       "      <th>mean</th>\n",
       "      <td>6.253664</td>\n",
       "      <td>1.138507</td>\n",
       "      <td>-5.115157</td>\n",
       "    </tr>\n",
       "    <tr>\n",
       "      <th>std</th>\n",
       "      <td>25.255717</td>\n",
       "      <td>28.469163</td>\n",
       "      <td>13.251408</td>\n",
       "    </tr>\n",
       "    <tr>\n",
       "      <th>min</th>\n",
       "      <td>-45.000000</td>\n",
       "      <td>-85.000000</td>\n",
       "      <td>-130.000000</td>\n",
       "    </tr>\n",
       "    <tr>\n",
       "      <th>25%</th>\n",
       "      <td>-6.000000</td>\n",
       "      <td>-15.000000</td>\n",
       "      <td>-13.000000</td>\n",
       "    </tr>\n",
       "    <tr>\n",
       "      <th>50%</th>\n",
       "      <td>-2.000000</td>\n",
       "      <td>-6.000000</td>\n",
       "      <td>-6.000000</td>\n",
       "    </tr>\n",
       "    <tr>\n",
       "      <th>75%</th>\n",
       "      <td>5.000000</td>\n",
       "      <td>7.000000</td>\n",
       "      <td>1.000000</td>\n",
       "    </tr>\n",
       "    <tr>\n",
       "      <th>max</th>\n",
       "      <td>233.000000</td>\n",
       "      <td>156.000000</td>\n",
       "      <td>158.000000</td>\n",
       "    </tr>\n",
       "  </tbody>\n",
       "</table>\n",
       "</div>"
      ],
      "text/plain": [
       "           dep_delay      arr_delay     delay_diff\n",
       "count  383866.000000  383866.000000  383866.000000\n",
       "mean        6.253664       1.138507      -5.115157\n",
       "std        25.255717      28.469163      13.251408\n",
       "min       -45.000000     -85.000000    -130.000000\n",
       "25%        -6.000000     -15.000000     -13.000000\n",
       "50%        -2.000000      -6.000000      -6.000000\n",
       "75%         5.000000       7.000000       1.000000\n",
       "max       233.000000     156.000000     158.000000"
      ]
     },
     "execution_count": 35,
     "metadata": {},
     "output_type": "execute_result"
    }
   ],
   "source": [
    "delays.describe()"
   ]
  },
  {
   "cell_type": "code",
   "execution_count": null,
   "metadata": {},
   "outputs": [],
   "source": []
  },
  {
   "cell_type": "markdown",
   "metadata": {},
   "source": [
    "#### **Task 6**: How many states cover 50% of US air traffic? "
   ]
  },
  {
   "cell_type": "code",
   "execution_count": 36,
   "metadata": {},
   "outputs": [
    {
     "data": {
      "text/html": [
       "<div>\n",
       "<style scoped>\n",
       "    .dataframe tbody tr th:only-of-type {\n",
       "        vertical-align: middle;\n",
       "    }\n",
       "\n",
       "    .dataframe tbody tr th {\n",
       "        vertical-align: top;\n",
       "    }\n",
       "\n",
       "    .dataframe thead th {\n",
       "        text-align: right;\n",
       "    }\n",
       "</style>\n",
       "<table border=\"1\" class=\"dataframe\">\n",
       "  <thead>\n",
       "    <tr style=\"text-align: right;\">\n",
       "      <th></th>\n",
       "      <th>fl_date</th>\n",
       "      <th>branded_code_share</th>\n",
       "      <th>mkt_carrier</th>\n",
       "      <th>mkt_carrier_fl_num</th>\n",
       "      <th>op_unique_carrier</th>\n",
       "      <th>tail_num</th>\n",
       "      <th>op_carrier_fl_num</th>\n",
       "      <th>origin_airport_id</th>\n",
       "      <th>origin</th>\n",
       "      <th>origin_city_name</th>\n",
       "      <th>dest_airport_id</th>\n",
       "      <th>dest</th>\n",
       "      <th>dest_city_name</th>\n",
       "      <th>crs_dep_time</th>\n",
       "      <th>dep_time</th>\n",
       "      <th>dep_delay</th>\n",
       "      <th>taxi_out</th>\n",
       "      <th>wheels_off</th>\n",
       "      <th>wheels_on</th>\n",
       "      <th>taxi_in</th>\n",
       "      <th>crs_arr_time</th>\n",
       "      <th>arr_time</th>\n",
       "      <th>arr_delay</th>\n",
       "      <th>crs_elapsed_time</th>\n",
       "      <th>actual_elapsed_time</th>\n",
       "      <th>air_time</th>\n",
       "      <th>distance</th>\n",
       "    </tr>\n",
       "  </thead>\n",
       "  <tbody>\n",
       "    <tr>\n",
       "      <th>0</th>\n",
       "      <td>2018-03-07</td>\n",
       "      <td>AA</td>\n",
       "      <td>AA</td>\n",
       "      <td>465</td>\n",
       "      <td>AA</td>\n",
       "      <td>N200UU</td>\n",
       "      <td>465</td>\n",
       "      <td>14107</td>\n",
       "      <td>PHX</td>\n",
       "      <td>Phoenix, AZ</td>\n",
       "      <td>14679</td>\n",
       "      <td>SAN</td>\n",
       "      <td>San Diego, CA</td>\n",
       "      <td>835</td>\n",
       "      <td>833</td>\n",
       "      <td>-2</td>\n",
       "      <td>13</td>\n",
       "      <td>846</td>\n",
       "      <td>838</td>\n",
       "      <td>2</td>\n",
       "      <td>851</td>\n",
       "      <td>840</td>\n",
       "      <td>-11</td>\n",
       "      <td>76</td>\n",
       "      <td>67</td>\n",
       "      <td>52</td>\n",
       "      <td>304</td>\n",
       "    </tr>\n",
       "    <tr>\n",
       "      <th>1</th>\n",
       "      <td>2018-03-07</td>\n",
       "      <td>AA</td>\n",
       "      <td>AA</td>\n",
       "      <td>591</td>\n",
       "      <td>AA</td>\n",
       "      <td>N833AW</td>\n",
       "      <td>591</td>\n",
       "      <td>11057</td>\n",
       "      <td>CLT</td>\n",
       "      <td>Charlotte, NC</td>\n",
       "      <td>11278</td>\n",
       "      <td>DCA</td>\n",
       "      <td>Washington, DC</td>\n",
       "      <td>1431</td>\n",
       "      <td>1537</td>\n",
       "      <td>66</td>\n",
       "      <td>16</td>\n",
       "      <td>1553</td>\n",
       "      <td>1648</td>\n",
       "      <td>3</td>\n",
       "      <td>1559</td>\n",
       "      <td>1651</td>\n",
       "      <td>52</td>\n",
       "      <td>88</td>\n",
       "      <td>74</td>\n",
       "      <td>55</td>\n",
       "      <td>331</td>\n",
       "    </tr>\n",
       "    <tr>\n",
       "      <th>2</th>\n",
       "      <td>2018-03-07</td>\n",
       "      <td>AA</td>\n",
       "      <td>AA</td>\n",
       "      <td>600</td>\n",
       "      <td>AA</td>\n",
       "      <td>N151UW</td>\n",
       "      <td>600</td>\n",
       "      <td>11697</td>\n",
       "      <td>FLL</td>\n",
       "      <td>Fort Lauderdale, FL</td>\n",
       "      <td>11057</td>\n",
       "      <td>CLT</td>\n",
       "      <td>Charlotte, NC</td>\n",
       "      <td>603</td>\n",
       "      <td>557</td>\n",
       "      <td>-6</td>\n",
       "      <td>18</td>\n",
       "      <td>615</td>\n",
       "      <td>746</td>\n",
       "      <td>19</td>\n",
       "      <td>809</td>\n",
       "      <td>805</td>\n",
       "      <td>-4</td>\n",
       "      <td>126</td>\n",
       "      <td>128</td>\n",
       "      <td>91</td>\n",
       "      <td>632</td>\n",
       "    </tr>\n",
       "    <tr>\n",
       "      <th>3</th>\n",
       "      <td>2018-03-07</td>\n",
       "      <td>AA</td>\n",
       "      <td>AA</td>\n",
       "      <td>1805</td>\n",
       "      <td>AA</td>\n",
       "      <td>N924US</td>\n",
       "      <td>1805</td>\n",
       "      <td>11057</td>\n",
       "      <td>CLT</td>\n",
       "      <td>Charlotte, NC</td>\n",
       "      <td>10721</td>\n",
       "      <td>BOS</td>\n",
       "      <td>Boston, MA</td>\n",
       "      <td>1135</td>\n",
       "      <td>1129</td>\n",
       "      <td>-6</td>\n",
       "      <td>11</td>\n",
       "      <td>1140</td>\n",
       "      <td>1312</td>\n",
       "      <td>12</td>\n",
       "      <td>1352</td>\n",
       "      <td>1324</td>\n",
       "      <td>-28</td>\n",
       "      <td>137</td>\n",
       "      <td>115</td>\n",
       "      <td>92</td>\n",
       "      <td>728</td>\n",
       "    </tr>\n",
       "    <tr>\n",
       "      <th>4</th>\n",
       "      <td>2018-03-07</td>\n",
       "      <td>AA</td>\n",
       "      <td>AA</td>\n",
       "      <td>2615</td>\n",
       "      <td>AA</td>\n",
       "      <td>N945NN</td>\n",
       "      <td>2615</td>\n",
       "      <td>11057</td>\n",
       "      <td>CLT</td>\n",
       "      <td>Charlotte, NC</td>\n",
       "      <td>15370</td>\n",
       "      <td>TUL</td>\n",
       "      <td>Tulsa, OK</td>\n",
       "      <td>1820</td>\n",
       "      <td>1812</td>\n",
       "      <td>-8</td>\n",
       "      <td>11</td>\n",
       "      <td>1823</td>\n",
       "      <td>1936</td>\n",
       "      <td>6</td>\n",
       "      <td>2002</td>\n",
       "      <td>1942</td>\n",
       "      <td>-20</td>\n",
       "      <td>162</td>\n",
       "      <td>150</td>\n",
       "      <td>133</td>\n",
       "      <td>842</td>\n",
       "    </tr>\n",
       "  </tbody>\n",
       "</table>\n",
       "</div>"
      ],
      "text/plain": [
       "     fl_date branded_code_share mkt_carrier mkt_carrier_fl_num  \\\n",
       "0 2018-03-07                 AA          AA                465   \n",
       "1 2018-03-07                 AA          AA                591   \n",
       "2 2018-03-07                 AA          AA                600   \n",
       "3 2018-03-07                 AA          AA               1805   \n",
       "4 2018-03-07                 AA          AA               2615   \n",
       "\n",
       "  op_unique_carrier tail_num op_carrier_fl_num origin_airport_id origin  \\\n",
       "0                AA   N200UU               465             14107    PHX   \n",
       "1                AA   N833AW               591             11057    CLT   \n",
       "2                AA   N151UW               600             11697    FLL   \n",
       "3                AA   N924US              1805             11057    CLT   \n",
       "4                AA   N945NN              2615             11057    CLT   \n",
       "\n",
       "      origin_city_name dest_airport_id dest  dest_city_name  crs_dep_time  \\\n",
       "0          Phoenix, AZ           14679  SAN   San Diego, CA           835   \n",
       "1        Charlotte, NC           11278  DCA  Washington, DC          1431   \n",
       "2  Fort Lauderdale, FL           11057  CLT   Charlotte, NC           603   \n",
       "3        Charlotte, NC           10721  BOS      Boston, MA          1135   \n",
       "4        Charlotte, NC           15370  TUL       Tulsa, OK          1820   \n",
       "\n",
       "   dep_time  dep_delay  taxi_out  wheels_off  wheels_on  taxi_in  \\\n",
       "0       833         -2        13         846        838        2   \n",
       "1      1537         66        16        1553       1648        3   \n",
       "2       557         -6        18         615        746       19   \n",
       "3      1129         -6        11        1140       1312       12   \n",
       "4      1812         -8        11        1823       1936        6   \n",
       "\n",
       "   crs_arr_time  arr_time  arr_delay  crs_elapsed_time  actual_elapsed_time  \\\n",
       "0           851       840        -11                76                   67   \n",
       "1          1559      1651         52                88                   74   \n",
       "2           809       805         -4               126                  128   \n",
       "3          1352      1324        -28               137                  115   \n",
       "4          2002      1942        -20               162                  150   \n",
       "\n",
       "   air_time  distance  \n",
       "0        52       304  \n",
       "1        55       331  \n",
       "2        91       632  \n",
       "3        92       728  \n",
       "4       133       842  "
      ]
     },
     "execution_count": 36,
     "metadata": {},
     "output_type": "execute_result"
    }
   ],
   "source": [
    "df2.head()"
   ]
  },
  {
   "cell_type": "code",
   "execution_count": 37,
   "metadata": {},
   "outputs": [],
   "source": [
    "state_counts1 = df2[\"origin_city_name\"].copy()\n",
    "state_counts2 = df2[\"dest_city_name\"].copy()"
   ]
  },
  {
   "cell_type": "code",
   "execution_count": 38,
   "metadata": {},
   "outputs": [],
   "source": [
    "state_counts1 = [ele.split(\", \")[1] for ele in list(state_counts1.values)]\n",
    "state_counts2 = [ele.split(\", \")[1] for ele in list(state_counts2.values)]"
   ]
  },
  {
   "cell_type": "code",
   "execution_count": 39,
   "metadata": {},
   "outputs": [],
   "source": [
    "state_counts1 = pd.Series(state_counts1)\n",
    "state_counts2 = pd.Series(state_counts2)"
   ]
  },
  {
   "cell_type": "code",
   "execution_count": 46,
   "metadata": {},
   "outputs": [],
   "source": [
    "state_counts1 = state_counts1.value_counts()\n",
    "state_counts2 = state_counts2.value_counts()"
   ]
  },
  {
   "cell_type": "code",
   "execution_count": 47,
   "metadata": {
    "tags": []
   },
   "outputs": [
    {
     "data": {
      "text/plain": [
       "CA    41961\n",
       "TX    37896\n",
       "FL    27769\n",
       "IL    24036\n",
       "GA    20775\n",
       "NY    19534\n",
       "NC    17578\n",
       "dtype: int64"
      ]
     },
     "execution_count": 47,
     "metadata": {},
     "output_type": "execute_result"
    }
   ],
   "source": [
    "state_counts1[state_counts1.values.cumsum() <= state_counts1.sum() / 2]"
   ]
  },
  {
   "cell_type": "code",
   "execution_count": 48,
   "metadata": {},
   "outputs": [
    {
     "data": {
      "image/png": "[encoded data removed]",
      "text/plain": [
       "<Figure size 1080x648 with 1 Axes>"
      ]
     },
     "metadata": {
      "needs_background": "light"
     },
     "output_type": "display_data"
    }
   ],
   "source": [
    "figure6 = pyplot.figure(figsize=(15,9))\n",
    "\n",
    "pyplot.plot(state_counts1.index, state_counts1.values.cumsum() / state_counts1.sum(), label=\"cumulative sum of flights\")\n",
    "pyplot.plot(state_counts1.index, [0.5 for state in state_counts1.index], label=\"50% line\")\n",
    "\n",
    "pyplot.title(\"Cumulative sum of flights by state\")\n",
    "pyplot.ylabel(\"Proportion\")\n",
    "pyplot.grid()\n",
    "pyplot.legend()\n",
    "\n",
    "pyplot.show();"
   ]
  },
  {
   "cell_type": "markdown",
   "metadata": {},
   "source": [
    "**Analysis**  \n",
    "7 States cover 50% of US air traffic\n",
    "\n",
    "- California\n",
    "- Texas\n",
    "- Florida\n",
    "- Illinois\n",
    "- Georgia\n",
    "- New York\n",
    "- North Carolina"
   ]
  },
  {
   "cell_type": "markdown",
   "metadata": {},
   "source": [
    "#### **Task 7**: Test the hypothesis whether planes fly faster when there is the departure delay? "
   ]
  },
  {
   "cell_type": "code",
   "execution_count": 49,
   "metadata": {
    "tags": []
   },
   "outputs": [
    {
     "name": "stdout",
     "output_type": "stream",
     "text": [
      "0 min dep delay    -4.96 difference\n",
      "5 min dep delay    -4.9 difference\n",
      "10 min dep delay    -4.8 difference\n",
      "15 min dep delay    -4.75 difference\n",
      "20 min dep delay    -4.71 difference\n",
      "25 min dep delay    -4.7 difference\n",
      "30 min dep delay    -4.7 difference\n",
      "35 min dep delay    -4.74 difference\n",
      "40 min dep delay    -4.77 difference\n",
      "45 min dep delay    -4.83 difference\n",
      "50 min dep delay    -4.9 difference\n",
      "55 min dep delay    -4.98 difference\n",
      "60 min dep delay    -5.06 difference\n",
      "65 min dep delay    -5.19 difference\n",
      "70 min dep delay    -5.38 difference\n",
      "75 min dep delay    -5.56 difference\n",
      "80 min dep delay    -5.81 difference\n",
      "85 min dep delay    -6.1 difference\n",
      "90 min dep delay    -6.4 difference\n",
      "95 min dep delay    -6.73 difference\n",
      "100 min dep delay    -7.14 difference\n",
      "105 min dep delay    -7.61 difference\n",
      "110 min dep delay    -8.1 difference\n",
      "115 min dep delay    -8.58 difference\n",
      "120 min dep delay    -9.2 difference\n",
      "125 min dep delay    -9.95 difference\n",
      "130 min dep delay    -10.75 difference\n",
      "135 min dep delay    -11.82 difference\n",
      "140 min dep delay    -12.96 difference\n",
      "145 min dep delay    -14.27 difference\n",
      "150 min dep delay    -15.73 difference\n",
      "155 min dep delay    -17.72 difference\n",
      "160 min dep delay    -20.19 difference\n",
      "165 min dep delay    -24.1 difference\n",
      "170 min dep delay    -27.75 difference\n",
      "175 min dep delay    -32.21 difference\n",
      "180 min dep delay    -41.52 difference\n",
      "185 min dep delay    -63.83 difference\n",
      "190 min dep delay    -88.33 difference\n",
      "195 min dep delay    -88.33 difference\n",
      "200 min dep delay    -88.33 difference\n",
      "205 min dep delay    -104.5 difference\n",
      "210 min dep delay    -104.5 difference\n",
      "215 min dep delay    -104.5 difference\n",
      "220 min dep delay    -104.5 difference\n",
      "225 min dep delay    -79.0 difference\n",
      "230 min dep delay    -79.0 difference\n"
     ]
    }
   ],
   "source": [
    "# calculating average difference between arr_delay and dep_delay\n",
    "# negative numbers means plane arrived earlier than expected\n",
    "for i in range(0, delays[\"dep_delay\"].max(), 5):\n",
    "    print(f\"{i} min dep delay   \", round(delays[\"delay_diff\"][delays[\"dep_delay\"].gt(i)].mean(), 2), \"difference\")"
   ]
  },
  {
   "cell_type": "code",
   "execution_count": 50,
   "metadata": {},
   "outputs": [],
   "source": [
    "x = range(0, delays[\"dep_delay\"].max(), 5)\n",
    "y = [abs(round(delays[\"delay_diff\"][delays[\"dep_delay\"].gt(delay)].mean(), 2)) for delay in x]"
   ]
  },
  {
   "cell_type": "code",
   "execution_count": 51,
   "metadata": {
    "tags": []
   },
   "outputs": [
    {
     "data": {
      "text/plain": [
       "range(0, 233, 5)"
      ]
     },
     "execution_count": 51,
     "metadata": {},
     "output_type": "execute_result"
    },
    {
     "data": {
      "text/plain": [
       "[4.96,\n",
       " 4.9,\n",
       " 4.8,\n",
       " 4.75,\n",
       " 4.71,\n",
       " 4.7,\n",
       " 4.7,\n",
       " 4.74,\n",
       " 4.77,\n",
       " 4.83,\n",
       " 4.9,\n",
       " 4.98,\n",
       " 5.06,\n",
       " 5.19,\n",
       " 5.38,\n",
       " 5.56,\n",
       " 5.81,\n",
       " 6.1,\n",
       " 6.4,\n",
       " 6.73,\n",
       " 7.14,\n",
       " 7.61,\n",
       " 8.1,\n",
       " 8.58,\n",
       " 9.2,\n",
       " 9.95,\n",
       " 10.75,\n",
       " 11.82,\n",
       " 12.96,\n",
       " 14.27,\n",
       " 15.73,\n",
       " 17.72,\n",
       " 20.19,\n",
       " 24.1,\n",
       " 27.75,\n",
       " 32.21,\n",
       " 41.52,\n",
       " 63.83,\n",
       " 88.33,\n",
       " 88.33,\n",
       " 88.33,\n",
       " 104.5,\n",
       " 104.5,\n",
       " 104.5,\n",
       " 104.5,\n",
       " 79.0,\n",
       " 79.0]"
      ]
     },
     "execution_count": 51,
     "metadata": {},
     "output_type": "execute_result"
    }
   ],
   "source": [
    "x\n",
    "y"
   ]
  },
  {
   "cell_type": "code",
   "execution_count": 52,
   "metadata": {},
   "outputs": [
    {
     "data": {
      "image/png": "[encoded data removed]",
      "text/plain": [
       "<Figure size 1080x648 with 1 Axes>"
      ]
     },
     "metadata": {
      "needs_background": "light"
     },
     "output_type": "display_data"
    }
   ],
   "source": [
    "fig7 = pyplot.figure(figsize=(15,9))\n",
    "\n",
    "pyplot.plot(x, y)\n",
    "\n",
    "pyplot.title(\"AVG time saved when plane delayed during departure\")\n",
    "pyplot.xlabel(\"Departure delay in minutes\")\n",
    "pyplot.ylabel(\"Time saved in minutes (dep_delay - arr_delay)\")\n",
    "            \n",
    "pyplot.show();"
   ]
  },
  {
   "cell_type": "code",
   "execution_count": null,
   "metadata": {},
   "outputs": [],
   "source": []
  },
  {
   "cell_type": "markdown",
   "metadata": {},
   "source": [
    "#### **Task 8**: When (which hour) do most 'LONG', 'SHORT', 'MEDIUM' haul flights take off?"
   ]
  },
  {
   "cell_type": "code",
   "execution_count": null,
   "metadata": {},
   "outputs": [],
   "source": []
  },
  {
   "cell_type": "code",
   "execution_count": null,
   "metadata": {},
   "outputs": [],
   "source": []
  },
  {
   "cell_type": "markdown",
   "metadata": {},
   "source": [
    "#### **Task 9**: Find the top 10 the bussiest airports. Does the biggest number of flights mean that the biggest number of passengers went through the particular airport? How much traffic do these 10 airports cover?"
   ]
  },
  {
   "cell_type": "code",
   "execution_count": null,
   "metadata": {},
   "outputs": [],
   "source": []
  },
  {
   "cell_type": "code",
   "execution_count": null,
   "metadata": {},
   "outputs": [],
   "source": []
  },
  {
   "cell_type": "markdown",
   "metadata": {},
   "source": [
    "#### **Task 10**: Do bigger delays lead to bigger fuel comsumption per passenger? \n",
    "We need to do four things to answer this as accurate as possible:\n",
    "- Find out average monthly delay per air carrier (monthly delay is sum of all delays in 1 month)\n",
    "- Find out distance covered monthly by different air carriers\n",
    "- Find out number of passengers that were carried by different air carriers\n",
    "- Find out total fuel comsumption per air carrier.\n",
    "\n",
    "Use this information to get the average fuel comsumption per passenger per km. Is this higher for the airlines with bigger average delays?"
   ]
  },
  {
   "cell_type": "code",
   "execution_count": null,
   "metadata": {},
   "outputs": [],
   "source": []
  },
  {
   "cell_type": "code",
   "execution_count": null,
   "metadata": {},
   "outputs": [],
   "source": []
  }
 ],
 "metadata": {
  "kernelspec": {
   "display_name": "Python 3",
   "language": "python",
   "name": "python3"
  },
  "language_info": {
   "codemirror_mode": {
    "name": "ipython",
    "version": 3
   },
   "file_extension": ".py",
   "mimetype": "text/x-python",
   "name": "python",
   "nbconvert_exporter": "python",
   "pygments_lexer": "ipython3",
   "version": "3.8.8"
  },
  "toc": {
   "base_numbering": 1,
   "nav_menu": {},
   "number_sections": true,
   "sideBar": true,
   "skip_h1_title": false,
   "title_cell": "Table of Contents",
   "title_sidebar": "Contents",
   "toc_cell": false,
   "toc_position": {},
   "toc_section_display": true,
   "toc_window_display": false
  },
  "varInspector": {
   "cols": {
    "lenName": 16,
    "lenType": 16,
    "lenVar": 40
   },
   "kernels_config": {
    "python": {
     "delete_cmd_postfix": "",
     "delete_cmd_prefix": "del ",
     "library": "var_list.py",
     "varRefreshCmd": "print(var_dic_list())"
    },
    "r": {
     "delete_cmd_postfix": ") ",
     "delete_cmd_prefix": "rm(",
     "library": "var_list.r",
     "varRefreshCmd": "cat(var_dic_list()) "
    }
   },
   "types_to_exclude": [
    "module",
    "function",
    "builtin_function_or_method",
    "instance",
    "_Feature"
   ],
   "window_display": false
  }
 },
 "nbformat": 4,
 "nbformat_minor": 4
}
