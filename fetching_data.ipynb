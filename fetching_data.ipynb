{
 "cells": [
  {
   "cell_type": "markdown",
   "id": "6b8d2424",
   "metadata": {},
   "source": [
    "# Accessing the Database"
   ]
  },
  {
   "cell_type": "code",
   "execution_count": 1,
   "id": "f3d0db53",
   "metadata": {},
   "outputs": [],
   "source": [
    "import psycopg2\n",
    "import pandas as pd"
   ]
  },
  {
   "cell_type": "code",
   "execution_count": 2,
   "id": "4711c884",
   "metadata": {},
   "outputs": [],
   "source": [
    "# ensure all columns are displayed when viewing a pandas dataframe\n",
    "pd.set_option('display.max_columns', None)"
   ]
  },
  {
   "cell_type": "code",
   "execution_count": 3,
   "id": "ecf2fb1f-8517-4182-a517-62a52ba46cb1",
   "metadata": {},
   "outputs": [],
   "source": [
    "def make_csv(query, filename):\n",
    "    \"\"\" I think it only works for 'SELECT *' statements. \"\"\"\n",
    "    # Creating a connection to the database\n",
    "    print(\"creating conecction...\")\n",
    "    con = psycopg2.connect(database=\"mid_term_project\", \n",
    "                           user=\"lhl_student\", \n",
    "                           password=\"lhl_student\", \n",
    "                           host=\"mid-term-project.ca2jkepgjpne.us-east-2.rds.amazonaws.com\", \n",
    "                           port=\"5432\")\n",
    "\n",
    "\n",
    "    # creating a cursor object\n",
    "    cur = con.cursor()\n",
    "    # running an sql query\n",
    "    print(\"running query...\")\n",
    "    cur.execute(query)\n",
    "    # Storing the result\n",
    "    rows = cur.fetchall()\n",
    "    cols = [desc[0] for desc in cur.description]\n",
    "\n",
    "    con.close()\n",
    "\n",
    "    # writing the csv file\n",
    "    print(\"writing file...\")\n",
    "    df = pd.DataFrame(rows, columns=cols)\n",
    "    df.to_csv(filename, index=False)\n",
    "    \n",
    "    print(\"done\")"
   ]
  },
  {
   "cell_type": "code",
   "execution_count": 5,
   "id": "431b39e5-b2cc-42c6-a007-84deb1532183",
   "metadata": {},
   "outputs": [
    {
     "name": "stdout",
     "output_type": "stream",
     "text": [
      "creating conecction...\n",
      "running query...\n",
      "writing file...\n",
      "done\n"
     ]
    }
   ],
   "source": [
    "make_csv(\"SELECT * FROM flights_test\", \"flights_test.csv\")"
   ]
  },
  {
   "cell_type": "code",
   "execution_count": 33,
   "id": "d737ce55-8b05-4d24-8589-c203f0dd9037",
   "metadata": {},
   "outputs": [
    {
     "name": "stdout",
     "output_type": "stream",
     "text": [
      "creating conecction...\n",
      "running query...\n",
      "writing file...\n",
      "done\n"
     ]
    }
   ],
   "source": [
    "make_csv(\"SELECT * FROM flights LIMIT 100\", \"test_csv4.csv\")"
   ]
  },
  {
   "cell_type": "code",
   "execution_count": 36,
   "id": "d4c437bb-c2a0-45bb-9f2f-79d6a16913b9",
   "metadata": {},
   "outputs": [
    {
     "name": "stdout",
     "output_type": "stream",
     "text": [
      "creating conecction...\n",
      "running query...\n",
      "writing file...\n",
      "done\n"
     ]
    }
   ],
   "source": [
    "make_csv(\"SELECT * FROM flights WHERE fl_date SIMILAR TO '201[8-9]-01-0[1-7]'\", \"flights_week1_jan.csv\")"
   ]
  },
  {
   "cell_type": "code",
   "execution_count": null,
   "id": "da78335d-da9f-44ea-962e-fe28ac3de62b",
   "metadata": {},
   "outputs": [],
   "source": [
    "### This query pulls a random sample\n",
    "\"SELECT * FROM flights WHERE random() < 0.0001\""
   ]
  }
 ],
 "metadata": {
  "kernelspec": {
   "display_name": "bootcamp",
   "language": "python",
   "name": "bootcamp"
  },
  "language_info": {
   "codemirror_mode": {
    "name": "ipython",
    "version": 3
   },
   "file_extension": ".py",
   "mimetype": "text/x-python",
   "name": "python",
   "nbconvert_exporter": "python",
   "pygments_lexer": "ipython3",
   "version": "3.8.5"
  }
 },
 "nbformat": 4,
 "nbformat_minor": 5
}
