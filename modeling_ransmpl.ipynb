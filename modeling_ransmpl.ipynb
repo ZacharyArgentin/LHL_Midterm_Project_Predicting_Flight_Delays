{
 "cells": [
  {
   "cell_type": "markdown",
   "metadata": {},
   "source": [
    "# Machine Learning\n",
    "\n",
    "In this file, instructions how to approach the challenge can be found."
   ]
  },
  {
   "cell_type": "markdown",
   "metadata": {},
   "source": [
    "We are going to work on different types of Machine Learning problems:\n",
    "\n",
    "- **Regression Problem**: The goal is to predict delay of flights.\n",
    "- **(Stretch) Multiclass Classification**: If the plane was delayed, we will predict what type of delay it is (will be).\n",
    "- **(Stretch) Binary Classification**: The goal is to predict if the flight will be cancelled."
   ]
  },
  {
   "cell_type": "code",
   "execution_count": 40,
   "metadata": {},
   "outputs": [],
   "source": [
    "import pandas as pd\n",
    "import numpy as np\n",
    "import sklearn"
   ]
  },
  {
   "cell_type": "code",
   "execution_count": 36,
   "metadata": {},
   "outputs": [],
   "source": [
    "pd.set_option(\"display.max_columns\", None)"
   ]
  },
  {
   "cell_type": "markdown",
   "metadata": {},
   "source": [
    "## Main Task: Regression Problem"
   ]
  },
  {
   "cell_type": "markdown",
   "metadata": {},
   "source": [
    "The target variable is **ARR_DELAY**. We need to be careful which columns to use and which don't. For example, DEP_DELAY is going to be the perfect predictor, but we can't use it because in real-life scenario, we want to predict the delay before the flight takes of --> We can use average delay from earlier days but not the one from the actual flight we predict.  \n",
    "\n",
    "For example, variables **CARRIER_DELAY, WEATHER_DELAY, NAS_DELAY, SECURITY_DELAY, LATE_AIRCRAFT_DELAY** shouldn't be used directly as predictors as well. However, we can create various transformations from earlier values.\n",
    "\n",
    "We will be evaluating your models by predicting the ARR_DELAY for all flights **1 week in advance**."
   ]
  },
  {
   "cell_type": "code",
   "execution_count": 2,
   "metadata": {},
   "outputs": [],
   "source": [
    "# import csv file with the proper dtypes\n",
    "dtype_dict = {\n",
    " 'branded_code_share': 'string',\n",
    " 'mkt_carrier': 'string',\n",
    " 'mkt_carrier_fl_num': 'string',\n",
    " 'op_unique_carrier': 'string',\n",
    " 'tail_num': 'string',\n",
    " 'op_carrier_fl_num': 'string',\n",
    " 'origin_airport_id': 'string',\n",
    " 'origin': 'string',\n",
    " 'origin_city_name': 'string',\n",
    " 'dest_airport_id': 'string',\n",
    " 'dest': 'string',\n",
    " 'dest_city_name': 'string',\n",
    " 'crs_dep_time': 'int64',\n",
    " 'dep_time': 'int64',\n",
    " 'dep_delay': 'int64',\n",
    " 'taxi_out': 'int64',\n",
    " 'wheels_off': 'int64',\n",
    " 'wheels_on': 'int64',\n",
    " 'taxi_in': 'int64',\n",
    " 'crs_arr_time': 'int64',\n",
    " 'arr_time': 'int64',\n",
    " 'arr_delay': 'int64',\n",
    " 'crs_elapsed_time': 'int64',\n",
    " 'actual_elapsed_time': 'int64',\n",
    " 'air_time': 'int64',\n",
    " 'distance': 'int64'}\n",
    "df = pd.read_csv(\"data/ransmpl_clean.csv\", parse_dates=[0], dtype=dtype_dict)"
   ]
  },
  {
   "cell_type": "code",
   "execution_count": 4,
   "metadata": {
    "tags": []
   },
   "outputs": [
    {
     "data": {
      "text/html": [
       "<div>\n",
       "<style scoped>\n",
       "    .dataframe tbody tr th:only-of-type {\n",
       "        vertical-align: middle;\n",
       "    }\n",
       "\n",
       "    .dataframe tbody tr th {\n",
       "        vertical-align: top;\n",
       "    }\n",
       "\n",
       "    .dataframe thead th {\n",
       "        text-align: right;\n",
       "    }\n",
       "</style>\n",
       "<table border=\"1\" class=\"dataframe\">\n",
       "  <thead>\n",
       "    <tr style=\"text-align: right;\">\n",
       "      <th></th>\n",
       "      <th>fl_date</th>\n",
       "      <th>branded_code_share</th>\n",
       "      <th>mkt_carrier</th>\n",
       "      <th>mkt_carrier_fl_num</th>\n",
       "      <th>op_unique_carrier</th>\n",
       "      <th>tail_num</th>\n",
       "      <th>op_carrier_fl_num</th>\n",
       "      <th>origin_airport_id</th>\n",
       "      <th>origin</th>\n",
       "      <th>origin_city_name</th>\n",
       "      <th>...</th>\n",
       "      <th>wheels_off</th>\n",
       "      <th>wheels_on</th>\n",
       "      <th>taxi_in</th>\n",
       "      <th>crs_arr_time</th>\n",
       "      <th>arr_time</th>\n",
       "      <th>arr_delay</th>\n",
       "      <th>crs_elapsed_time</th>\n",
       "      <th>actual_elapsed_time</th>\n",
       "      <th>air_time</th>\n",
       "      <th>distance</th>\n",
       "    </tr>\n",
       "  </thead>\n",
       "  <tbody>\n",
       "    <tr>\n",
       "      <th>0</th>\n",
       "      <td>2018-03-07</td>\n",
       "      <td>AA</td>\n",
       "      <td>AA</td>\n",
       "      <td>465</td>\n",
       "      <td>AA</td>\n",
       "      <td>N200UU</td>\n",
       "      <td>465</td>\n",
       "      <td>14107</td>\n",
       "      <td>PHX</td>\n",
       "      <td>Phoenix, AZ</td>\n",
       "      <td>...</td>\n",
       "      <td>846</td>\n",
       "      <td>838</td>\n",
       "      <td>2</td>\n",
       "      <td>851</td>\n",
       "      <td>840</td>\n",
       "      <td>-11</td>\n",
       "      <td>76</td>\n",
       "      <td>67</td>\n",
       "      <td>52</td>\n",
       "      <td>304</td>\n",
       "    </tr>\n",
       "    <tr>\n",
       "      <th>1</th>\n",
       "      <td>2018-03-07</td>\n",
       "      <td>AA</td>\n",
       "      <td>AA</td>\n",
       "      <td>591</td>\n",
       "      <td>AA</td>\n",
       "      <td>N833AW</td>\n",
       "      <td>591</td>\n",
       "      <td>11057</td>\n",
       "      <td>CLT</td>\n",
       "      <td>Charlotte, NC</td>\n",
       "      <td>...</td>\n",
       "      <td>1553</td>\n",
       "      <td>1648</td>\n",
       "      <td>3</td>\n",
       "      <td>1559</td>\n",
       "      <td>1651</td>\n",
       "      <td>52</td>\n",
       "      <td>88</td>\n",
       "      <td>74</td>\n",
       "      <td>55</td>\n",
       "      <td>331</td>\n",
       "    </tr>\n",
       "    <tr>\n",
       "      <th>2</th>\n",
       "      <td>2018-03-07</td>\n",
       "      <td>AA</td>\n",
       "      <td>AA</td>\n",
       "      <td>600</td>\n",
       "      <td>AA</td>\n",
       "      <td>N151UW</td>\n",
       "      <td>600</td>\n",
       "      <td>11697</td>\n",
       "      <td>FLL</td>\n",
       "      <td>Fort Lauderdale, FL</td>\n",
       "      <td>...</td>\n",
       "      <td>615</td>\n",
       "      <td>746</td>\n",
       "      <td>19</td>\n",
       "      <td>809</td>\n",
       "      <td>805</td>\n",
       "      <td>-4</td>\n",
       "      <td>126</td>\n",
       "      <td>128</td>\n",
       "      <td>91</td>\n",
       "      <td>632</td>\n",
       "    </tr>\n",
       "    <tr>\n",
       "      <th>3</th>\n",
       "      <td>2018-03-07</td>\n",
       "      <td>AA</td>\n",
       "      <td>AA</td>\n",
       "      <td>1805</td>\n",
       "      <td>AA</td>\n",
       "      <td>N924US</td>\n",
       "      <td>1805</td>\n",
       "      <td>11057</td>\n",
       "      <td>CLT</td>\n",
       "      <td>Charlotte, NC</td>\n",
       "      <td>...</td>\n",
       "      <td>1140</td>\n",
       "      <td>1312</td>\n",
       "      <td>12</td>\n",
       "      <td>1352</td>\n",
       "      <td>1324</td>\n",
       "      <td>-28</td>\n",
       "      <td>137</td>\n",
       "      <td>115</td>\n",
       "      <td>92</td>\n",
       "      <td>728</td>\n",
       "    </tr>\n",
       "    <tr>\n",
       "      <th>4</th>\n",
       "      <td>2018-03-07</td>\n",
       "      <td>AA</td>\n",
       "      <td>AA</td>\n",
       "      <td>2615</td>\n",
       "      <td>AA</td>\n",
       "      <td>N945NN</td>\n",
       "      <td>2615</td>\n",
       "      <td>11057</td>\n",
       "      <td>CLT</td>\n",
       "      <td>Charlotte, NC</td>\n",
       "      <td>...</td>\n",
       "      <td>1823</td>\n",
       "      <td>1936</td>\n",
       "      <td>6</td>\n",
       "      <td>2002</td>\n",
       "      <td>1942</td>\n",
       "      <td>-20</td>\n",
       "      <td>162</td>\n",
       "      <td>150</td>\n",
       "      <td>133</td>\n",
       "      <td>842</td>\n",
       "    </tr>\n",
       "  </tbody>\n",
       "</table>\n",
       "<p>5 rows × 27 columns</p>\n",
       "</div>"
      ],
      "text/plain": [
       "     fl_date branded_code_share mkt_carrier mkt_carrier_fl_num  \\\n",
       "0 2018-03-07                 AA          AA                465   \n",
       "1 2018-03-07                 AA          AA                591   \n",
       "2 2018-03-07                 AA          AA                600   \n",
       "3 2018-03-07                 AA          AA               1805   \n",
       "4 2018-03-07                 AA          AA               2615   \n",
       "\n",
       "  op_unique_carrier tail_num op_carrier_fl_num origin_airport_id origin  \\\n",
       "0                AA   N200UU               465             14107    PHX   \n",
       "1                AA   N833AW               591             11057    CLT   \n",
       "2                AA   N151UW               600             11697    FLL   \n",
       "3                AA   N924US              1805             11057    CLT   \n",
       "4                AA   N945NN              2615             11057    CLT   \n",
       "\n",
       "      origin_city_name  ... wheels_off wheels_on taxi_in  crs_arr_time  \\\n",
       "0          Phoenix, AZ  ...        846       838       2           851   \n",
       "1        Charlotte, NC  ...       1553      1648       3          1559   \n",
       "2  Fort Lauderdale, FL  ...        615       746      19           809   \n",
       "3        Charlotte, NC  ...       1140      1312      12          1352   \n",
       "4        Charlotte, NC  ...       1823      1936       6          2002   \n",
       "\n",
       "   arr_time  arr_delay  crs_elapsed_time  actual_elapsed_time  air_time  \\\n",
       "0       840        -11                76                   67        52   \n",
       "1      1651         52                88                   74        55   \n",
       "2       805         -4               126                  128        91   \n",
       "3      1324        -28               137                  115        92   \n",
       "4      1942        -20               162                  150       133   \n",
       "\n",
       "   distance  \n",
       "0       304  \n",
       "1       331  \n",
       "2       632  \n",
       "3       728  \n",
       "4       842  \n",
       "\n",
       "[5 rows x 27 columns]"
      ]
     },
     "execution_count": 4,
     "metadata": {},
     "output_type": "execute_result"
    }
   ],
   "source": [
    "df.head()"
   ]
  },
  {
   "cell_type": "markdown",
   "metadata": {},
   "source": [
    "### Feature Engineering"
   ]
  },
  {
   "cell_type": "markdown",
   "metadata": {},
   "source": [
    "Feature engineering will play a crucial role in this problems. We have only very little attributes so we need to create some features that will have some predictive power.\n",
    "\n",
    "- weather: we can use some weather API to look for the weather in time of the scheduled departure and scheduled arrival.\n",
    "- statistics (avg, mean, median, std, min, max...): we can take a look at previous delays and compute descriptive statistics\n",
    "- airports encoding: we need to think about what to do with the airports and other categorical variables\n",
    "- time of the day: the delay probably depends on the airport traffic which varies during the day.\n",
    "- airport traffic\n",
    "- unsupervised learning as feature engineering?\n",
    "- **what are the additional options?**: Think about what we could do more to improve the model."
   ]
  },
  {
   "cell_type": "markdown",
   "metadata": {},
   "source": [
    "**Creating Feature: Avg Delay for carrier**"
   ]
  },
  {
   "cell_type": "code",
   "execution_count": 28,
   "metadata": {
    "tags": []
   },
   "outputs": [],
   "source": [
    "# calculate avg delay by carrier\n",
    "avg_delay_df = df[[\"op_unique_carrier\", \"arr_delay\"]].groupby(\"op_unique_carrier\").mean().reset_index()\n",
    "# round values and create a dictionary mapping each carrier to their avg delay\n",
    "avg_delay_map = dict(avg_delay_df.values)\n",
    "rounded_delay_vals = [round(val, 2) for val in avg_delay_map.values()]\n",
    "avg_delay_map = dict(zip(avg_delay_map.keys(), rounded_delay_vals))\n",
    "# creating new column based on the mapping\n",
    "df[\"avg_delay_for_carrier\"] = df[\"op_unique_carrier\"].map(avg_delay_map)"
   ]
  },
  {
   "cell_type": "code",
   "execution_count": null,
   "metadata": {},
   "outputs": [],
   "source": []
  },
  {
   "cell_type": "code",
   "execution_count": null,
   "metadata": {},
   "outputs": [],
   "source": []
  },
  {
   "cell_type": "code",
   "execution_count": null,
   "metadata": {},
   "outputs": [],
   "source": []
  },
  {
   "cell_type": "code",
   "execution_count": null,
   "metadata": {},
   "outputs": [],
   "source": []
  },
  {
   "cell_type": "code",
   "execution_count": null,
   "metadata": {},
   "outputs": [],
   "source": []
  },
  {
   "cell_type": "markdown",
   "metadata": {},
   "source": [
    "### Feature Selection / Dimensionality Reduction"
   ]
  },
  {
   "cell_type": "markdown",
   "metadata": {},
   "source": [
    "We need to apply different selection techniques to find out which one will be the best for our problems.\n",
    "\n",
    "- Original Features vs. PCA conponents?"
   ]
  },
  {
   "cell_type": "code",
   "execution_count": 37,
   "metadata": {},
   "outputs": [
    {
     "data": {
      "text/html": [
       "<div>\n",
       "<style scoped>\n",
       "    .dataframe tbody tr th:only-of-type {\n",
       "        vertical-align: middle;\n",
       "    }\n",
       "\n",
       "    .dataframe tbody tr th {\n",
       "        vertical-align: top;\n",
       "    }\n",
       "\n",
       "    .dataframe thead th {\n",
       "        text-align: right;\n",
       "    }\n",
       "</style>\n",
       "<table border=\"1\" class=\"dataframe\">\n",
       "  <thead>\n",
       "    <tr style=\"text-align: right;\">\n",
       "      <th></th>\n",
       "      <th>fl_date</th>\n",
       "      <th>branded_code_share</th>\n",
       "      <th>mkt_carrier</th>\n",
       "      <th>mkt_carrier_fl_num</th>\n",
       "      <th>op_unique_carrier</th>\n",
       "      <th>tail_num</th>\n",
       "      <th>op_carrier_fl_num</th>\n",
       "      <th>origin_airport_id</th>\n",
       "      <th>origin</th>\n",
       "      <th>origin_city_name</th>\n",
       "      <th>dest_airport_id</th>\n",
       "      <th>dest</th>\n",
       "      <th>dest_city_name</th>\n",
       "      <th>crs_dep_time</th>\n",
       "      <th>dep_time</th>\n",
       "      <th>dep_delay</th>\n",
       "      <th>taxi_out</th>\n",
       "      <th>wheels_off</th>\n",
       "      <th>wheels_on</th>\n",
       "      <th>taxi_in</th>\n",
       "      <th>crs_arr_time</th>\n",
       "      <th>arr_time</th>\n",
       "      <th>arr_delay</th>\n",
       "      <th>crs_elapsed_time</th>\n",
       "      <th>actual_elapsed_time</th>\n",
       "      <th>air_time</th>\n",
       "      <th>distance</th>\n",
       "      <th>avg_delay_for_carrier</th>\n",
       "    </tr>\n",
       "  </thead>\n",
       "  <tbody>\n",
       "    <tr>\n",
       "      <th>0</th>\n",
       "      <td>2018-03-07</td>\n",
       "      <td>AA</td>\n",
       "      <td>AA</td>\n",
       "      <td>465</td>\n",
       "      <td>AA</td>\n",
       "      <td>N200UU</td>\n",
       "      <td>465</td>\n",
       "      <td>14107</td>\n",
       "      <td>PHX</td>\n",
       "      <td>Phoenix, AZ</td>\n",
       "      <td>14679</td>\n",
       "      <td>SAN</td>\n",
       "      <td>San Diego, CA</td>\n",
       "      <td>835</td>\n",
       "      <td>833</td>\n",
       "      <td>-2</td>\n",
       "      <td>13</td>\n",
       "      <td>846</td>\n",
       "      <td>838</td>\n",
       "      <td>2</td>\n",
       "      <td>851</td>\n",
       "      <td>840</td>\n",
       "      <td>-11</td>\n",
       "      <td>76</td>\n",
       "      <td>67</td>\n",
       "      <td>52</td>\n",
       "      <td>304</td>\n",
       "      <td>6.07</td>\n",
       "    </tr>\n",
       "    <tr>\n",
       "      <th>1</th>\n",
       "      <td>2018-03-07</td>\n",
       "      <td>AA</td>\n",
       "      <td>AA</td>\n",
       "      <td>591</td>\n",
       "      <td>AA</td>\n",
       "      <td>N833AW</td>\n",
       "      <td>591</td>\n",
       "      <td>11057</td>\n",
       "      <td>CLT</td>\n",
       "      <td>Charlotte, NC</td>\n",
       "      <td>11278</td>\n",
       "      <td>DCA</td>\n",
       "      <td>Washington, DC</td>\n",
       "      <td>1431</td>\n",
       "      <td>1537</td>\n",
       "      <td>66</td>\n",
       "      <td>16</td>\n",
       "      <td>1553</td>\n",
       "      <td>1648</td>\n",
       "      <td>3</td>\n",
       "      <td>1559</td>\n",
       "      <td>1651</td>\n",
       "      <td>52</td>\n",
       "      <td>88</td>\n",
       "      <td>74</td>\n",
       "      <td>55</td>\n",
       "      <td>331</td>\n",
       "      <td>6.07</td>\n",
       "    </tr>\n",
       "    <tr>\n",
       "      <th>2</th>\n",
       "      <td>2018-03-07</td>\n",
       "      <td>AA</td>\n",
       "      <td>AA</td>\n",
       "      <td>600</td>\n",
       "      <td>AA</td>\n",
       "      <td>N151UW</td>\n",
       "      <td>600</td>\n",
       "      <td>11697</td>\n",
       "      <td>FLL</td>\n",
       "      <td>Fort Lauderdale, FL</td>\n",
       "      <td>11057</td>\n",
       "      <td>CLT</td>\n",
       "      <td>Charlotte, NC</td>\n",
       "      <td>603</td>\n",
       "      <td>557</td>\n",
       "      <td>-6</td>\n",
       "      <td>18</td>\n",
       "      <td>615</td>\n",
       "      <td>746</td>\n",
       "      <td>19</td>\n",
       "      <td>809</td>\n",
       "      <td>805</td>\n",
       "      <td>-4</td>\n",
       "      <td>126</td>\n",
       "      <td>128</td>\n",
       "      <td>91</td>\n",
       "      <td>632</td>\n",
       "      <td>6.07</td>\n",
       "    </tr>\n",
       "    <tr>\n",
       "      <th>3</th>\n",
       "      <td>2018-03-07</td>\n",
       "      <td>AA</td>\n",
       "      <td>AA</td>\n",
       "      <td>1805</td>\n",
       "      <td>AA</td>\n",
       "      <td>N924US</td>\n",
       "      <td>1805</td>\n",
       "      <td>11057</td>\n",
       "      <td>CLT</td>\n",
       "      <td>Charlotte, NC</td>\n",
       "      <td>10721</td>\n",
       "      <td>BOS</td>\n",
       "      <td>Boston, MA</td>\n",
       "      <td>1135</td>\n",
       "      <td>1129</td>\n",
       "      <td>-6</td>\n",
       "      <td>11</td>\n",
       "      <td>1140</td>\n",
       "      <td>1312</td>\n",
       "      <td>12</td>\n",
       "      <td>1352</td>\n",
       "      <td>1324</td>\n",
       "      <td>-28</td>\n",
       "      <td>137</td>\n",
       "      <td>115</td>\n",
       "      <td>92</td>\n",
       "      <td>728</td>\n",
       "      <td>6.07</td>\n",
       "    </tr>\n",
       "    <tr>\n",
       "      <th>4</th>\n",
       "      <td>2018-03-07</td>\n",
       "      <td>AA</td>\n",
       "      <td>AA</td>\n",
       "      <td>2615</td>\n",
       "      <td>AA</td>\n",
       "      <td>N945NN</td>\n",
       "      <td>2615</td>\n",
       "      <td>11057</td>\n",
       "      <td>CLT</td>\n",
       "      <td>Charlotte, NC</td>\n",
       "      <td>15370</td>\n",
       "      <td>TUL</td>\n",
       "      <td>Tulsa, OK</td>\n",
       "      <td>1820</td>\n",
       "      <td>1812</td>\n",
       "      <td>-8</td>\n",
       "      <td>11</td>\n",
       "      <td>1823</td>\n",
       "      <td>1936</td>\n",
       "      <td>6</td>\n",
       "      <td>2002</td>\n",
       "      <td>1942</td>\n",
       "      <td>-20</td>\n",
       "      <td>162</td>\n",
       "      <td>150</td>\n",
       "      <td>133</td>\n",
       "      <td>842</td>\n",
       "      <td>6.07</td>\n",
       "    </tr>\n",
       "  </tbody>\n",
       "</table>\n",
       "</div>"
      ],
      "text/plain": [
       "     fl_date branded_code_share mkt_carrier mkt_carrier_fl_num  \\\n",
       "0 2018-03-07                 AA          AA                465   \n",
       "1 2018-03-07                 AA          AA                591   \n",
       "2 2018-03-07                 AA          AA                600   \n",
       "3 2018-03-07                 AA          AA               1805   \n",
       "4 2018-03-07                 AA          AA               2615   \n",
       "\n",
       "  op_unique_carrier tail_num op_carrier_fl_num origin_airport_id origin  \\\n",
       "0                AA   N200UU               465             14107    PHX   \n",
       "1                AA   N833AW               591             11057    CLT   \n",
       "2                AA   N151UW               600             11697    FLL   \n",
       "3                AA   N924US              1805             11057    CLT   \n",
       "4                AA   N945NN              2615             11057    CLT   \n",
       "\n",
       "      origin_city_name dest_airport_id dest  dest_city_name  crs_dep_time  \\\n",
       "0          Phoenix, AZ           14679  SAN   San Diego, CA           835   \n",
       "1        Charlotte, NC           11278  DCA  Washington, DC          1431   \n",
       "2  Fort Lauderdale, FL           11057  CLT   Charlotte, NC           603   \n",
       "3        Charlotte, NC           10721  BOS      Boston, MA          1135   \n",
       "4        Charlotte, NC           15370  TUL       Tulsa, OK          1820   \n",
       "\n",
       "   dep_time  dep_delay  taxi_out  wheels_off  wheels_on  taxi_in  \\\n",
       "0       833         -2        13         846        838        2   \n",
       "1      1537         66        16        1553       1648        3   \n",
       "2       557         -6        18         615        746       19   \n",
       "3      1129         -6        11        1140       1312       12   \n",
       "4      1812         -8        11        1823       1936        6   \n",
       "\n",
       "   crs_arr_time  arr_time  arr_delay  crs_elapsed_time  actual_elapsed_time  \\\n",
       "0           851       840        -11                76                   67   \n",
       "1          1559      1651         52                88                   74   \n",
       "2           809       805         -4               126                  128   \n",
       "3          1352      1324        -28               137                  115   \n",
       "4          2002      1942        -20               162                  150   \n",
       "\n",
       "   air_time  distance  avg_delay_for_carrier  \n",
       "0        52       304                   6.07  \n",
       "1        55       331                   6.07  \n",
       "2        91       632                   6.07  \n",
       "3        92       728                   6.07  \n",
       "4       133       842                   6.07  "
      ]
     },
     "execution_count": 37,
     "metadata": {},
     "output_type": "execute_result"
    }
   ],
   "source": [
    "df.head()"
   ]
  },
  {
   "cell_type": "code",
   "execution_count": 38,
   "metadata": {},
   "outputs": [],
   "source": [
    "X = df[[\"avg_delay_for_carrier\", \"distance\"]]"
   ]
  },
  {
   "cell_type": "code",
   "execution_count": 39,
   "metadata": {},
   "outputs": [],
   "source": [
    "y = df[\"arr_delay\"]"
   ]
  },
  {
   "cell_type": "code",
   "execution_count": 91,
   "metadata": {},
   "outputs": [
    {
     "data": {
      "text/html": [
       "<div>\n",
       "<style scoped>\n",
       "    .dataframe tbody tr th:only-of-type {\n",
       "        vertical-align: middle;\n",
       "    }\n",
       "\n",
       "    .dataframe tbody tr th {\n",
       "        vertical-align: top;\n",
       "    }\n",
       "\n",
       "    .dataframe thead th {\n",
       "        text-align: right;\n",
       "    }\n",
       "</style>\n",
       "<table border=\"1\" class=\"dataframe\">\n",
       "  <thead>\n",
       "    <tr style=\"text-align: right;\">\n",
       "      <th></th>\n",
       "      <th>avg_delay_for_carrier</th>\n",
       "      <th>distance</th>\n",
       "    </tr>\n",
       "  </thead>\n",
       "  <tbody>\n",
       "    <tr>\n",
       "      <th>0</th>\n",
       "      <td>6.07</td>\n",
       "      <td>304</td>\n",
       "    </tr>\n",
       "    <tr>\n",
       "      <th>1</th>\n",
       "      <td>6.07</td>\n",
       "      <td>331</td>\n",
       "    </tr>\n",
       "    <tr>\n",
       "      <th>2</th>\n",
       "      <td>6.07</td>\n",
       "      <td>632</td>\n",
       "    </tr>\n",
       "    <tr>\n",
       "      <th>3</th>\n",
       "      <td>6.07</td>\n",
       "      <td>728</td>\n",
       "    </tr>\n",
       "    <tr>\n",
       "      <th>4</th>\n",
       "      <td>6.07</td>\n",
       "      <td>842</td>\n",
       "    </tr>\n",
       "  </tbody>\n",
       "</table>\n",
       "</div>"
      ],
      "text/plain": [
       "   avg_delay_for_carrier  distance\n",
       "0                   6.07       304\n",
       "1                   6.07       331\n",
       "2                   6.07       632\n",
       "3                   6.07       728\n",
       "4                   6.07       842"
      ]
     },
     "execution_count": 91,
     "metadata": {},
     "output_type": "execute_result"
    }
   ],
   "source": [
    "X.head()"
   ]
  },
  {
   "cell_type": "code",
   "execution_count": 92,
   "metadata": {},
   "outputs": [
    {
     "data": {
      "text/plain": [
       "0   -11\n",
       "1    52\n",
       "2    -4\n",
       "3   -28\n",
       "4   -20\n",
       "Name: arr_delay, dtype: int64"
      ]
     },
     "execution_count": 92,
     "metadata": {},
     "output_type": "execute_result"
    }
   ],
   "source": [
    "y.head()"
   ]
  },
  {
   "cell_type": "markdown",
   "metadata": {},
   "source": [
    "### Modeling"
   ]
  },
  {
   "cell_type": "markdown",
   "metadata": {},
   "source": [
    "Use different ML techniques to predict each problem.\n",
    "\n",
    "- linear / logistic / multinomial logistic regression\n",
    "- Naive Bayes\n",
    "- Random Forest\n",
    "- SVM\n",
    "- XGBoost\n",
    "- The ensemble of your own choice"
   ]
  },
  {
   "cell_type": "code",
   "execution_count": 48,
   "metadata": {},
   "outputs": [],
   "source": [
    "from sklearn.linear_model import LinearRegression\n",
    "from sklearn.model_selection import train_test_split"
   ]
  },
  {
   "cell_type": "code",
   "execution_count": 50,
   "metadata": {
    "collapsed": true,
    "jupyter": {
     "outputs_hidden": true
    },
    "tags": []
   },
   "outputs": [
    {
     "name": "stdout",
     "output_type": "stream",
     "text": [
      "Help on function train_test_split in module sklearn.model_selection._split:\n",
      "\n",
      "train_test_split(*arrays, test_size=None, train_size=None, random_state=None, shuffle=True, stratify=None)\n",
      "    Split arrays or matrices into random train and test subsets\n",
      "    \n",
      "    Quick utility that wraps input validation and\n",
      "    ``next(ShuffleSplit().split(X, y))`` and application to input data\n",
      "    into a single call for splitting (and optionally subsampling) data in a\n",
      "    oneliner.\n",
      "    \n",
      "    Read more in the :ref:`User Guide <cross_validation>`.\n",
      "    \n",
      "    Parameters\n",
      "    ----------\n",
      "    *arrays : sequence of indexables with same length / shape[0]\n",
      "        Allowed inputs are lists, numpy arrays, scipy-sparse\n",
      "        matrices or pandas dataframes.\n",
      "    \n",
      "    test_size : float or int, default=None\n",
      "        If float, should be between 0.0 and 1.0 and represent the proportion\n",
      "        of the dataset to include in the test split. If int, represents the\n",
      "        absolute number of test samples. If None, the value is set to the\n",
      "        complement of the train size. If ``train_size`` is also None, it will\n",
      "        be set to 0.25.\n",
      "    \n",
      "    train_size : float or int, default=None\n",
      "        If float, should be between 0.0 and 1.0 and represent the\n",
      "        proportion of the dataset to include in the train split. If\n",
      "        int, represents the absolute number of train samples. If None,\n",
      "        the value is automatically set to the complement of the test size.\n",
      "    \n",
      "    random_state : int, RandomState instance or None, default=None\n",
      "        Controls the shuffling applied to the data before applying the split.\n",
      "        Pass an int for reproducible output across multiple function calls.\n",
      "        See :term:`Glossary <random_state>`.\n",
      "    \n",
      "    \n",
      "    shuffle : bool, default=True\n",
      "        Whether or not to shuffle the data before splitting. If shuffle=False\n",
      "        then stratify must be None.\n",
      "    \n",
      "    stratify : array-like, default=None\n",
      "        If not None, data is split in a stratified fashion, using this as\n",
      "        the class labels.\n",
      "        Read more in the :ref:`User Guide <stratification>`.\n",
      "    \n",
      "    Returns\n",
      "    -------\n",
      "    splitting : list, length=2 * len(arrays)\n",
      "        List containing train-test split of inputs.\n",
      "    \n",
      "        .. versionadded:: 0.16\n",
      "            If the input is sparse, the output will be a\n",
      "            ``scipy.sparse.csr_matrix``. Else, output type is the same as the\n",
      "            input type.\n",
      "    \n",
      "    Examples\n",
      "    --------\n",
      "    >>> import numpy as np\n",
      "    >>> from sklearn.model_selection import train_test_split\n",
      "    >>> X, y = np.arange(10).reshape((5, 2)), range(5)\n",
      "    >>> X\n",
      "    array([[0, 1],\n",
      "           [2, 3],\n",
      "           [4, 5],\n",
      "           [6, 7],\n",
      "           [8, 9]])\n",
      "    >>> list(y)\n",
      "    [0, 1, 2, 3, 4]\n",
      "    \n",
      "    >>> X_train, X_test, y_train, y_test = train_test_split(\n",
      "    ...     X, y, test_size=0.33, random_state=42)\n",
      "    ...\n",
      "    >>> X_train\n",
      "    array([[4, 5],\n",
      "           [0, 1],\n",
      "           [6, 7]])\n",
      "    >>> y_train\n",
      "    [2, 0, 3]\n",
      "    >>> X_test\n",
      "    array([[2, 3],\n",
      "           [8, 9]])\n",
      "    >>> y_test\n",
      "    [1, 4]\n",
      "    \n",
      "    >>> train_test_split(y, shuffle=False)\n",
      "    [[0, 1, 2], [3, 4]]\n",
      "\n"
     ]
    }
   ],
   "source": [
    "help(train_test_split)"
   ]
  },
  {
   "cell_type": "code",
   "execution_count": 51,
   "metadata": {},
   "outputs": [],
   "source": [
    "X_train, X_test, y_train, y_test = train_test_split(X, y, train_size=0.8)"
   ]
  },
  {
   "cell_type": "code",
   "execution_count": null,
   "metadata": {},
   "outputs": [],
   "source": []
  },
  {
   "cell_type": "markdown",
   "metadata": {},
   "source": [
    "**Trying a simple linear regression**"
   ]
  },
  {
   "cell_type": "code",
   "execution_count": 53,
   "metadata": {},
   "outputs": [],
   "source": [
    "linreg = LinearRegression(normalize=True)"
   ]
  },
  {
   "cell_type": "code",
   "execution_count": 55,
   "metadata": {},
   "outputs": [
    {
     "data": {
      "text/plain": [
       "LinearRegression(normalize=True)"
      ]
     },
     "execution_count": 55,
     "metadata": {},
     "output_type": "execute_result"
    }
   ],
   "source": [
    "linreg.fit(X_train, y_train)"
   ]
  },
  {
   "cell_type": "code",
   "execution_count": 63,
   "metadata": {},
   "outputs": [],
   "source": [
    "delay_pred = linreg.predict(X_test)"
   ]
  },
  {
   "cell_type": "code",
   "execution_count": 88,
   "metadata": {},
   "outputs": [
    {
     "data": {
      "text/html": [
       "<div>\n",
       "<style scoped>\n",
       "    .dataframe tbody tr th:only-of-type {\n",
       "        vertical-align: middle;\n",
       "    }\n",
       "\n",
       "    .dataframe tbody tr th {\n",
       "        vertical-align: top;\n",
       "    }\n",
       "\n",
       "    .dataframe thead th {\n",
       "        text-align: right;\n",
       "    }\n",
       "</style>\n",
       "<table border=\"1\" class=\"dataframe\">\n",
       "  <thead>\n",
       "    <tr style=\"text-align: right;\">\n",
       "      <th></th>\n",
       "      <th>actual_delay</th>\n",
       "      <th>predicted_delay</th>\n",
       "      <th>error</th>\n",
       "    </tr>\n",
       "  </thead>\n",
       "  <tbody>\n",
       "    <tr>\n",
       "      <th>0</th>\n",
       "      <td>39.0</td>\n",
       "      <td>0.687900</td>\n",
       "      <td>38.312100</td>\n",
       "    </tr>\n",
       "    <tr>\n",
       "      <th>1</th>\n",
       "      <td>-6.0</td>\n",
       "      <td>0.169648</td>\n",
       "      <td>-6.169648</td>\n",
       "    </tr>\n",
       "    <tr>\n",
       "      <th>2</th>\n",
       "      <td>-28.0</td>\n",
       "      <td>5.327450</td>\n",
       "      <td>-33.327450</td>\n",
       "    </tr>\n",
       "    <tr>\n",
       "      <th>3</th>\n",
       "      <td>-9.0</td>\n",
       "      <td>3.919275</td>\n",
       "      <td>-12.919275</td>\n",
       "    </tr>\n",
       "    <tr>\n",
       "      <th>4</th>\n",
       "      <td>0.0</td>\n",
       "      <td>6.196237</td>\n",
       "      <td>-6.196237</td>\n",
       "    </tr>\n",
       "    <tr>\n",
       "      <th>...</th>\n",
       "      <td>...</td>\n",
       "      <td>...</td>\n",
       "      <td>...</td>\n",
       "    </tr>\n",
       "    <tr>\n",
       "      <th>78007</th>\n",
       "      <td>20.0</td>\n",
       "      <td>7.854136</td>\n",
       "      <td>12.145864</td>\n",
       "    </tr>\n",
       "    <tr>\n",
       "      <th>78008</th>\n",
       "      <td>-10.0</td>\n",
       "      <td>0.346168</td>\n",
       "      <td>-10.346168</td>\n",
       "    </tr>\n",
       "    <tr>\n",
       "      <th>78009</th>\n",
       "      <td>7.0</td>\n",
       "      <td>11.330206</td>\n",
       "      <td>-4.330206</td>\n",
       "    </tr>\n",
       "    <tr>\n",
       "      <th>78010</th>\n",
       "      <td>26.0</td>\n",
       "      <td>3.543304</td>\n",
       "      <td>22.456696</td>\n",
       "    </tr>\n",
       "    <tr>\n",
       "      <th>78011</th>\n",
       "      <td>8.0</td>\n",
       "      <td>6.293610</td>\n",
       "      <td>1.706390</td>\n",
       "    </tr>\n",
       "  </tbody>\n",
       "</table>\n",
       "<p>78012 rows × 3 columns</p>\n",
       "</div>"
      ],
      "text/plain": [
       "       actual_delay  predicted_delay      error\n",
       "0              39.0         0.687900  38.312100\n",
       "1              -6.0         0.169648  -6.169648\n",
       "2             -28.0         5.327450 -33.327450\n",
       "3              -9.0         3.919275 -12.919275\n",
       "4               0.0         6.196237  -6.196237\n",
       "...             ...              ...        ...\n",
       "78007          20.0         7.854136  12.145864\n",
       "78008         -10.0         0.346168 -10.346168\n",
       "78009           7.0        11.330206  -4.330206\n",
       "78010          26.0         3.543304  22.456696\n",
       "78011           8.0         6.293610   1.706390\n",
       "\n",
       "[78012 rows x 3 columns]"
      ]
     },
     "execution_count": 88,
     "metadata": {},
     "output_type": "execute_result"
    }
   ],
   "source": [
    "results_df = pd.DataFrame([y_test.values, delay_pred])\n",
    "results_df = results_df.T\n",
    "results_df.columns = [\"actual_delay\", \"predicted_delay\"]\n",
    "results_df[\"error\"] = results_df[\"actual_delay\"] - results_df[\"predicted_delay\"]\n",
    "results_df"
   ]
  },
  {
   "cell_type": "code",
   "execution_count": 90,
   "metadata": {},
   "outputs": [
    {
     "data": {
      "text/plain": [
       "0.0054614605418357165"
      ]
     },
     "execution_count": 90,
     "metadata": {},
     "output_type": "execute_result"
    }
   ],
   "source": [
    "# Calculating r2 manually\n",
    "\n",
    "residuals = results_df[\"actual_delay\"] - results_df[\"predicted_delay\"]\n",
    "residuals_sq = residuals ** 2\n",
    "sum_of_residuals_sq = residuals_sq.sum()\n",
    "\n",
    "var_mean = results_df[\"actual_delay\"] - (results_df[\"actual_delay\"].mean()) \n",
    "var_mean_sq = var_mean ** 2\n",
    "sum_of_var_mean_sq = var_mean_sq.sum()\n",
    "\n",
    "r2 = 1 - (sum_of_residuals_sq / sum_of_var_mean_sq)\n",
    "r2"
   ]
  },
  {
   "cell_type": "code",
   "execution_count": 59,
   "metadata": {},
   "outputs": [
    {
     "data": {
      "text/plain": [
       "0.0052148378135684625"
      ]
     },
     "execution_count": 59,
     "metadata": {},
     "output_type": "execute_result"
    }
   ],
   "source": [
    "# r2 train score\n",
    "linreg.score(X_train, y_train)"
   ]
  },
  {
   "cell_type": "code",
   "execution_count": 60,
   "metadata": {},
   "outputs": [
    {
     "data": {
      "text/plain": [
       "0.0054614605418357165"
      ]
     },
     "execution_count": 60,
     "metadata": {},
     "output_type": "execute_result"
    }
   ],
   "source": [
    "# r2 test score\n",
    "linreg.score(X_test, y_test)"
   ]
  },
  {
   "cell_type": "markdown",
   "metadata": {},
   "source": [
    "**Analysis**   \n",
    "r2 score was awful.   \n",
    "using flight distance and avg delay by carrier in a linear regression was not effective at all"
   ]
  },
  {
   "cell_type": "markdown",
   "metadata": {},
   "source": [
    "**Making a linear regression function**"
   ]
  },
  {
   "cell_type": "code",
   "execution_count": null,
   "metadata": {},
   "outputs": [],
   "source": [
    "def run_linear_regression(X, y):\n",
    "    model = linreg.fit(X,y)"
   ]
  },
  {
   "cell_type": "markdown",
   "metadata": {},
   "source": [
    "### Evaluation"
   ]
  },
  {
   "cell_type": "markdown",
   "metadata": {},
   "source": [
    "You have data from 2018 and 2019 to develop models. Use different evaluation metrics for each problem and compare the performance of different models.\n",
    "\n",
    "You are required to predict delays on **out of sample** data from **first 7 days (1st-7th) of January 2020** and to share the file with LighthouseLabs. Sample submission can be found in the file **_sample_submission.csv_**"
   ]
  },
  {
   "cell_type": "code",
   "execution_count": null,
   "metadata": {},
   "outputs": [],
   "source": []
  },
  {
   "cell_type": "code",
   "execution_count": null,
   "metadata": {},
   "outputs": [],
   "source": []
  },
  {
   "cell_type": "code",
   "execution_count": null,
   "metadata": {},
   "outputs": [],
   "source": []
  },
  {
   "cell_type": "code",
   "execution_count": null,
   "metadata": {},
   "outputs": [],
   "source": []
  },
  {
   "cell_type": "markdown",
   "metadata": {},
   "source": [
    "======================================================================\n",
    "## Stretch Tasks"
   ]
  },
  {
   "cell_type": "markdown",
   "metadata": {},
   "source": [
    "### Multiclass Classification"
   ]
  },
  {
   "cell_type": "markdown",
   "metadata": {},
   "source": [
    "The target variables are **CARRIER_DELAY, WEATHER_DELAY, NAS_DELAY, SECURITY_DELAY, LATE_AIRCRAFT_DELAY**. We need to do additional transformations because these variables are not binary but continuos. For each flight that was delayed, we need to have one of these variables as 1 and others 0.\n",
    "\n",
    "It can happen that we have two types of delays with more than 0 minutes. In this case, take the bigger one as 1 and others as 0."
   ]
  },
  {
   "cell_type": "code",
   "execution_count": null,
   "metadata": {},
   "outputs": [],
   "source": []
  },
  {
   "cell_type": "code",
   "execution_count": null,
   "metadata": {},
   "outputs": [],
   "source": []
  },
  {
   "cell_type": "code",
   "execution_count": null,
   "metadata": {},
   "outputs": [],
   "source": []
  },
  {
   "cell_type": "markdown",
   "metadata": {},
   "source": [
    "### Binary Classification"
   ]
  },
  {
   "cell_type": "markdown",
   "metadata": {},
   "source": [
    "The target variable is **CANCELLED**. The main problem here is going to be huge class imbalance. We have only very little cancelled flights with comparison to all flights. It is important to do the right sampling before training and to choose correct evaluation metrics."
   ]
  },
  {
   "cell_type": "code",
   "execution_count": null,
   "metadata": {},
   "outputs": [],
   "source": []
  },
  {
   "cell_type": "code",
   "execution_count": null,
   "metadata": {},
   "outputs": [],
   "source": []
  },
  {
   "cell_type": "code",
   "execution_count": null,
   "metadata": {},
   "outputs": [],
   "source": []
  }
 ],
 "metadata": {
  "kernelspec": {
   "display_name": "Python 3",
   "language": "python",
   "name": "python3"
  },
  "language_info": {
   "codemirror_mode": {
    "name": "ipython",
    "version": 3
   },
   "file_extension": ".py",
   "mimetype": "text/x-python",
   "name": "python",
   "nbconvert_exporter": "python",
   "pygments_lexer": "ipython3",
   "version": "3.8.8"
  }
 },
 "nbformat": 4,
 "nbformat_minor": 4
}
