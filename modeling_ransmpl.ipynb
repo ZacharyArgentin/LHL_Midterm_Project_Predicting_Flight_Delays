{
 "cells": [
  {
   "cell_type": "markdown",
   "metadata": {},
   "source": [
    "# Machine Learning\n",
    "\n",
    "In this file, instructions how to approach the challenge can be found."
   ]
  },
  {
   "cell_type": "markdown",
   "metadata": {},
   "source": [
    "We are going to work on different types of Machine Learning problems:\n",
    "\n",
    "- **Regression Problem**: The goal is to predict delay of flights.\n",
    "- **(Stretch) Multiclass Classification**: If the plane was delayed, we will predict what type of delay it is (will be).\n",
    "- **(Stretch) Binary Classification**: The goal is to predict if the flight will be cancelled."
   ]
  },
  {
   "cell_type": "code",
   "execution_count": 23,
   "metadata": {},
   "outputs": [],
   "source": [
    "import pandas as pd\n",
    "import numpy as np"
   ]
  },
  {
   "cell_type": "code",
   "execution_count": 24,
   "metadata": {},
   "outputs": [],
   "source": [
    "pd.set_option(\"display.max_columns\", None)"
   ]
  },
  {
   "cell_type": "markdown",
   "metadata": {},
   "source": [
    "## Main Task: Regression Problem"
   ]
  },
  {
   "cell_type": "markdown",
   "metadata": {},
   "source": [
    "The target variable is **ARR_DELAY**. We need to be careful which columns to use and which don't. For example, DEP_DELAY is going to be the perfect predictor, but we can't use it because in real-life scenario, we want to predict the delay before the flight takes of --> We can use average delay from earlier days but not the one from the actual flight we predict.  \n",
    "\n",
    "For example, variables **CARRIER_DELAY, WEATHER_DELAY, NAS_DELAY, SECURITY_DELAY, LATE_AIRCRAFT_DELAY** shouldn't be used directly as predictors as well. However, we can create various transformations from earlier values.\n",
    "\n",
    "We will be evaluating your models by predicting the ARR_DELAY for all flights **1 week in advance**."
   ]
  },
  {
   "cell_type": "code",
   "execution_count": 25,
   "metadata": {},
   "outputs": [],
   "source": [
    "# import csv file with the proper dtypes\n",
    "dtype_dict = {\n",
    " 'branded_code_share': 'string',\n",
    " 'mkt_carrier': 'string',\n",
    " 'mkt_carrier_fl_num': 'string',\n",
    " 'op_unique_carrier': 'string',\n",
    " 'tail_num': 'string',\n",
    " 'op_carrier_fl_num': 'string',\n",
    " 'origin_airport_id': 'string',\n",
    " 'origin': 'string',\n",
    " 'origin_city_name': 'string',\n",
    " 'dest_airport_id': 'string',\n",
    " 'dest': 'string',\n",
    " 'dest_city_name': 'string',\n",
    " 'crs_dep_time': 'int64',\n",
    " 'dep_time': 'int64',\n",
    " 'dep_delay': 'int64',\n",
    " 'taxi_out': 'int64',\n",
    " 'wheels_off': 'int64',\n",
    " 'wheels_on': 'int64',\n",
    " 'taxi_in': 'int64',\n",
    " 'crs_arr_time': 'int64',\n",
    " 'arr_time': 'int64',\n",
    " 'arr_delay': 'int64',\n",
    " 'crs_elapsed_time': 'int64',\n",
    " 'actual_elapsed_time': 'int64',\n",
    " 'air_time': 'int64',\n",
    " 'distance': 'int64'}\n",
    "df = pd.read_csv(\"data/ransmpl_clean.csv\", parse_dates=[0], dtype=dtype_dict)"
   ]
  },
  {
   "cell_type": "code",
   "execution_count": 26,
   "metadata": {
    "tags": []
   },
   "outputs": [
    {
     "data": {
      "text/html": [
       "<div>\n",
       "<style scoped>\n",
       "    .dataframe tbody tr th:only-of-type {\n",
       "        vertical-align: middle;\n",
       "    }\n",
       "\n",
       "    .dataframe tbody tr th {\n",
       "        vertical-align: top;\n",
       "    }\n",
       "\n",
       "    .dataframe thead th {\n",
       "        text-align: right;\n",
       "    }\n",
       "</style>\n",
       "<table border=\"1\" class=\"dataframe\">\n",
       "  <thead>\n",
       "    <tr style=\"text-align: right;\">\n",
       "      <th></th>\n",
       "      <th>fl_date</th>\n",
       "      <th>branded_code_share</th>\n",
       "      <th>mkt_carrier</th>\n",
       "      <th>mkt_carrier_fl_num</th>\n",
       "      <th>op_unique_carrier</th>\n",
       "      <th>tail_num</th>\n",
       "      <th>op_carrier_fl_num</th>\n",
       "      <th>origin_airport_id</th>\n",
       "      <th>origin</th>\n",
       "      <th>origin_city_name</th>\n",
       "      <th>dest_airport_id</th>\n",
       "      <th>dest</th>\n",
       "      <th>dest_city_name</th>\n",
       "      <th>crs_dep_time</th>\n",
       "      <th>dep_time</th>\n",
       "      <th>dep_delay</th>\n",
       "      <th>taxi_out</th>\n",
       "      <th>wheels_off</th>\n",
       "      <th>wheels_on</th>\n",
       "      <th>taxi_in</th>\n",
       "      <th>crs_arr_time</th>\n",
       "      <th>arr_time</th>\n",
       "      <th>arr_delay</th>\n",
       "      <th>crs_elapsed_time</th>\n",
       "      <th>actual_elapsed_time</th>\n",
       "      <th>air_time</th>\n",
       "      <th>distance</th>\n",
       "    </tr>\n",
       "  </thead>\n",
       "  <tbody>\n",
       "    <tr>\n",
       "      <th>0</th>\n",
       "      <td>2018-03-07</td>\n",
       "      <td>AA</td>\n",
       "      <td>AA</td>\n",
       "      <td>465</td>\n",
       "      <td>AA</td>\n",
       "      <td>N200UU</td>\n",
       "      <td>465</td>\n",
       "      <td>14107</td>\n",
       "      <td>PHX</td>\n",
       "      <td>Phoenix, AZ</td>\n",
       "      <td>14679</td>\n",
       "      <td>SAN</td>\n",
       "      <td>San Diego, CA</td>\n",
       "      <td>835</td>\n",
       "      <td>833</td>\n",
       "      <td>-2</td>\n",
       "      <td>13</td>\n",
       "      <td>846</td>\n",
       "      <td>838</td>\n",
       "      <td>2</td>\n",
       "      <td>851</td>\n",
       "      <td>840</td>\n",
       "      <td>-11</td>\n",
       "      <td>76</td>\n",
       "      <td>67</td>\n",
       "      <td>52</td>\n",
       "      <td>304</td>\n",
       "    </tr>\n",
       "    <tr>\n",
       "      <th>1</th>\n",
       "      <td>2018-03-07</td>\n",
       "      <td>AA</td>\n",
       "      <td>AA</td>\n",
       "      <td>591</td>\n",
       "      <td>AA</td>\n",
       "      <td>N833AW</td>\n",
       "      <td>591</td>\n",
       "      <td>11057</td>\n",
       "      <td>CLT</td>\n",
       "      <td>Charlotte, NC</td>\n",
       "      <td>11278</td>\n",
       "      <td>DCA</td>\n",
       "      <td>Washington, DC</td>\n",
       "      <td>1431</td>\n",
       "      <td>1537</td>\n",
       "      <td>66</td>\n",
       "      <td>16</td>\n",
       "      <td>1553</td>\n",
       "      <td>1648</td>\n",
       "      <td>3</td>\n",
       "      <td>1559</td>\n",
       "      <td>1651</td>\n",
       "      <td>52</td>\n",
       "      <td>88</td>\n",
       "      <td>74</td>\n",
       "      <td>55</td>\n",
       "      <td>331</td>\n",
       "    </tr>\n",
       "    <tr>\n",
       "      <th>2</th>\n",
       "      <td>2018-03-07</td>\n",
       "      <td>AA</td>\n",
       "      <td>AA</td>\n",
       "      <td>600</td>\n",
       "      <td>AA</td>\n",
       "      <td>N151UW</td>\n",
       "      <td>600</td>\n",
       "      <td>11697</td>\n",
       "      <td>FLL</td>\n",
       "      <td>Fort Lauderdale, FL</td>\n",
       "      <td>11057</td>\n",
       "      <td>CLT</td>\n",
       "      <td>Charlotte, NC</td>\n",
       "      <td>603</td>\n",
       "      <td>557</td>\n",
       "      <td>-6</td>\n",
       "      <td>18</td>\n",
       "      <td>615</td>\n",
       "      <td>746</td>\n",
       "      <td>19</td>\n",
       "      <td>809</td>\n",
       "      <td>805</td>\n",
       "      <td>-4</td>\n",
       "      <td>126</td>\n",
       "      <td>128</td>\n",
       "      <td>91</td>\n",
       "      <td>632</td>\n",
       "    </tr>\n",
       "    <tr>\n",
       "      <th>3</th>\n",
       "      <td>2018-03-07</td>\n",
       "      <td>AA</td>\n",
       "      <td>AA</td>\n",
       "      <td>1805</td>\n",
       "      <td>AA</td>\n",
       "      <td>N924US</td>\n",
       "      <td>1805</td>\n",
       "      <td>11057</td>\n",
       "      <td>CLT</td>\n",
       "      <td>Charlotte, NC</td>\n",
       "      <td>10721</td>\n",
       "      <td>BOS</td>\n",
       "      <td>Boston, MA</td>\n",
       "      <td>1135</td>\n",
       "      <td>1129</td>\n",
       "      <td>-6</td>\n",
       "      <td>11</td>\n",
       "      <td>1140</td>\n",
       "      <td>1312</td>\n",
       "      <td>12</td>\n",
       "      <td>1352</td>\n",
       "      <td>1324</td>\n",
       "      <td>-28</td>\n",
       "      <td>137</td>\n",
       "      <td>115</td>\n",
       "      <td>92</td>\n",
       "      <td>728</td>\n",
       "    </tr>\n",
       "    <tr>\n",
       "      <th>4</th>\n",
       "      <td>2018-03-07</td>\n",
       "      <td>AA</td>\n",
       "      <td>AA</td>\n",
       "      <td>2615</td>\n",
       "      <td>AA</td>\n",
       "      <td>N945NN</td>\n",
       "      <td>2615</td>\n",
       "      <td>11057</td>\n",
       "      <td>CLT</td>\n",
       "      <td>Charlotte, NC</td>\n",
       "      <td>15370</td>\n",
       "      <td>TUL</td>\n",
       "      <td>Tulsa, OK</td>\n",
       "      <td>1820</td>\n",
       "      <td>1812</td>\n",
       "      <td>-8</td>\n",
       "      <td>11</td>\n",
       "      <td>1823</td>\n",
       "      <td>1936</td>\n",
       "      <td>6</td>\n",
       "      <td>2002</td>\n",
       "      <td>1942</td>\n",
       "      <td>-20</td>\n",
       "      <td>162</td>\n",
       "      <td>150</td>\n",
       "      <td>133</td>\n",
       "      <td>842</td>\n",
       "    </tr>\n",
       "  </tbody>\n",
       "</table>\n",
       "</div>"
      ],
      "text/plain": [
       "     fl_date branded_code_share mkt_carrier mkt_carrier_fl_num  \\\n",
       "0 2018-03-07                 AA          AA                465   \n",
       "1 2018-03-07                 AA          AA                591   \n",
       "2 2018-03-07                 AA          AA                600   \n",
       "3 2018-03-07                 AA          AA               1805   \n",
       "4 2018-03-07                 AA          AA               2615   \n",
       "\n",
       "  op_unique_carrier tail_num op_carrier_fl_num origin_airport_id origin  \\\n",
       "0                AA   N200UU               465             14107    PHX   \n",
       "1                AA   N833AW               591             11057    CLT   \n",
       "2                AA   N151UW               600             11697    FLL   \n",
       "3                AA   N924US              1805             11057    CLT   \n",
       "4                AA   N945NN              2615             11057    CLT   \n",
       "\n",
       "      origin_city_name dest_airport_id dest  dest_city_name  crs_dep_time  \\\n",
       "0          Phoenix, AZ           14679  SAN   San Diego, CA           835   \n",
       "1        Charlotte, NC           11278  DCA  Washington, DC          1431   \n",
       "2  Fort Lauderdale, FL           11057  CLT   Charlotte, NC           603   \n",
       "3        Charlotte, NC           10721  BOS      Boston, MA          1135   \n",
       "4        Charlotte, NC           15370  TUL       Tulsa, OK          1820   \n",
       "\n",
       "   dep_time  dep_delay  taxi_out  wheels_off  wheels_on  taxi_in  \\\n",
       "0       833         -2        13         846        838        2   \n",
       "1      1537         66        16        1553       1648        3   \n",
       "2       557         -6        18         615        746       19   \n",
       "3      1129         -6        11        1140       1312       12   \n",
       "4      1812         -8        11        1823       1936        6   \n",
       "\n",
       "   crs_arr_time  arr_time  arr_delay  crs_elapsed_time  actual_elapsed_time  \\\n",
       "0           851       840        -11                76                   67   \n",
       "1          1559      1651         52                88                   74   \n",
       "2           809       805         -4               126                  128   \n",
       "3          1352      1324        -28               137                  115   \n",
       "4          2002      1942        -20               162                  150   \n",
       "\n",
       "   air_time  distance  \n",
       "0        52       304  \n",
       "1        55       331  \n",
       "2        91       632  \n",
       "3        92       728  \n",
       "4       133       842  "
      ]
     },
     "execution_count": 26,
     "metadata": {},
     "output_type": "execute_result"
    }
   ],
   "source": [
    "df.head()"
   ]
  },
  {
   "cell_type": "markdown",
   "metadata": {},
   "source": [
    "### Feature Engineering"
   ]
  },
  {
   "cell_type": "markdown",
   "metadata": {},
   "source": [
    "Feature engineering will play a crucial role in this problems. We have only very little attributes so we need to create some features that will have some predictive power.\n",
    "\n",
    "- weather: we can use some weather API to look for the weather in time of the scheduled departure and scheduled arrival.\n",
    "- statistics (avg, mean, median, std, min, max...): we can take a look at previous delays and compute descriptive statistics\n",
    "- airports encoding: we need to think about what to do with the airports and other categorical variables\n",
    "- time of the day: the delay probably depends on the airport traffic which varies during the day.\n",
    "- airport traffic\n",
    "- unsupervised learning as feature engineering?\n",
    "- **what are the additional options?**: Think about what we could do more to improve the model."
   ]
  },
  {
   "cell_type": "markdown",
   "metadata": {},
   "source": [
    "**Creating Feature: Avg Delay for carrier**"
   ]
  },
  {
   "cell_type": "code",
   "execution_count": 27,
   "metadata": {
    "tags": []
   },
   "outputs": [],
   "source": [
    "# calculate avg delay by carrier\n",
    "avg_delay_df = df[[\"op_unique_carrier\", \"arr_delay\"]].groupby(\"op_unique_carrier\").mean().reset_index()\n",
    "# round values and create a dictionary mapping each carrier to their avg delay\n",
    "avg_delay_map = dict(avg_delay_df.values)\n",
    "rounded_delay_vals = [round(val, 2) for val in avg_delay_map.values()]\n",
    "avg_delay_map = dict(zip(avg_delay_map.keys(), rounded_delay_vals))\n",
    "# creating new column based on the mapping\n",
    "df[\"avg_delay_for_carrier\"] = df[\"op_unique_carrier\"].map(avg_delay_map)"
   ]
  },
  {
   "cell_type": "code",
   "execution_count": null,
   "metadata": {},
   "outputs": [],
   "source": []
  },
  {
   "cell_type": "code",
   "execution_count": null,
   "metadata": {},
   "outputs": [],
   "source": []
  },
  {
   "cell_type": "code",
   "execution_count": null,
   "metadata": {},
   "outputs": [],
   "source": []
  },
  {
   "cell_type": "code",
   "execution_count": null,
   "metadata": {},
   "outputs": [],
   "source": []
  },
  {
   "cell_type": "code",
   "execution_count": null,
   "metadata": {},
   "outputs": [],
   "source": []
  },
  {
   "cell_type": "markdown",
   "metadata": {},
   "source": [
    "### Feature Selection / Dimensionality Reduction"
   ]
  },
  {
   "cell_type": "markdown",
   "metadata": {},
   "source": [
    "We need to apply different selection techniques to find out which one will be the best for our problems.\n",
    "\n",
    "- Original Features vs. PCA conponents?"
   ]
  },
  {
   "cell_type": "code",
   "execution_count": 28,
   "metadata": {},
   "outputs": [
    {
     "data": {
      "text/html": [
       "<div>\n",
       "<style scoped>\n",
       "    .dataframe tbody tr th:only-of-type {\n",
       "        vertical-align: middle;\n",
       "    }\n",
       "\n",
       "    .dataframe tbody tr th {\n",
       "        vertical-align: top;\n",
       "    }\n",
       "\n",
       "    .dataframe thead th {\n",
       "        text-align: right;\n",
       "    }\n",
       "</style>\n",
       "<table border=\"1\" class=\"dataframe\">\n",
       "  <thead>\n",
       "    <tr style=\"text-align: right;\">\n",
       "      <th></th>\n",
       "      <th>fl_date</th>\n",
       "      <th>branded_code_share</th>\n",
       "      <th>mkt_carrier</th>\n",
       "      <th>mkt_carrier_fl_num</th>\n",
       "      <th>op_unique_carrier</th>\n",
       "      <th>tail_num</th>\n",
       "      <th>op_carrier_fl_num</th>\n",
       "      <th>origin_airport_id</th>\n",
       "      <th>origin</th>\n",
       "      <th>origin_city_name</th>\n",
       "      <th>dest_airport_id</th>\n",
       "      <th>dest</th>\n",
       "      <th>dest_city_name</th>\n",
       "      <th>crs_dep_time</th>\n",
       "      <th>dep_time</th>\n",
       "      <th>dep_delay</th>\n",
       "      <th>taxi_out</th>\n",
       "      <th>wheels_off</th>\n",
       "      <th>wheels_on</th>\n",
       "      <th>taxi_in</th>\n",
       "      <th>crs_arr_time</th>\n",
       "      <th>arr_time</th>\n",
       "      <th>arr_delay</th>\n",
       "      <th>crs_elapsed_time</th>\n",
       "      <th>actual_elapsed_time</th>\n",
       "      <th>air_time</th>\n",
       "      <th>distance</th>\n",
       "      <th>avg_delay_for_carrier</th>\n",
       "    </tr>\n",
       "  </thead>\n",
       "  <tbody>\n",
       "    <tr>\n",
       "      <th>0</th>\n",
       "      <td>2018-03-07</td>\n",
       "      <td>AA</td>\n",
       "      <td>AA</td>\n",
       "      <td>465</td>\n",
       "      <td>AA</td>\n",
       "      <td>N200UU</td>\n",
       "      <td>465</td>\n",
       "      <td>14107</td>\n",
       "      <td>PHX</td>\n",
       "      <td>Phoenix, AZ</td>\n",
       "      <td>14679</td>\n",
       "      <td>SAN</td>\n",
       "      <td>San Diego, CA</td>\n",
       "      <td>835</td>\n",
       "      <td>833</td>\n",
       "      <td>-2</td>\n",
       "      <td>13</td>\n",
       "      <td>846</td>\n",
       "      <td>838</td>\n",
       "      <td>2</td>\n",
       "      <td>851</td>\n",
       "      <td>840</td>\n",
       "      <td>-11</td>\n",
       "      <td>76</td>\n",
       "      <td>67</td>\n",
       "      <td>52</td>\n",
       "      <td>304</td>\n",
       "      <td>6.07</td>\n",
       "    </tr>\n",
       "    <tr>\n",
       "      <th>1</th>\n",
       "      <td>2018-03-07</td>\n",
       "      <td>AA</td>\n",
       "      <td>AA</td>\n",
       "      <td>591</td>\n",
       "      <td>AA</td>\n",
       "      <td>N833AW</td>\n",
       "      <td>591</td>\n",
       "      <td>11057</td>\n",
       "      <td>CLT</td>\n",
       "      <td>Charlotte, NC</td>\n",
       "      <td>11278</td>\n",
       "      <td>DCA</td>\n",
       "      <td>Washington, DC</td>\n",
       "      <td>1431</td>\n",
       "      <td>1537</td>\n",
       "      <td>66</td>\n",
       "      <td>16</td>\n",
       "      <td>1553</td>\n",
       "      <td>1648</td>\n",
       "      <td>3</td>\n",
       "      <td>1559</td>\n",
       "      <td>1651</td>\n",
       "      <td>52</td>\n",
       "      <td>88</td>\n",
       "      <td>74</td>\n",
       "      <td>55</td>\n",
       "      <td>331</td>\n",
       "      <td>6.07</td>\n",
       "    </tr>\n",
       "    <tr>\n",
       "      <th>2</th>\n",
       "      <td>2018-03-07</td>\n",
       "      <td>AA</td>\n",
       "      <td>AA</td>\n",
       "      <td>600</td>\n",
       "      <td>AA</td>\n",
       "      <td>N151UW</td>\n",
       "      <td>600</td>\n",
       "      <td>11697</td>\n",
       "      <td>FLL</td>\n",
       "      <td>Fort Lauderdale, FL</td>\n",
       "      <td>11057</td>\n",
       "      <td>CLT</td>\n",
       "      <td>Charlotte, NC</td>\n",
       "      <td>603</td>\n",
       "      <td>557</td>\n",
       "      <td>-6</td>\n",
       "      <td>18</td>\n",
       "      <td>615</td>\n",
       "      <td>746</td>\n",
       "      <td>19</td>\n",
       "      <td>809</td>\n",
       "      <td>805</td>\n",
       "      <td>-4</td>\n",
       "      <td>126</td>\n",
       "      <td>128</td>\n",
       "      <td>91</td>\n",
       "      <td>632</td>\n",
       "      <td>6.07</td>\n",
       "    </tr>\n",
       "    <tr>\n",
       "      <th>3</th>\n",
       "      <td>2018-03-07</td>\n",
       "      <td>AA</td>\n",
       "      <td>AA</td>\n",
       "      <td>1805</td>\n",
       "      <td>AA</td>\n",
       "      <td>N924US</td>\n",
       "      <td>1805</td>\n",
       "      <td>11057</td>\n",
       "      <td>CLT</td>\n",
       "      <td>Charlotte, NC</td>\n",
       "      <td>10721</td>\n",
       "      <td>BOS</td>\n",
       "      <td>Boston, MA</td>\n",
       "      <td>1135</td>\n",
       "      <td>1129</td>\n",
       "      <td>-6</td>\n",
       "      <td>11</td>\n",
       "      <td>1140</td>\n",
       "      <td>1312</td>\n",
       "      <td>12</td>\n",
       "      <td>1352</td>\n",
       "      <td>1324</td>\n",
       "      <td>-28</td>\n",
       "      <td>137</td>\n",
       "      <td>115</td>\n",
       "      <td>92</td>\n",
       "      <td>728</td>\n",
       "      <td>6.07</td>\n",
       "    </tr>\n",
       "    <tr>\n",
       "      <th>4</th>\n",
       "      <td>2018-03-07</td>\n",
       "      <td>AA</td>\n",
       "      <td>AA</td>\n",
       "      <td>2615</td>\n",
       "      <td>AA</td>\n",
       "      <td>N945NN</td>\n",
       "      <td>2615</td>\n",
       "      <td>11057</td>\n",
       "      <td>CLT</td>\n",
       "      <td>Charlotte, NC</td>\n",
       "      <td>15370</td>\n",
       "      <td>TUL</td>\n",
       "      <td>Tulsa, OK</td>\n",
       "      <td>1820</td>\n",
       "      <td>1812</td>\n",
       "      <td>-8</td>\n",
       "      <td>11</td>\n",
       "      <td>1823</td>\n",
       "      <td>1936</td>\n",
       "      <td>6</td>\n",
       "      <td>2002</td>\n",
       "      <td>1942</td>\n",
       "      <td>-20</td>\n",
       "      <td>162</td>\n",
       "      <td>150</td>\n",
       "      <td>133</td>\n",
       "      <td>842</td>\n",
       "      <td>6.07</td>\n",
       "    </tr>\n",
       "  </tbody>\n",
       "</table>\n",
       "</div>"
      ],
      "text/plain": [
       "     fl_date branded_code_share mkt_carrier mkt_carrier_fl_num  \\\n",
       "0 2018-03-07                 AA          AA                465   \n",
       "1 2018-03-07                 AA          AA                591   \n",
       "2 2018-03-07                 AA          AA                600   \n",
       "3 2018-03-07                 AA          AA               1805   \n",
       "4 2018-03-07                 AA          AA               2615   \n",
       "\n",
       "  op_unique_carrier tail_num op_carrier_fl_num origin_airport_id origin  \\\n",
       "0                AA   N200UU               465             14107    PHX   \n",
       "1                AA   N833AW               591             11057    CLT   \n",
       "2                AA   N151UW               600             11697    FLL   \n",
       "3                AA   N924US              1805             11057    CLT   \n",
       "4                AA   N945NN              2615             11057    CLT   \n",
       "\n",
       "      origin_city_name dest_airport_id dest  dest_city_name  crs_dep_time  \\\n",
       "0          Phoenix, AZ           14679  SAN   San Diego, CA           835   \n",
       "1        Charlotte, NC           11278  DCA  Washington, DC          1431   \n",
       "2  Fort Lauderdale, FL           11057  CLT   Charlotte, NC           603   \n",
       "3        Charlotte, NC           10721  BOS      Boston, MA          1135   \n",
       "4        Charlotte, NC           15370  TUL       Tulsa, OK          1820   \n",
       "\n",
       "   dep_time  dep_delay  taxi_out  wheels_off  wheels_on  taxi_in  \\\n",
       "0       833         -2        13         846        838        2   \n",
       "1      1537         66        16        1553       1648        3   \n",
       "2       557         -6        18         615        746       19   \n",
       "3      1129         -6        11        1140       1312       12   \n",
       "4      1812         -8        11        1823       1936        6   \n",
       "\n",
       "   crs_arr_time  arr_time  arr_delay  crs_elapsed_time  actual_elapsed_time  \\\n",
       "0           851       840        -11                76                   67   \n",
       "1          1559      1651         52                88                   74   \n",
       "2           809       805         -4               126                  128   \n",
       "3          1352      1324        -28               137                  115   \n",
       "4          2002      1942        -20               162                  150   \n",
       "\n",
       "   air_time  distance  avg_delay_for_carrier  \n",
       "0        52       304                   6.07  \n",
       "1        55       331                   6.07  \n",
       "2        91       632                   6.07  \n",
       "3        92       728                   6.07  \n",
       "4       133       842                   6.07  "
      ]
     },
     "execution_count": 28,
     "metadata": {},
     "output_type": "execute_result"
    }
   ],
   "source": [
    "df.head()"
   ]
  },
  {
   "cell_type": "markdown",
   "metadata": {},
   "source": [
    "**Features Used**"
   ]
  },
  {
   "cell_type": "code",
   "execution_count": 52,
   "metadata": {},
   "outputs": [],
   "source": [
    "X = df[[\"avg_delay_for_carrier\", \"distance\"]]\n",
    "X2 = df[[\"distance\", \"air_time\"]]"
   ]
  },
  {
   "cell_type": "code",
   "execution_count": 30,
   "metadata": {},
   "outputs": [],
   "source": [
    "y = df[\"arr_delay\"]"
   ]
  },
  {
   "cell_type": "code",
   "execution_count": 31,
   "metadata": {},
   "outputs": [
    {
     "data": {
      "text/html": [
       "<div>\n",
       "<style scoped>\n",
       "    .dataframe tbody tr th:only-of-type {\n",
       "        vertical-align: middle;\n",
       "    }\n",
       "\n",
       "    .dataframe tbody tr th {\n",
       "        vertical-align: top;\n",
       "    }\n",
       "\n",
       "    .dataframe thead th {\n",
       "        text-align: right;\n",
       "    }\n",
       "</style>\n",
       "<table border=\"1\" class=\"dataframe\">\n",
       "  <thead>\n",
       "    <tr style=\"text-align: right;\">\n",
       "      <th></th>\n",
       "      <th>avg_delay_for_carrier</th>\n",
       "      <th>distance</th>\n",
       "    </tr>\n",
       "  </thead>\n",
       "  <tbody>\n",
       "    <tr>\n",
       "      <th>0</th>\n",
       "      <td>6.07</td>\n",
       "      <td>304</td>\n",
       "    </tr>\n",
       "    <tr>\n",
       "      <th>1</th>\n",
       "      <td>6.07</td>\n",
       "      <td>331</td>\n",
       "    </tr>\n",
       "    <tr>\n",
       "      <th>2</th>\n",
       "      <td>6.07</td>\n",
       "      <td>632</td>\n",
       "    </tr>\n",
       "    <tr>\n",
       "      <th>3</th>\n",
       "      <td>6.07</td>\n",
       "      <td>728</td>\n",
       "    </tr>\n",
       "    <tr>\n",
       "      <th>4</th>\n",
       "      <td>6.07</td>\n",
       "      <td>842</td>\n",
       "    </tr>\n",
       "  </tbody>\n",
       "</table>\n",
       "</div>"
      ],
      "text/plain": [
       "   avg_delay_for_carrier  distance\n",
       "0                   6.07       304\n",
       "1                   6.07       331\n",
       "2                   6.07       632\n",
       "3                   6.07       728\n",
       "4                   6.07       842"
      ]
     },
     "execution_count": 31,
     "metadata": {},
     "output_type": "execute_result"
    }
   ],
   "source": [
    "X.head()"
   ]
  },
  {
   "cell_type": "code",
   "execution_count": 32,
   "metadata": {},
   "outputs": [
    {
     "data": {
      "text/plain": [
       "0   -11\n",
       "1    52\n",
       "2    -4\n",
       "3   -28\n",
       "4   -20\n",
       "Name: arr_delay, dtype: int64"
      ]
     },
     "execution_count": 32,
     "metadata": {},
     "output_type": "execute_result"
    }
   ],
   "source": [
    "y.head()"
   ]
  },
  {
   "cell_type": "markdown",
   "metadata": {},
   "source": [
    "### Modeling"
   ]
  },
  {
   "cell_type": "markdown",
   "metadata": {},
   "source": [
    "Use different ML techniques to predict each problem.\n",
    "\n",
    "- linear / logistic / multinomial logistic regression\n",
    "- Naive Bayes\n",
    "- Random Forest\n",
    "- SVM\n",
    "- XGBoost\n",
    "- The ensemble of your own choice"
   ]
  },
  {
   "cell_type": "code",
   "execution_count": 33,
   "metadata": {},
   "outputs": [],
   "source": [
    "from sklearn.linear_model import LinearRegression\n",
    "from sklearn.model_selection import train_test_split"
   ]
  },
  {
   "cell_type": "code",
   "execution_count": 34,
   "metadata": {},
   "outputs": [],
   "source": [
    "X_train, X_test, y_train, y_test = train_test_split(X, y, train_size=0.8)"
   ]
  },
  {
   "cell_type": "code",
   "execution_count": null,
   "metadata": {},
   "outputs": [],
   "source": []
  },
  {
   "cell_type": "markdown",
   "metadata": {},
   "source": [
    "**Trying a simple linear regression**"
   ]
  },
  {
   "cell_type": "code",
   "execution_count": 35,
   "metadata": {},
   "outputs": [],
   "source": [
    "linreg = LinearRegression(normalize=False)"
   ]
  },
  {
   "cell_type": "code",
   "execution_count": 36,
   "metadata": {},
   "outputs": [
    {
     "data": {
      "text/plain": [
       "LinearRegression()"
      ]
     },
     "execution_count": 36,
     "metadata": {},
     "output_type": "execute_result"
    }
   ],
   "source": [
    "linreg.fit(X_train, y_train)"
   ]
  },
  {
   "cell_type": "code",
   "execution_count": 37,
   "metadata": {},
   "outputs": [],
   "source": [
    "delay_pred = linreg.predict(X_test)"
   ]
  },
  {
   "cell_type": "code",
   "execution_count": 38,
   "metadata": {},
   "outputs": [
    {
     "data": {
      "text/html": [
       "<div>\n",
       "<style scoped>\n",
       "    .dataframe tbody tr th:only-of-type {\n",
       "        vertical-align: middle;\n",
       "    }\n",
       "\n",
       "    .dataframe tbody tr th {\n",
       "        vertical-align: top;\n",
       "    }\n",
       "\n",
       "    .dataframe thead th {\n",
       "        text-align: right;\n",
       "    }\n",
       "</style>\n",
       "<table border=\"1\" class=\"dataframe\">\n",
       "  <thead>\n",
       "    <tr style=\"text-align: right;\">\n",
       "      <th></th>\n",
       "      <th>actual_delay</th>\n",
       "      <th>predicted_delay</th>\n",
       "      <th>error</th>\n",
       "    </tr>\n",
       "  </thead>\n",
       "  <tbody>\n",
       "    <tr>\n",
       "      <th>0</th>\n",
       "      <td>-11.0</td>\n",
       "      <td>11.666759</td>\n",
       "      <td>-22.666759</td>\n",
       "    </tr>\n",
       "    <tr>\n",
       "      <th>1</th>\n",
       "      <td>-16.0</td>\n",
       "      <td>7.838201</td>\n",
       "      <td>-23.838201</td>\n",
       "    </tr>\n",
       "    <tr>\n",
       "      <th>2</th>\n",
       "      <td>-5.0</td>\n",
       "      <td>10.558932</td>\n",
       "      <td>-15.558932</td>\n",
       "    </tr>\n",
       "    <tr>\n",
       "      <th>3</th>\n",
       "      <td>-15.0</td>\n",
       "      <td>7.221502</td>\n",
       "      <td>-22.221502</td>\n",
       "    </tr>\n",
       "    <tr>\n",
       "      <th>4</th>\n",
       "      <td>-22.0</td>\n",
       "      <td>3.520112</td>\n",
       "      <td>-25.520112</td>\n",
       "    </tr>\n",
       "    <tr>\n",
       "      <th>...</th>\n",
       "      <td>...</td>\n",
       "      <td>...</td>\n",
       "      <td>...</td>\n",
       "    </tr>\n",
       "    <tr>\n",
       "      <th>78007</th>\n",
       "      <td>69.0</td>\n",
       "      <td>7.684484</td>\n",
       "      <td>61.315516</td>\n",
       "    </tr>\n",
       "    <tr>\n",
       "      <th>78008</th>\n",
       "      <td>-11.0</td>\n",
       "      <td>5.638084</td>\n",
       "      <td>-16.638084</td>\n",
       "    </tr>\n",
       "    <tr>\n",
       "      <th>78009</th>\n",
       "      <td>-16.0</td>\n",
       "      <td>5.998635</td>\n",
       "      <td>-21.998635</td>\n",
       "    </tr>\n",
       "    <tr>\n",
       "      <th>78010</th>\n",
       "      <td>-15.0</td>\n",
       "      <td>6.533900</td>\n",
       "      <td>-21.533900</td>\n",
       "    </tr>\n",
       "    <tr>\n",
       "      <th>78011</th>\n",
       "      <td>-14.0</td>\n",
       "      <td>2.782254</td>\n",
       "      <td>-16.782254</td>\n",
       "    </tr>\n",
       "  </tbody>\n",
       "</table>\n",
       "<p>78012 rows × 3 columns</p>\n",
       "</div>"
      ],
      "text/plain": [
       "       actual_delay  predicted_delay      error\n",
       "0             -11.0        11.666759 -22.666759\n",
       "1             -16.0         7.838201 -23.838201\n",
       "2              -5.0        10.558932 -15.558932\n",
       "3             -15.0         7.221502 -22.221502\n",
       "4             -22.0         3.520112 -25.520112\n",
       "...             ...              ...        ...\n",
       "78007          69.0         7.684484  61.315516\n",
       "78008         -11.0         5.638084 -16.638084\n",
       "78009         -16.0         5.998635 -21.998635\n",
       "78010         -15.0         6.533900 -21.533900\n",
       "78011         -14.0         2.782254 -16.782254\n",
       "\n",
       "[78012 rows x 3 columns]"
      ]
     },
     "execution_count": 38,
     "metadata": {},
     "output_type": "execute_result"
    }
   ],
   "source": [
    "results_df = pd.DataFrame([y_test.values, delay_pred])\n",
    "results_df = results_df.T\n",
    "results_df.columns = [\"actual_delay\", \"predicted_delay\"]\n",
    "results_df[\"error\"] = results_df[\"actual_delay\"] - results_df[\"predicted_delay\"]\n",
    "results_df"
   ]
  },
  {
   "cell_type": "code",
   "execution_count": 39,
   "metadata": {},
   "outputs": [
    {
     "data": {
      "text/plain": [
       "0.005456384223203381"
      ]
     },
     "execution_count": 39,
     "metadata": {},
     "output_type": "execute_result"
    }
   ],
   "source": [
    "# Calculating r2 manually\n",
    "\n",
    "residuals = results_df[\"actual_delay\"] - results_df[\"predicted_delay\"]\n",
    "residuals_sq = residuals ** 2\n",
    "sum_of_residuals_sq = residuals_sq.sum()\n",
    "\n",
    "var_mean = results_df[\"actual_delay\"] - (results_df[\"actual_delay\"].mean()) \n",
    "var_mean_sq = var_mean ** 2\n",
    "sum_of_var_mean_sq = var_mean_sq.sum()\n",
    "\n",
    "r2 = 1 - (sum_of_residuals_sq / sum_of_var_mean_sq)\n",
    "r2"
   ]
  },
  {
   "cell_type": "code",
   "execution_count": 40,
   "metadata": {},
   "outputs": [
    {
     "data": {
      "text/plain": [
       "0.005207092625788889"
      ]
     },
     "execution_count": 40,
     "metadata": {},
     "output_type": "execute_result"
    }
   ],
   "source": [
    "# r2 train score\n",
    "linreg.score(X_train, y_train)"
   ]
  },
  {
   "cell_type": "code",
   "execution_count": 41,
   "metadata": {},
   "outputs": [
    {
     "data": {
      "text/plain": [
       "0.005456384223203381"
      ]
     },
     "execution_count": 41,
     "metadata": {},
     "output_type": "execute_result"
    }
   ],
   "source": [
    "# r2 test score\n",
    "linreg.score(X_test, y_test)"
   ]
  },
  {
   "cell_type": "markdown",
   "metadata": {},
   "source": [
    "**Analysis**   \n",
    "r2 score was awful.   \n",
    "using flight distance and avg delay by carrier in a linear regression was not effective at all"
   ]
  },
  {
   "cell_type": "markdown",
   "metadata": {},
   "source": [
    "**Making a linear regression function**"
   ]
  },
  {
   "cell_type": "code",
   "execution_count": 42,
   "metadata": {},
   "outputs": [],
   "source": [
    "from sklearn.preprocessing import StandardScaler"
   ]
  },
  {
   "cell_type": "code",
   "execution_count": 44,
   "metadata": {},
   "outputs": [],
   "source": [
    "def run_linear_regression(X, y):\n",
    "    \"\"\"\n",
    "    Run a linear regression.\n",
    "    \n",
    "    Parameters\n",
    "    ----------\n",
    "    X : Pandas DataFrame or numpy array of feature variables\n",
    "    \n",
    "    y : Pandas Series or numpy array of target variable\n",
    "    \n",
    "    Returns\n",
    "    -------\n",
    "    R**2 score, numpy array of predictions for the target variable \n",
    "    \"\"\"\n",
    "    X_test, X_train, y_test, y_train = train_test_split(X, y, train_size=0.8)\n",
    "    model = LinearRegression()\n",
    "    model = model.fit(X_train, y_train)\n",
    "    y_pred = model.predict(X_test)\n",
    "    r2 = model.score(X_test, y_test)\n",
    "    return r2, y_pred"
   ]
  },
  {
   "cell_type": "code",
   "execution_count": 55,
   "metadata": {},
   "outputs": [],
   "source": [
    "r2, y_pred = run_linear_regression(X2, y)"
   ]
  },
  {
   "cell_type": "code",
   "execution_count": 56,
   "metadata": {},
   "outputs": [
    {
     "data": {
      "text/plain": [
       "0.00971720302279011"
      ]
     },
     "execution_count": 56,
     "metadata": {},
     "output_type": "execute_result"
    }
   ],
   "source": [
    "r2"
   ]
  },
  {
   "cell_type": "markdown",
   "metadata": {},
   "source": [
    "**Making a Polynomial regression function**"
   ]
  },
  {
   "cell_type": "code",
   "execution_count": 47,
   "metadata": {
    "tags": []
   },
   "outputs": [],
   "source": [
    "from sklearn.preprocessing import PolynomialFeatures"
   ]
  },
  {
   "cell_type": "code",
   "execution_count": 48,
   "metadata": {},
   "outputs": [],
   "source": [
    "def run_polynomial_regression(X, y, degree):\n",
    "    poly = PolynomialFeatures(degree)\n",
    "    X = poly.fit_transform(X)\n",
    "    X_test, X_train, y_test, y_train = train_test_split(X, y, train_size=0.8)\n",
    "    model = LinearRegression()\n",
    "    model.fit(X_train, y_train)\n",
    "    y_pred = model.predict(X_test)\n",
    "    train_score = model.score(X_train, y_train)\n",
    "    test_score = model.score(X_test, y_test)\n",
    "    print(\"---Results---\")\n",
    "    print(f\"degree = {degree}\")\n",
    "    print(f\"Train score = {train_score}\")\n",
    "    print(f\"Test score = {test_score}\")\n",
    "    return y_pred, train_score, test_score"
   ]
  },
  {
   "cell_type": "code",
   "execution_count": 49,
   "metadata": {},
   "outputs": [],
   "source": [
    "def scale_data(X, y):\n",
    "    scaler = StandardScaler()\n",
    "    X_scaled = scaler.fit_transform(X)\n",
    "    y_scaled = scaler.fit_transform(y.values.reshape(-1,1))\n",
    "    return X_scaled, y_scaled"
   ]
  },
  {
   "cell_type": "code",
   "execution_count": 57,
   "metadata": {},
   "outputs": [],
   "source": [
    "X_scaled, y_scaled = scale_data(X2, y)"
   ]
  },
  {
   "cell_type": "code",
   "execution_count": 58,
   "metadata": {
    "tags": []
   },
   "outputs": [
    {
     "name": "stdout",
     "output_type": "stream",
     "text": [
      "---Results---\n",
      "degree = 2\n",
      "Train score = 0.013060764666124824\n",
      "Test score = 0.012744333660320684\n",
      "\n",
      "---Results---\n",
      "degree = 3\n",
      "Train score = 0.014170270454958\n",
      "Test score = 0.013215382242740437\n",
      "\n",
      "---Results---\n",
      "degree = 4\n",
      "Train score = 0.014615187893457393\n",
      "Test score = 0.014986723021770842\n",
      "\n",
      "---Results---\n",
      "degree = 5\n",
      "Train score = 0.01764143766012516\n",
      "Test score = -0.06891555642131819\n",
      "\n",
      "---Results---\n",
      "degree = 6\n",
      "Train score = 0.016872817821933728\n",
      "Test score = 0.013578277582940834\n",
      "\n",
      "---Results---\n",
      "degree = 7\n",
      "Train score = 0.016504754548209877\n",
      "Test score = -0.13211806540693938\n",
      "\n",
      "---Results---\n",
      "degree = 8\n",
      "Train score = 0.016151170979828433\n",
      "Test score = -0.18376598404782807\n",
      "\n",
      "---Results---\n",
      "degree = 9\n",
      "Train score = 0.017438137720232838\n",
      "Test score = -55.36211489460377\n",
      "\n",
      "---Results---\n",
      "degree = 10\n",
      "Train score = 0.01564612254221287\n",
      "Test score = -45066.90498882982\n",
      "\n",
      "---Results---\n",
      "degree = 11\n",
      "Train score = 0.018694559095404184\n",
      "Test score = -0.7972359876237753\n",
      "\n",
      "---Results---\n",
      "degree = 12\n",
      "Train score = 0.016562140886128063\n",
      "Test score = -5331828.568079243\n",
      "\n",
      "---Results---\n",
      "degree = 13\n",
      "Train score = 0.01812166797011372\n",
      "Test score = -3275328.9812883576\n",
      "\n",
      "---Results---\n",
      "degree = 14\n",
      "Train score = 0.01618606183643445\n",
      "Test score = -11200.585150463003\n",
      "\n"
     ]
    }
   ],
   "source": [
    "for i in range(2,15):\n",
    "    y_pred, train_score, test_score = run_polynomial_regression(X_scaled, y_scaled, i)\n",
    "    print()"
   ]
  },
  {
   "cell_type": "markdown",
   "metadata": {},
   "source": [
    "**Analysis**.  \n",
    "Polynomial regression wasn't any better with the selected features"
   ]
  },
  {
   "cell_type": "markdown",
   "metadata": {},
   "source": [
    "### Evaluation"
   ]
  },
  {
   "cell_type": "markdown",
   "metadata": {},
   "source": [
    "You have data from 2018 and 2019 to develop models. Use different evaluation metrics for each problem and compare the performance of different models.\n",
    "\n",
    "You are required to predict delays on **out of sample** data from **first 7 days (1st-7th) of January 2020** and to share the file with LighthouseLabs. Sample submission can be found in the file **_sample_submission.csv_**"
   ]
  },
  {
   "cell_type": "code",
   "execution_count": null,
   "metadata": {},
   "outputs": [],
   "source": []
  },
  {
   "cell_type": "code",
   "execution_count": null,
   "metadata": {},
   "outputs": [],
   "source": []
  },
  {
   "cell_type": "code",
   "execution_count": null,
   "metadata": {},
   "outputs": [],
   "source": []
  },
  {
   "cell_type": "code",
   "execution_count": null,
   "metadata": {},
   "outputs": [],
   "source": []
  },
  {
   "cell_type": "markdown",
   "metadata": {},
   "source": [
    "======================================================================\n",
    "## Stretch Tasks"
   ]
  },
  {
   "cell_type": "markdown",
   "metadata": {},
   "source": [
    "### Multiclass Classification"
   ]
  },
  {
   "cell_type": "markdown",
   "metadata": {},
   "source": [
    "The target variables are **CARRIER_DELAY, WEATHER_DELAY, NAS_DELAY, SECURITY_DELAY, LATE_AIRCRAFT_DELAY**. We need to do additional transformations because these variables are not binary but continuos. For each flight that was delayed, we need to have one of these variables as 1 and others 0.\n",
    "\n",
    "It can happen that we have two types of delays with more than 0 minutes. In this case, take the bigger one as 1 and others as 0."
   ]
  },
  {
   "cell_type": "code",
   "execution_count": null,
   "metadata": {},
   "outputs": [],
   "source": []
  },
  {
   "cell_type": "code",
   "execution_count": null,
   "metadata": {},
   "outputs": [],
   "source": []
  },
  {
   "cell_type": "code",
   "execution_count": null,
   "metadata": {},
   "outputs": [],
   "source": []
  },
  {
   "cell_type": "markdown",
   "metadata": {},
   "source": [
    "### Binary Classification"
   ]
  },
  {
   "cell_type": "markdown",
   "metadata": {},
   "source": [
    "The target variable is **CANCELLED**. The main problem here is going to be huge class imbalance. We have only very little cancelled flights with comparison to all flights. It is important to do the right sampling before training and to choose correct evaluation metrics."
   ]
  },
  {
   "cell_type": "code",
   "execution_count": null,
   "metadata": {},
   "outputs": [],
   "source": []
  },
  {
   "cell_type": "code",
   "execution_count": null,
   "metadata": {},
   "outputs": [],
   "source": []
  },
  {
   "cell_type": "code",
   "execution_count": null,
   "metadata": {},
   "outputs": [],
   "source": []
  }
 ],
 "metadata": {
  "kernelspec": {
   "display_name": "Python 3",
   "language": "python",
   "name": "python3"
  },
  "language_info": {
   "codemirror_mode": {
    "name": "ipython",
    "version": 3
   },
   "file_extension": ".py",
   "mimetype": "text/x-python",
   "name": "python",
   "nbconvert_exporter": "python",
   "pygments_lexer": "ipython3",
   "version": "3.8.8"
  }
 },
 "nbformat": 4,
 "nbformat_minor": 4
}
