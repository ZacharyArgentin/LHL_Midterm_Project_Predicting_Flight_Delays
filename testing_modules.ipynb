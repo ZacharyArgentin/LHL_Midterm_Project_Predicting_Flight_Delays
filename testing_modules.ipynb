{
 "cells": [
  {
   "cell_type": "code",
   "execution_count": 1,
   "id": "88db98f1-e4c6-4f14-b2dd-03ee3ef38e65",
   "metadata": {},
   "outputs": [],
   "source": [
    "from modules.functions import run_linear_regression"
   ]
  },
  {
   "cell_type": "code",
   "execution_count": 2,
   "id": "9d7ceef0-dc94-410f-b848-9a80e83adcb6",
   "metadata": {},
   "outputs": [
    {
     "name": "stdout",
     "output_type": "stream",
     "text": [
      "Help on function run_linear_regression in module modules.functions:\n",
      "\n",
      "run_linear_regression(X, y)\n",
      "    Run a linear regression.\n",
      "    \n",
      "    Parameters\n",
      "    ----------\n",
      "    X : Pandas DataFrame or numpy array of feature variables\n",
      "    \n",
      "    y : Pandas Series or numpy array of target variable\n",
      "    \n",
      "    Returns\n",
      "    -------\n",
      "    R**2 score, numpy array of predictions for the target variable\n",
      "\n"
     ]
    }
   ],
   "source": [
    "help(run_linear_regression)"
   ]
  },
  {
   "cell_type": "code",
   "execution_count": 3,
   "id": "b26c4fcf-69cb-4abf-8db9-ae375e3557bb",
   "metadata": {},
   "outputs": [],
   "source": [
    "import pandas as pd\n",
    "import numpy as np\n",
    "from sklearn.model_selection import train_test_split"
   ]
  },
  {
   "cell_type": "code",
   "execution_count": 4,
   "id": "2d6c0a21-83ca-42be-96e5-1ce9750b9e57",
   "metadata": {},
   "outputs": [],
   "source": [
    "X = np.array([[1,2,3,4,5], [1,2,3,4,5], [1,2,3,4,5]])\n",
    "y = np.array([1,2,3])"
   ]
  },
  {
   "cell_type": "code",
   "execution_count": 5,
   "id": "62a54fcd-31e9-4047-b543-aeaa703d96e1",
   "metadata": {},
   "outputs": [
    {
     "data": {
      "text/plain": [
       "array([[1, 2, 3, 4, 5],\n",
       "       [1, 2, 3, 4, 5],\n",
       "       [1, 2, 3, 4, 5]])"
      ]
     },
     "execution_count": 5,
     "metadata": {},
     "output_type": "execute_result"
    }
   ],
   "source": [
    "X"
   ]
  },
  {
   "cell_type": "code",
   "execution_count": 6,
   "id": "4c4c6f94-1095-4bfa-a5f7-8828dea09ca1",
   "metadata": {},
   "outputs": [
    {
     "data": {
      "text/plain": [
       "array([1, 2, 3])"
      ]
     },
     "execution_count": 6,
     "metadata": {},
     "output_type": "execute_result"
    }
   ],
   "source": [
    "y"
   ]
  },
  {
   "cell_type": "code",
   "execution_count": 7,
   "id": "2e10cc76-01f6-438e-8608-ec55ba685990",
   "metadata": {},
   "outputs": [],
   "source": [
    "r2, y_pred = run_linear_regression(X, y)"
   ]
  },
  {
   "cell_type": "code",
   "execution_count": 8,
   "id": "c7dd9e65-70a8-4c6a-878a-2149241a273d",
   "metadata": {},
   "outputs": [
    {
     "data": {
      "text/plain": [
       "0.0"
      ]
     },
     "execution_count": 8,
     "metadata": {},
     "output_type": "execute_result"
    }
   ],
   "source": [
    "r2"
   ]
  },
  {
   "cell_type": "code",
   "execution_count": 9,
   "id": "ba2324db-15d2-463c-8770-2f6bf9badd8b",
   "metadata": {},
   "outputs": [
    {
     "data": {
      "text/plain": [
       "array([2., 2.])"
      ]
     },
     "execution_count": 9,
     "metadata": {},
     "output_type": "execute_result"
    }
   ],
   "source": [
    "y_pred"
   ]
  },
  {
   "cell_type": "code",
   "execution_count": 10,
   "id": "470a4fa4-9e81-47bb-99df-8dbfd60de556",
   "metadata": {},
   "outputs": [],
   "source": [
    "from modules.functions import run_random_forest"
   ]
  },
  {
   "cell_type": "code",
   "execution_count": 11,
   "id": "8f58b459-acd3-4a44-a465-5688477ae475",
   "metadata": {},
   "outputs": [
    {
     "name": "stdout",
     "output_type": "stream",
     "text": [
      "train score = nan\n",
      "test score = -9.0\n"
     ]
    },
    {
     "name": "stderr",
     "output_type": "stream",
     "text": [
      "/Users/zacharyargentin/opt/anaconda3/envs/bootcamp/lib/python3.8/site-packages/sklearn/metrics/_regression.py:682: UndefinedMetricWarning: R^2 score is not well-defined with less than two samples.\n",
      "  warnings.warn(msg, UndefinedMetricWarning)\n"
     ]
    },
    {
     "data": {
      "text/plain": [
       "RandomForestRegressor(max_depth=5, n_estimators=50)"
      ]
     },
     "execution_count": 11,
     "metadata": {},
     "output_type": "execute_result"
    }
   ],
   "source": [
    "run_random_forest(X, y)"
   ]
  }
 ],
 "metadata": {
  "kernelspec": {
   "display_name": "bootcamp",
   "language": "python",
   "name": "bootcamp"
  },
  "language_info": {
   "codemirror_mode": {
    "name": "ipython",
    "version": 3
   },
   "file_extension": ".py",
   "mimetype": "text/x-python",
   "name": "python",
   "nbconvert_exporter": "python",
   "pygments_lexer": "ipython3",
   "version": "3.8.5"
  }
 },
 "nbformat": 4,
 "nbformat_minor": 5
}
