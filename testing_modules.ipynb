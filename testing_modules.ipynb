{
 "cells": [
  {
   "cell_type": "code",
   "execution_count": 1,
   "id": "88db98f1-e4c6-4f14-b2dd-03ee3ef38e65",
   "metadata": {},
   "outputs": [],
   "source": [
    "from modules.functions import run_linear_regression"
   ]
  },
  {
   "cell_type": "code",
   "execution_count": 2,
   "id": "9d7ceef0-dc94-410f-b848-9a80e83adcb6",
   "metadata": {},
   "outputs": [
    {
     "name": "stdout",
     "output_type": "stream",
     "text": [
      "Help on function run_linear_regression in module modules.functions:\n",
      "\n",
      "run_linear_regression(X, y)\n",
      "    Run a linear regression.\n",
      "    \n",
      "    Parameters\n",
      "    ----------\n",
      "    X : Pandas DataFrame or numpy array of feature variables\n",
      "    \n",
      "    y : Pandas Series or numpy array of target variable\n",
      "    \n",
      "    Returns\n",
      "    -------\n",
      "    numpy array of predictions for the target variable , R**2 training score, R**2 testing score\n",
      "\n"
     ]
    }
   ],
   "source": [
    "help(run_linear_regression)"
   ]
  },
  {
   "cell_type": "code",
   "execution_count": 3,
   "id": "b26c4fcf-69cb-4abf-8db9-ae375e3557bb",
   "metadata": {},
   "outputs": [],
   "source": [
    "import pandas as pd\n",
    "import numpy as np\n",
    "from sklearn.model_selection import train_test_split"
   ]
  },
  {
   "cell_type": "code",
   "execution_count": 4,
   "id": "2d6c0a21-83ca-42be-96e5-1ce9750b9e57",
   "metadata": {},
   "outputs": [],
   "source": [
    "X = np.array([[1,2,3,4,5], [1,2,3,4,5], [1,2,3,4,5]])\n",
    "y = np.array([1,2,3])"
   ]
  },
  {
   "cell_type": "code",
   "execution_count": 5,
   "id": "62a54fcd-31e9-4047-b543-aeaa703d96e1",
   "metadata": {},
   "outputs": [
    {
     "data": {
      "text/plain": [
       "array([[1, 2, 3, 4, 5],\n",
       "       [1, 2, 3, 4, 5],\n",
       "       [1, 2, 3, 4, 5]])"
      ]
     },
     "execution_count": 5,
     "metadata": {},
     "output_type": "execute_result"
    }
   ],
   "source": [
    "X"
   ]
  },
  {
   "cell_type": "code",
   "execution_count": 6,
   "id": "4c4c6f94-1095-4bfa-a5f7-8828dea09ca1",
   "metadata": {},
   "outputs": [
    {
     "data": {
      "text/plain": [
       "array([1, 2, 3])"
      ]
     },
     "execution_count": 6,
     "metadata": {},
     "output_type": "execute_result"
    }
   ],
   "source": [
    "y"
   ]
  },
  {
   "cell_type": "code",
   "execution_count": 7,
   "id": "2e10cc76-01f6-438e-8608-ec55ba685990",
   "metadata": {},
   "outputs": [
    {
     "name": "stderr",
     "output_type": "stream",
     "text": [
      "/Users/zacharyargentin/opt/anaconda3/envs/bootcamp/lib/python3.8/site-packages/sklearn/metrics/_regression.py:682: UndefinedMetricWarning: R^2 score is not well-defined with less than two samples.\n",
      "  warnings.warn(msg, UndefinedMetricWarning)\n"
     ]
    }
   ],
   "source": [
    "y_pred, _, __ = run_linear_regression(X, y)"
   ]
  },
  {
   "cell_type": "code",
   "execution_count": 8,
   "id": "ba2324db-15d2-463c-8770-2f6bf9badd8b",
   "metadata": {},
   "outputs": [
    {
     "data": {
      "text/plain": [
       "array([2., 2.])"
      ]
     },
     "execution_count": 8,
     "metadata": {},
     "output_type": "execute_result"
    }
   ],
   "source": [
    "y_pred"
   ]
  },
  {
   "cell_type": "code",
   "execution_count": 9,
   "id": "470a4fa4-9e81-47bb-99df-8dbfd60de556",
   "metadata": {},
   "outputs": [],
   "source": [
    "from modules.functions import run_random_forest"
   ]
  },
  {
   "cell_type": "code",
   "execution_count": 10,
   "id": "8f58b459-acd3-4a44-a465-5688477ae475",
   "metadata": {},
   "outputs": [
    {
     "name": "stdout",
     "output_type": "stream",
     "text": [
      "train score = nan\n",
      "test score = -9.0\n"
     ]
    },
    {
     "name": "stderr",
     "output_type": "stream",
     "text": [
      "/Users/zacharyargentin/opt/anaconda3/envs/bootcamp/lib/python3.8/site-packages/sklearn/metrics/_regression.py:682: UndefinedMetricWarning: R^2 score is not well-defined with less than two samples.\n",
      "  warnings.warn(msg, UndefinedMetricWarning)\n"
     ]
    },
    {
     "data": {
      "text/plain": [
       "(array([1., 1.]), nan, -9.0)"
      ]
     },
     "execution_count": 10,
     "metadata": {},
     "output_type": "execute_result"
    }
   ],
   "source": [
    "run_random_forest(X, y)"
   ]
  },
  {
   "cell_type": "code",
   "execution_count": 11,
   "id": "10f196da-24e6-4572-a677-7c8431fca8d2",
   "metadata": {},
   "outputs": [],
   "source": [
    "from modules.functions import to_hours"
   ]
  },
  {
   "cell_type": "code",
   "execution_count": 23,
   "id": "2186a8a7-98f2-43cf-9b31-2099c8f18ec8",
   "metadata": {
    "tags": []
   },
   "outputs": [],
   "source": [
    "s = pd.Series([0, 320, 2350, 2355, 2400]).round()"
   ]
  },
  {
   "cell_type": "code",
   "execution_count": 24,
   "id": "5af96513-b51f-41a3-aaaf-13c0db7f4e62",
   "metadata": {},
   "outputs": [
    {
     "data": {
      "text/plain": [
       "0     0.00\n",
       "1     3.03\n",
       "2    23.08\n",
       "3    23.92\n",
       "4     0.00\n",
       "dtype: float64"
      ]
     },
     "execution_count": 24,
     "metadata": {},
     "output_type": "execute_result"
    }
   ],
   "source": [
    "to_hours(s)"
   ]
  },
  {
   "cell_type": "code",
   "execution_count": null,
   "id": "93bd006f-1bbe-4815-83f6-335a3ab6fff4",
   "metadata": {},
   "outputs": [],
   "source": []
  }
 ],
 "metadata": {
  "kernelspec": {
   "display_name": "bootcamp",
   "language": "python",
   "name": "bootcamp"
  },
  "language_info": {
   "codemirror_mode": {
    "name": "ipython",
    "version": 3
   },
   "file_extension": ".py",
   "mimetype": "text/x-python",
   "name": "python",
   "nbconvert_exporter": "python",
   "pygments_lexer": "ipython3",
   "version": "3.8.5"
  }
 },
 "nbformat": 4,
 "nbformat_minor": 5
}
