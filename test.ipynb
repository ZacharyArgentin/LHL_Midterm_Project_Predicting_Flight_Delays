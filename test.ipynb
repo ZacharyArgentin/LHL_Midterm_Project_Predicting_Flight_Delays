{
  "nbformat": 4,
  "nbformat_minor": 5,
  "metadata": {
    "kernelspec": {
      "display_name": "bootcamp",
      "language": "python",
      "name": "bootcamp"
    },
    "language_info": {
      "codemirror_mode": {
        "name": "ipython",
        "version": 3
      },
      "file_extension": ".py",
      "mimetype": "text/x-python",
      "name": "python",
      "nbconvert_exporter": "python",
      "pygments_lexer": "ipython3",
      "version": "3.8.5"
    },
    "colab": {
      "name": "test.ipynb",
      "provenance": []
    }
  },
  "cells": [
    {
      "cell_type": "markdown",
      "metadata": {
        "id": "05bc0041"
      },
      "source": [
        "# Test Notebook"
      ],
      "id": "05bc0041"
    },
    {
      "cell_type": "code",
      "metadata": {
        "id": "a2cec762",
        "outputId": "5710f53a-8ac7-40bd-f7e6-cbb549d5bf24"
      },
      "source": [
        "print(\"Testing\")"
      ],
      "id": "a2cec762",
      "execution_count": null,
      "outputs": [
        {
          "name": "stdout",
          "output_type": "stream",
          "text": [
            "Testing\n"
          ]
        }
      ]
    },
    {
      "cell_type": "code",
      "metadata": {
        "id": "42656538",
        "outputId": "f294b7f1-fbca-4465-9f01-33c44218f769"
      },
      "source": [
        "2 + 2"
      ],
      "id": "42656538",
      "execution_count": null,
      "outputs": [
        {
          "data": {
            "text/plain": [
              "4"
            ]
          },
          "execution_count": 2,
          "metadata": {},
          "output_type": "execute_result"
        }
      ]
    },
    {
      "cell_type": "markdown",
      "metadata": {
        "id": "ITQdZDl-q6EX"
      },
      "source": [
        "### hmmm"
      ],
      "id": "ITQdZDl-q6EX"
    },
    {
      "cell_type": "code",
      "metadata": {
        "colab": {
          "base_uri": "https://localhost:8080/"
        },
        "id": "545fdaa4",
        "outputId": "7bed0d52-7dfe-4ea3-b04e-710aa84bbba6"
      },
      "source": [
        "print(\"This cell was edited on Google Collab\")"
      ],
      "id": "545fdaa4",
      "execution_count": 1,
      "outputs": [
        {
          "output_type": "stream",
          "text": [
            "This cell was edited on Google Collab\n"
          ],
          "name": "stdout"
        }
      ]
    }
  ]
}