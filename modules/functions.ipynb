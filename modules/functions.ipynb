{
 "cells": [
  {
   "cell_type": "markdown",
   "id": "36551d9a-7246-42d2-81e7-3f28dac11acf",
   "metadata": {},
   "source": [
    "# Functions"
   ]
  },
  {
   "cell_type": "code",
   "execution_count": 1,
   "id": "554b71fd-c617-4f78-b2b6-df6b1dc3bcce",
   "metadata": {},
   "outputs": [],
   "source": [
    "def scale_data(X, y):\n",
    "    scaler = StandardScaler()\n",
    "    X_scaled = scaler.fit_transform(X)\n",
    "    y_scaled = scaler.fit_transform(y.values.reshape(-1,1))\n",
    "    return X_scaled, y_scaled"
   ]
  },
  {
   "cell_type": "code",
   "execution_count": null,
   "id": "23768792-a84e-4850-82f3-fa496db1993f",
   "metadata": {},
   "outputs": [],
   "source": []
  },
  {
   "cell_type": "code",
   "execution_count": 2,
   "id": "16ac7502-82b3-41ee-a3bf-61334d2fd968",
   "metadata": {},
   "outputs": [],
   "source": [
    "def run_linear_regression(X, y):\n",
    "    \"\"\"\n",
    "    Run a linear regression.\n",
    "    \n",
    "    Parameters\n",
    "    ----------\n",
    "    X : Pandas DataFrame or numpy array of feature variables\n",
    "    \n",
    "    y : Pandas Series or numpy array of target variable\n",
    "    \n",
    "    Returns\n",
    "    -------\n",
    "    R**2 score, numpy array of predictions for the target variable \n",
    "    \"\"\"\n",
    "    X_test, X_train, y_test, y_train = train_test_split(X, y, train_size=0.8)\n",
    "    model = LinearRegression()\n",
    "    model = model.fit(X_train, y_train)\n",
    "    y_pred = model.predict(X_test)\n",
    "    r2 = model.score(X_test, y_test)\n",
    "    return r2, y_pred"
   ]
  },
  {
   "cell_type": "code",
   "execution_count": 3,
   "id": "134fae7b-d682-4ff4-91ae-d6d04493e996",
   "metadata": {},
   "outputs": [],
   "source": [
    "def run_polynomial_regression(X, y, degree):\n",
    "    poly = PolynomialFeatures(degree)\n",
    "    X = poly.fit_transform(X)\n",
    "    X_test, X_train, y_test, y_train = train_test_split(X, y, train_size=0.8)\n",
    "    model = LinearRegression()\n",
    "    model.fit(X_train, y_train)\n",
    "    y_pred = model.predict(X_test)\n",
    "    train_score = model.score(X_train, y_train)\n",
    "    test_score = model.score(X_test, y_test)\n",
    "    print(\"---Results---\")\n",
    "    print(f\"degree = {degree}\")\n",
    "    print(f\"Train score = {train_score}\")\n",
    "    print(f\"Test score = {test_score}\")\n",
    "    return y_pred, train_score, test_score"
   ]
  },
  {
   "cell_type": "code",
   "execution_count": null,
   "id": "acf636f3",
   "metadata": {},
   "outputs": [],
   "source": [
    "import datetime\n",
    "# This is how I used the functions to transform the original columns of the DataFrame, in that order.\n",
    "\n",
    "# df['crs_dep_time'] = create_flight_time(df, 'crs_dep_time')\n",
    "\n",
    "# df['dep_time'] = df['dep_time'].apply(time_format)\n",
    "\n",
    "# df['crs_arr_time'] = df['crs_arr_time'].apply(time_format)\n",
    "\n",
    "# df['arr_time'] = df['arr_time'].apply(time_format)"
   ]
  },
  {
   "cell_type": "code",
   "execution_count": null,
   "id": "6b3ffed8",
   "metadata": {},
   "outputs": [],
   "source": [
    "# Function that convert the 'HHMM' string to datetime.time \"1940 -> 19:40:00\"\n",
    "def time_format(chain):\n",
    "    if pd.isnull(chain):\n",
    "        return np.nan\n",
    "    else:\n",
    "        if chain == 2400: chain = 0\n",
    "        chain = \"{0:04d}\".format(int(chain))\n",
    "        time = datetime.time(int(chain[0:2]), int(chain[2:4]))\n",
    "        return time"
   ]
  },
  {
   "cell_type": "code",
   "execution_count": null,
   "id": "277412b9",
   "metadata": {},
   "outputs": [],
   "source": [
    "# Function that combines a date and time to produce a datetime.datetime\n",
    "def combine_date_time(x):\n",
    "    if pd.isnull(x[0]) or pd.isnull(x[1]):\n",
    "        return np.nan\n",
    "    else:\n",
    "        return datetime.datetime.combine(x[0],x[1])"
   ]
  },
  {
   "cell_type": "code",
   "execution_count": null,
   "id": "e4891b85",
   "metadata": {},
   "outputs": [],
   "source": [
    "# Function that combine two columns of the dataframe to create a datetime format \"1940 -> 2018-01-01 19:40:00\"\n",
    "def create_flight_time(df, col):    \n",
    "    list1 = []\n",
    "    for index, cols in df[['date', col]].iterrows():    \n",
    "        if pd.isnull(cols[1]):\n",
    "            list1.append(np.nan)\n",
    "        elif float(cols[1]) == 2400:\n",
    "            cols[0] += datetime.timedelta(days=1)\n",
    "            cols[1] = datetime.time(0,0)\n",
    "            list1.append(combine_date_time(cols))\n",
    "        else:\n",
    "            cols[1] = format_heure(cols[1])\n",
    "            list1.append(combine_date_time(cols))\n",
    "    return pd.Series(list1)"
   ]
  }
 ],
 "metadata": {
  "kernelspec": {
   "display_name": "bootcamp",
   "language": "python",
   "name": "bootcamp"
  },
  "language_info": {
   "codemirror_mode": {
    "name": "ipython",
    "version": 3
   },
   "file_extension": ".py",
   "mimetype": "text/x-python",
   "name": "python",
   "nbconvert_exporter": "python",
   "pygments_lexer": "ipython3",
   "version": "3.8.5"
  }
 },
 "nbformat": 4,
 "nbformat_minor": 5
}
